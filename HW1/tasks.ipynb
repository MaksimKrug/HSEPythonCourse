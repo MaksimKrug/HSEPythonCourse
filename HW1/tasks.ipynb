{
 "cells": [
  {
   "cell_type": "code",
   "execution_count": null,
   "metadata": {},
   "outputs": [],
   "source": [
    "from typing import List, Union, Tuple\n",
    "import numpy as np"
   ]
  },
  {
   "cell_type": "markdown",
   "metadata": {},
   "source": [
    "## Tasks"
   ]
  },
  {
   "cell_type": "code",
   "execution_count": null,
   "metadata": {},
   "outputs": [],
   "source": [
    "def task1(l: List[int]) -> List[int]:\n",
    "\n",
    "    raise NotImplementedError()"
   ]
  },
  {
   "cell_type": "code",
   "execution_count": null,
   "metadata": {},
   "outputs": [],
   "source": [
    "def task2(l: List[int]) -> List[int]:\n",
    "\n",
    "    raise NotImplementedError()"
   ]
  },
  {
   "cell_type": "code",
   "execution_count": null,
   "metadata": {},
   "outputs": [],
   "source": [
    "def task3(l: List[int]) -> bool:\n",
    "\n",
    "    raise NotImplementedError()"
   ]
  },
  {
   "cell_type": "code",
   "execution_count": null,
   "metadata": {},
   "outputs": [],
   "source": [
    "def task4(s: str) -> int:\n",
    "\n",
    "    raise NotImplementedError()"
   ]
  },
  {
   "cell_type": "code",
   "execution_count": null,
   "metadata": {},
   "outputs": [],
   "source": [
    "def task5(s: str) -> bool:\n",
    "\n",
    "    raise NotImplementedError()"
   ]
  },
  {
   "cell_type": "code",
   "execution_count": null,
   "metadata": {},
   "outputs": [],
   "source": [
    "def task6(s: str) -> int:\n",
    "\n",
    "    raise NotImplementedError()"
   ]
  },
  {
   "cell_type": "code",
   "execution_count": null,
   "metadata": {},
   "outputs": [],
   "source": [
    "def task7(s: str) -> int:\n",
    "\n",
    "    raise NotImplementedError()"
   ]
  },
  {
   "cell_type": "code",
   "execution_count": null,
   "metadata": {},
   "outputs": [],
   "source": [
    "class Statistics:\n",
    "    def __init__(self, data: Union[List[int|float], Tuple[int|float], np.ndarray[int|float]]):\n",
    "        \"\"\"\n",
    "        Пара моментов:\n",
    "            1. массив всегда 1D, т.е. просто вектор\n",
    "            2. степенями свободы можете принебречь\n",
    "        \"\"\"\n",
    "        self.data = data\n",
    "        \n",
    "    def calculate_mean(self) -> float | int:\n",
    "        # считаем среднюю от self.data\n",
    "        raise NotImplementedError()\n",
    "        \n",
    "    def calculate_median(self) -> float | int:\n",
    "        # считаем медиану от self.data\n",
    "        raise NotImplementedError()\n",
    "        \n",
    "    def calculate_mode(self) -> float | int:\n",
    "        # считаем моду от self.data\n",
    "        \"\"\"\n",
    "        в случае если два и более объекта встречаются одинаковое количество раз\n",
    "        модой будет наибольший из них\n",
    "        \n",
    "        Пример1:\n",
    "        data = [1,2,2,3]\n",
    "        out: 2\n",
    "        \n",
    "        Пример2:\n",
    "        data = [1,2,3]\n",
    "        out: 3\n",
    "        \"\"\"\n",
    "        raise NotImplementedError()\n",
    "    \n",
    "    def std(self) -> float | int:\n",
    "        # считаем стандартное отклонение (не дисперсию)\n",
    "        raise NotImplementedError()\n",
    "    \n",
    "    def iqr(self) -> float | int:\n",
    "        # считаем интерквартильный размах: https://shorturl.at/rsuBK\n",
    "        raise NotImplementedError()"
   ]
  },
  {
   "cell_type": "code",
   "execution_count": null,
   "metadata": {},
   "outputs": [],
   "source": [
    "def task9(n: int) -> None:\n",
    "    # Здесь надо с помощью print вывести ответ\n",
    "    \n",
    "    raise NotImplementedError()"
   ]
  },
  {
   "cell_type": "code",
   "execution_count": null,
   "metadata": {},
   "outputs": [],
   "source": [
    "def task10(matrix: np.ndarray) -> np.ndarray:\n",
    "    \n",
    "    raise NotImplementedError()"
   ]
  }
 ],
 "metadata": {
  "language_info": {
   "name": "python"
  }
 },
 "nbformat": 4,
 "nbformat_minor": 2
}
