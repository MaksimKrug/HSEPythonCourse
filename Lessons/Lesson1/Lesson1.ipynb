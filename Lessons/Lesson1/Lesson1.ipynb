{
 "cells": [
  {
   "cell_type": "markdown",
   "id": "03c755c4",
   "metadata": {
    "jp-MarkdownHeadingCollapsed": true
   },
   "source": [
    "# Как писать код в ноутбуке\n",
    "\n",
    "Разберем как писать код в ноутбуке (да и в python в целом), как писать комментарии.\n",
    "\n",
    "Как импортировать библиотеки, код работает сверху вниз, отступы вместо скобок, в питоне всё - объекты."
   ]
  },
  {
   "cell_type": "code",
   "execution_count": 1,
   "id": "691403b5",
   "metadata": {},
   "outputs": [
    {
     "name": "stdout",
     "output_type": "stream",
     "text": [
      "The Zen of Python, by Tim Peters\n",
      "\n",
      "Beautiful is better than ugly.\n",
      "Explicit is better than implicit.\n",
      "Simple is better than complex.\n",
      "Complex is better than complicated.\n",
      "Flat is better than nested.\n",
      "Sparse is better than dense.\n",
      "Readability counts.\n",
      "Special cases aren't special enough to break the rules.\n",
      "Although practicality beats purity.\n",
      "Errors should never pass silently.\n",
      "Unless explicitly silenced.\n",
      "In the face of ambiguity, refuse the temptation to guess.\n",
      "There should be one-- and preferably only one --obvious way to do it.\n",
      "Although that way may not be obvious at first unless you're Dutch.\n",
      "Now is better than never.\n",
      "Although never is often better than *right* now.\n",
      "If the implementation is hard to explain, it's a bad idea.\n",
      "If the implementation is easy to explain, it may be a good idea.\n",
      "Namespaces are one honking great idea -- let's do more of those!\n"
     ]
    }
   ],
   "source": [
    "import this"
   ]
  },
  {
   "cell_type": "code",
   "execution_count": 2,
   "id": "a754a182",
   "metadata": {},
   "outputs": [
    {
     "name": "stdout",
     "output_type": "stream",
     "text": [
      "Hello world!\n"
     ]
    }
   ],
   "source": [
    "print(\"Hello world!\")"
   ]
  },
  {
   "cell_type": "code",
   "execution_count": 3,
   "id": "68b57545",
   "metadata": {},
   "outputs": [
    {
     "name": "stdout",
     "output_type": "stream",
     "text": [
      "      *\n",
      "     / \\\n",
      "    /   \\\n",
      "   /     \\\n",
      "  /_______\\\n",
      "     |||\n",
      "     |||\n"
     ]
    }
   ],
   "source": [
    "# this script do something beautiful\n",
    "print(\"      *\")\n",
    "print(\"     / \\\\\")\n",
    "print(\"    /   \\\\\")\n",
    "print(\"   /     \\\\\")\n",
    "print(\"  /_______\\\\\")\n",
    "print(\"     |||\")\n",
    "print(\"     |||\")"
   ]
  },
  {
   "cell_type": "code",
   "execution_count": 4,
   "id": "0589d502",
   "metadata": {},
   "outputs": [
    {
     "name": "stdout",
     "output_type": "stream",
     "text": [
      "some text\n"
     ]
    }
   ],
   "source": [
    "print(\"some text\")"
   ]
  },
  {
   "cell_type": "code",
   "execution_count": 5,
   "id": "a78e5af3",
   "metadata": {},
   "outputs": [],
   "source": [
    "# print(\"some text\")\n",
    "# raise ValueError(\"error here\")"
   ]
  },
  {
   "cell_type": "code",
   "execution_count": 6,
   "id": "a11d3f06",
   "metadata": {},
   "outputs": [
    {
     "data": {
      "text/plain": [
       "'\\nprint(\"some text\")\\n'"
      ]
     },
     "execution_count": 6,
     "metadata": {},
     "output_type": "execute_result"
    }
   ],
   "source": [
    "\"\"\"\n",
    "print(\"some text\")\n",
    "\"\"\""
   ]
  },
  {
   "cell_type": "code",
   "execution_count": 7,
   "id": "449502ad",
   "metadata": {},
   "outputs": [
    {
     "data": {
      "text/plain": [
       "'print(\"some text\"))'"
      ]
     },
     "metadata": {},
     "output_type": "display_data"
    },
    {
     "name": "stdout",
     "output_type": "stream",
     "text": [
      "print(\"some text\")\n"
     ]
    }
   ],
   "source": [
    "# display VS print\n",
    "display(\"\"\"print(\"some text\"))\"\"\")\n",
    "\n",
    "print(\"\"\"print(\"some text\")\"\"\")"
   ]
  },
  {
   "cell_type": "code",
   "execution_count": 8,
   "id": "6f145ef9",
   "metadata": {},
   "outputs": [],
   "source": [
    "# notebook \"помнит\" ваше переменные\n",
    "a = 3"
   ]
  },
  {
   "cell_type": "code",
   "execution_count": 9,
   "id": "88482d5d",
   "metadata": {},
   "outputs": [
    {
     "data": {
      "text/plain": [
       "3"
      ]
     },
     "execution_count": 9,
     "metadata": {},
     "output_type": "execute_result"
    }
   ],
   "source": [
    "# в последующих ячейках она все еще существует\n",
    "a"
   ]
  },
  {
   "cell_type": "code",
   "execution_count": 10,
   "id": "f64b1d09",
   "metadata": {},
   "outputs": [
    {
     "name": "stdin",
     "output_type": "stream",
     "text": [
      " 123\n"
     ]
    },
    {
     "name": "stdout",
     "output_type": "stream",
     "text": [
      "Input: 123\n"
     ]
    }
   ],
   "source": [
    "# хочу подать что-то на вход\n",
    "val = input()\n",
    "\n",
    "print(f\"Input: {val}\")"
   ]
  },
  {
   "cell_type": "markdown",
   "id": "e180e095",
   "metadata": {
    "jp-MarkdownHeadingCollapsed": true
   },
   "source": [
    "# Типы данных: часть I\n",
    "\n",
    "Скалярные данные(с одним значением): int, float, bool, str."
   ]
  },
  {
   "cell_type": "code",
   "execution_count": 11,
   "id": "6b53ed77",
   "metadata": {},
   "outputs": [
    {
     "data": {
      "text/plain": [
       "int"
      ]
     },
     "execution_count": 11,
     "metadata": {},
     "output_type": "execute_result"
    }
   ],
   "source": [
    "# int\n",
    "i = 3\n",
    "type(i)"
   ]
  },
  {
   "cell_type": "code",
   "execution_count": 12,
   "id": "3967c6f1",
   "metadata": {},
   "outputs": [
    {
     "data": {
      "text/plain": [
       "float"
      ]
     },
     "execution_count": 12,
     "metadata": {},
     "output_type": "execute_result"
    }
   ],
   "source": [
    "# float\n",
    "f = 3.14\n",
    "type(f)"
   ]
  },
  {
   "cell_type": "code",
   "execution_count": 13,
   "id": "c76191cf",
   "metadata": {},
   "outputs": [
    {
     "name": "stdout",
     "output_type": "stream",
     "text": [
      "10.09999999999998\n",
      "10.1\n"
     ]
    }
   ],
   "source": [
    "# float problem\n",
    "# bad case\n",
    "i = 0.1\n",
    "for _ in range(100):\n",
    "    i += 0.1\n",
    "print(i)\n",
    "\n",
    "# better\n",
    "print(0.1 + 0.1*100)"
   ]
  },
  {
   "cell_type": "code",
   "execution_count": 14,
   "id": "5e2b3240",
   "metadata": {},
   "outputs": [
    {
     "data": {
      "text/plain": [
       "bool"
      ]
     },
     "execution_count": 14,
     "metadata": {},
     "output_type": "execute_result"
    }
   ],
   "source": [
    "# bool\n",
    "b = True\n",
    "type(b)"
   ]
  },
  {
   "cell_type": "code",
   "execution_count": 15,
   "id": "c7afef82",
   "metadata": {},
   "outputs": [
    {
     "name": "stdout",
     "output_type": "stream",
     "text": [
      "False\n",
      "True\n",
      "False True\n",
      "True False\n",
      "False True\n"
     ]
    }
   ],
   "source": [
    "# bool: логические операции\n",
    "t = True\n",
    "f = False\n",
    "\n",
    "print(t and f) # оба значения True\n",
    "print(t or f) # одно из значений True\n",
    "print(t & f, t & t) # & == and\n",
    "print(t | f, f | f) # | == or\n",
    "print(not t, not f)"
   ]
  },
  {
   "cell_type": "code",
   "execution_count": 16,
   "id": "5f493b32",
   "metadata": {},
   "outputs": [
    {
     "name": "stdout",
     "output_type": "stream",
     "text": [
      "True\n"
     ]
    },
    {
     "data": {
      "text/plain": [
       "str"
      ]
     },
     "execution_count": 16,
     "metadata": {},
     "output_type": "execute_result"
    }
   ],
   "source": [
    "# str\n",
    "s1 = \"some text\"\n",
    "s2 = 'some text'\n",
    "print(s1 == s2)\n",
    "type(s1)"
   ]
  },
  {
   "cell_type": "code",
   "execution_count": 17,
   "id": "8d956e1d",
   "metadata": {},
   "outputs": [
    {
     "data": {
      "text/plain": [
       "NoneType"
      ]
     },
     "execution_count": 17,
     "metadata": {},
     "output_type": "execute_result"
    }
   ],
   "source": [
    "# NoneType\n",
    "n = None\n",
    "type(n)"
   ]
  },
  {
   "cell_type": "code",
   "execution_count": 18,
   "id": "230444e3",
   "metadata": {},
   "outputs": [
    {
     "name": "stdout",
     "output_type": "stream",
     "text": [
      "3\n",
      "2727595082032\n",
      "\n",
      "some text\n",
      "2727671919152\n"
     ]
    }
   ],
   "source": [
    "# перезаписывание переменных\n",
    "a = 3\n",
    "print(a)\n",
    "print(id(a), end=\"\\n\\n\")\n",
    "\n",
    "a = \"some text\"\n",
    "print(a)\n",
    "print(id(a))"
   ]
  },
  {
   "cell_type": "code",
   "execution_count": 19,
   "id": "cfd3ce28",
   "metadata": {},
   "outputs": [
    {
     "name": "stdout",
     "output_type": "stream",
     "text": [
      "Maksim\n",
      "42\n"
     ]
    }
   ],
   "source": [
    "# как лучше называть переменную\n",
    "name = \"Maksim\" # better use name\n",
    "print(name)\n",
    "\n",
    "my_variable_not_informative_and_its_name_extremely_long_sorry_for_that = 42\n",
    "print(my_variable_not_informative_and_its_name_extremely_long_sorry_for_that)\n",
    "\n",
    "a_b = 123"
   ]
  },
  {
   "cell_type": "code",
   "execution_count": 20,
   "id": "473db162",
   "metadata": {},
   "outputs": [
    {
     "data": {
      "text/plain": [
       "\u001b[1;31mType:\u001b[0m        str\n",
       "\u001b[1;31mString form:\u001b[0m my text\n",
       "\u001b[1;31mLength:\u001b[0m      7\n",
       "\u001b[1;31mDocstring:\u001b[0m  \n",
       "str(object='') -> str\n",
       "str(bytes_or_buffer[, encoding[, errors]]) -> str\n",
       "\n",
       "Create a new string object from the given object. If encoding or\n",
       "errors is specified, then the object must expose a data buffer\n",
       "that will be decoded using the given encoding and error handler.\n",
       "Otherwise, returns the result of object.__str__() (if defined)\n",
       "or repr(object).\n",
       "encoding defaults to sys.getdefaultencoding().\n",
       "errors defaults to 'strict'."
      ]
     },
     "metadata": {},
     "output_type": "display_data"
    }
   ],
   "source": [
    "# интроспекция\n",
    "s = \"my text\"\n",
    "s?"
   ]
  },
  {
   "cell_type": "code",
   "execution_count": 21,
   "id": "7eb90eb8",
   "metadata": {
    "scrolled": true
   },
   "outputs": [
    {
     "data": {
      "text/plain": [
       "['__add__',\n",
       " '__class__',\n",
       " '__contains__',\n",
       " '__delattr__',\n",
       " '__dir__',\n",
       " '__doc__',\n",
       " '__eq__',\n",
       " '__format__',\n",
       " '__ge__',\n",
       " '__getattribute__',\n",
       " '__getitem__',\n",
       " '__getnewargs__',\n",
       " '__gt__',\n",
       " '__hash__',\n",
       " '__init__',\n",
       " '__init_subclass__',\n",
       " '__iter__',\n",
       " '__le__',\n",
       " '__len__',\n",
       " '__lt__',\n",
       " '__mod__',\n",
       " '__mul__',\n",
       " '__ne__',\n",
       " '__new__',\n",
       " '__reduce__',\n",
       " '__reduce_ex__',\n",
       " '__repr__',\n",
       " '__rmod__',\n",
       " '__rmul__',\n",
       " '__setattr__',\n",
       " '__sizeof__',\n",
       " '__str__',\n",
       " '__subclasshook__',\n",
       " 'capitalize',\n",
       " 'casefold',\n",
       " 'center',\n",
       " 'count',\n",
       " 'encode',\n",
       " 'endswith',\n",
       " 'expandtabs',\n",
       " 'find',\n",
       " 'format',\n",
       " 'format_map',\n",
       " 'index',\n",
       " 'isalnum',\n",
       " 'isalpha',\n",
       " 'isascii',\n",
       " 'isdecimal',\n",
       " 'isdigit',\n",
       " 'isidentifier',\n",
       " 'islower',\n",
       " 'isnumeric',\n",
       " 'isprintable',\n",
       " 'isspace',\n",
       " 'istitle',\n",
       " 'isupper',\n",
       " 'join',\n",
       " 'ljust',\n",
       " 'lower',\n",
       " 'lstrip',\n",
       " 'maketrans',\n",
       " 'partition',\n",
       " 'removeprefix',\n",
       " 'removesuffix',\n",
       " 'replace',\n",
       " 'rfind',\n",
       " 'rindex',\n",
       " 'rjust',\n",
       " 'rpartition',\n",
       " 'rsplit',\n",
       " 'rstrip',\n",
       " 'split',\n",
       " 'splitlines',\n",
       " 'startswith',\n",
       " 'strip',\n",
       " 'swapcase',\n",
       " 'title',\n",
       " 'translate',\n",
       " 'upper',\n",
       " 'zfill']"
      ]
     },
     "execution_count": 21,
     "metadata": {},
     "output_type": "execute_result"
    }
   ],
   "source": [
    "# аттрибуты\n",
    "s = \"my text\"\n",
    "dir(s)"
   ]
  },
  {
   "cell_type": "markdown",
   "id": "30705844",
   "metadata": {
    "jp-MarkdownHeadingCollapsed": true
   },
   "source": [
    "# Простые операции"
   ]
  },
  {
   "cell_type": "code",
   "execution_count": 22,
   "id": "871ca6bb",
   "metadata": {},
   "outputs": [
    {
     "name": "stdout",
     "output_type": "stream",
     "text": [
      "+ 5.5\n",
      "- 0.5\n",
      "* 7.5\n",
      "/ 1.2\n",
      "// 1.0\n",
      "% 0.5\n",
      "** 15.588457268119896\n"
     ]
    }
   ],
   "source": [
    "# простые операции\n",
    "a = 3\n",
    "b = 2.5\n",
    "\n",
    "print(\"+\", a + b)\n",
    "print(\"-\", a - b)\n",
    "print(\"*\", a * b)\n",
    "print(\"/\", a / b)\n",
    "print(\"//\", a // b)\n",
    "print(\"%\", a % b)\n",
    "print(\"**\", a ** b)"
   ]
  },
  {
   "cell_type": "code",
   "execution_count": 23,
   "id": "9e7a3ccc",
   "metadata": {},
   "outputs": [
    {
     "name": "stdout",
     "output_type": "stream",
     "text": [
      "8.0\n",
      "<class 'float'>\n",
      "<class 'int'>\n"
     ]
    }
   ],
   "source": [
    "# сводится к float\n",
    "print(a + b*2)\n",
    "print(type(a + b*2))\n",
    "\n",
    "print(type(3 + 6))"
   ]
  },
  {
   "cell_type": "code",
   "execution_count": 24,
   "id": "89a14534",
   "metadata": {},
   "outputs": [
    {
     "name": "stdout",
     "output_type": "stream",
     "text": [
      "== False\n",
      "!= True\n",
      "< False\n",
      "> True\n",
      "<= False\n",
      ">= True\n"
     ]
    }
   ],
   "source": [
    "# еще операции\n",
    "a = 5\n",
    "b = 2.5\n",
    "\n",
    "print(\"==\", a==b)\n",
    "print(\"!=\", a!=b)\n",
    "print(\"<\", a < b)\n",
    "print(\">\", a > b)\n",
    "print(\"<=\", a <= b)\n",
    "print(\">=\", a >= b)"
   ]
  },
  {
   "cell_type": "code",
   "execution_count": 25,
   "id": "e760322f",
   "metadata": {},
   "outputs": [
    {
     "name": "stdout",
     "output_type": "stream",
     "text": [
      "min 3\n",
      "max 5\n",
      "abs 3\n",
      "pow 9\n",
      "round 3.1235\n"
     ]
    }
   ],
   "source": [
    "# простые статистики\n",
    "print(\"min\", min(5, 3))\n",
    "print(\"max\", max(5, 3))\n",
    "print(\"abs\", abs(-3))\n",
    "print(\"pow\", pow(3, 2))\n",
    "print(\"round\", round(3.123456789, 4))"
   ]
  },
  {
   "cell_type": "code",
   "execution_count": 26,
   "id": "dd2174bf",
   "metadata": {},
   "outputs": [
    {
     "name": "stdout",
     "output_type": "stream",
     "text": [
      "True\n",
      "2727595082032 2727595082032\n",
      "\n",
      "False\n",
      "True\n",
      "2727595082032 2727670699728\n"
     ]
    }
   ],
   "source": [
    "# is & is not\n",
    "a = 3\n",
    "b = 3\n",
    "print(a is b)\n",
    "print(id(a), id(b))\n",
    "print()\n",
    "\n",
    "a = 3\n",
    "b = 3.0\n",
    "print(a is b)\n",
    "print(a is not b)\n",
    "print(id(a), id(b))"
   ]
  },
  {
   "cell_type": "code",
   "execution_count": 27,
   "id": "88faba43",
   "metadata": {},
   "outputs": [
    {
     "name": "stdout",
     "output_type": "stream",
     "text": [
      "7.5\n",
      "<class 'str'>\n"
     ]
    }
   ],
   "source": [
    "# как сочетаются переменные\n",
    "a = 5\n",
    "b = 2.5\n",
    "print(a + b)\n",
    "\n",
    "# print(a + \"123\")\n",
    "print(type(\"123\" + \"456\"))"
   ]
  },
  {
   "cell_type": "code",
   "execution_count": 28,
   "id": "3a5a1bf9",
   "metadata": {},
   "outputs": [
    {
     "name": "stdout",
     "output_type": "stream",
     "text": [
      "123abc\n",
      "123123123\n"
     ]
    }
   ],
   "source": [
    "# строки можно складывать и умножать\n",
    "s1 = \"123\"\n",
    "s2 = \"abc\"\n",
    "print(s1 + s2)\n",
    "print(s1 * 3)"
   ]
  },
  {
   "cell_type": "markdown",
   "id": "1c905f86",
   "metadata": {},
   "source": [
    "## Условные(тернарные) операторы"
   ]
  },
  {
   "cell_type": "code",
   "execution_count": 29,
   "id": "8c5b0fb9",
   "metadata": {},
   "outputs": [
    {
     "name": "stdout",
     "output_type": "stream",
     "text": [
      "a not equal b\n"
     ]
    }
   ],
   "source": [
    "# if else elif\n",
    "a = 5\n",
    "b = 3.5\n",
    "\n",
    "# using if else\n",
    "if a == b:\n",
    "    print(\"a equal b\")\n",
    "else:\n",
    "    # pass\n",
    "    print(\"a not equal b\")"
   ]
  },
  {
   "cell_type": "code",
   "execution_count": 30,
   "id": "81bb1685",
   "metadata": {},
   "outputs": [
    {
     "name": "stdout",
     "output_type": "stream",
     "text": [
      "a less than b\n"
     ]
    }
   ],
   "source": [
    "# using if elif else\n",
    "a = 3\n",
    "b = 8\n",
    "\n",
    "if a == b:\n",
    "    print(\"a equal b\")\n",
    "elif a < b:\n",
    "    print(\"a less than b\")\n",
    "elif a > b:\n",
    "    print(\"a more than b\")\n",
    "else:\n",
    "    print(\"well, what else????\")"
   ]
  },
  {
   "cell_type": "code",
   "execution_count": 31,
   "id": "bc8b8edd",
   "metadata": {},
   "outputs": [
    {
     "name": "stdout",
     "output_type": "stream",
     "text": [
      "False\n",
      "\n",
      "NotImplemented\n",
      "True\n"
     ]
    }
   ],
   "source": [
    "# го под капот\n",
    "a = 3\n",
    "b = 2\n",
    "\n",
    "print(a.__eq__(b))\n",
    "print()\n",
    "\n",
    "# а если b - float\n",
    "a = 3\n",
    "b = 3.0\n",
    "print(a.__eq__(b))\n",
    "print(b.__eq__(a))"
   ]
  },
  {
   "cell_type": "code",
   "execution_count": 32,
   "id": "3d0a7ff2",
   "metadata": {},
   "outputs": [
    {
     "name": "stdout",
     "output_type": "stream",
     "text": [
      "positive\n"
     ]
    }
   ],
   "source": [
    "# иногда можно в одну строчку\n",
    "x = 3\n",
    "result = \"positive\" if x > 0 else \"non-positive\"\n",
    "print(result)"
   ]
  },
  {
   "cell_type": "code",
   "execution_count": 33,
   "id": "76d5acbe",
   "metadata": {},
   "outputs": [
    {
     "name": "stdout",
     "output_type": "stream",
     "text": [
      "Value is something else\n"
     ]
    }
   ],
   "source": [
    "# match (from python>=3.10)\n",
    "value = 3\n",
    "match value:\n",
    "    case 1:\n",
    "        print(\"Value is 1\")\n",
    "    case 2:\n",
    "        print(\"Value is 2\")\n",
    "    case _:\n",
    "        print(\"Value is something else\")"
   ]
  },
  {
   "cell_type": "code",
   "execution_count": 34,
   "id": "64ffffc8",
   "metadata": {},
   "outputs": [
    {
     "name": "stdout",
     "output_type": "stream",
     "text": [
      "Got a string: str\n"
     ]
    }
   ],
   "source": [
    "# check data type\n",
    "data = \"str\"\n",
    "match data:\n",
    "    case str(s):\n",
    "        print(\"Got a string:\", s)\n",
    "    case int(n):\n",
    "        print(\"Got an integer:\", n)\n",
    "    case _:\n",
    "        print(\"Got something else\")"
   ]
  },
  {
   "cell_type": "code",
   "execution_count": 35,
   "id": "fb752378",
   "metadata": {},
   "outputs": [
    {
     "name": "stdout",
     "output_type": "stream",
     "text": [
      "Excellent!\n"
     ]
    }
   ],
   "source": [
    "# combine match and if else statements\n",
    "grade = 100\n",
    "match grade:\n",
    "    case x if x >= 90:\n",
    "        print(\"Excellent!\")\n",
    "    case x if 80 <= x < 90:\n",
    "        print(\"Good job!\")\n",
    "    case x if 70 <= x < 80:\n",
    "        print(\"Fair enough.\")\n",
    "    case _:\n",
    "        print(\"You need to work harder.\")"
   ]
  },
  {
   "cell_type": "markdown",
   "id": "2bf1144c",
   "metadata": {},
   "source": [
    "## Задачки\n",
    "\n",
    "1. Расчет площади прямоугольника - написать программу, которая принимает на вход длину и ширину прямоугольника и выводит его площадь. Вход должен подаваться через input().\n",
    "\n",
    "2. Расчет среднего двух чисел - написать программу, которая принимает на вход два числа и считает их среднее.\n",
    "\n",
    "3. Калькулятор - принимаем на вход два числа и операцию, если операция валидна (+, -, \\*, /) - выводит ответ, иначе пишет что не может посчитать."
   ]
  },
  {
   "cell_type": "code",
   "execution_count": 36,
   "id": "4703f89b",
   "metadata": {},
   "outputs": [
    {
     "name": "stdin",
     "output_type": "stream",
     "text": [
      " 2\n",
      " 3\n"
     ]
    },
    {
     "name": "stdout",
     "output_type": "stream",
     "text": [
      "Площадь прямоугольника: 6.0\n"
     ]
    }
   ],
   "source": [
    "# пример решения первой задачки\n",
    "length = float(input())\n",
    "width = float(input())\n",
    "print(f\"Площадь прямоугольника: {width*length}\")"
   ]
  },
  {
   "cell_type": "markdown",
   "id": "d151b9bf",
   "metadata": {},
   "source": [
    "# Типы данных: часть II"
   ]
  },
  {
   "cell_type": "markdown",
   "id": "70e186bb",
   "metadata": {
    "jp-MarkdownHeadingCollapsed": true
   },
   "source": [
    "### List & Tuple"
   ]
  },
  {
   "cell_type": "code",
   "execution_count": 37,
   "id": "3033e0bc",
   "metadata": {},
   "outputs": [],
   "source": [
    "from copy import copy, deepcopy"
   ]
  },
  {
   "cell_type": "code",
   "execution_count": 38,
   "id": "21a38113",
   "metadata": {},
   "outputs": [
    {
     "name": "stdout",
     "output_type": "stream",
     "text": [
      "[1, 2, 3, 4, 5]\n",
      "(1, 2, 3, 4, 5)\n",
      "5\n",
      "5\n"
     ]
    }
   ],
   "source": [
    "# list & tuple\n",
    "l = [1,2,3,4,5]\n",
    "t = (1,2,3,4,5)\n",
    "\n",
    "print(l)\n",
    "print(t)\n",
    "print(len(l))\n",
    "print(len(t))"
   ]
  },
  {
   "cell_type": "code",
   "execution_count": 39,
   "id": "bad254bd",
   "metadata": {},
   "outputs": [
    {
     "name": "stdout",
     "output_type": "stream",
     "text": [
      "1\n",
      "5\n",
      "[1, 2]\n",
      "[1, 2]\n",
      "[3, 4, 5]\n",
      "[1, 3, 5]\n",
      "[5, 3, 1]\n"
     ]
    }
   ],
   "source": [
    "# как обращаться к значениям\n",
    "print(l[0])\n",
    "print(l[-1])\n",
    "print(l[0:2])\n",
    "print(l[:2])\n",
    "print(l[2:])\n",
    "print(l[::2])\n",
    "print(l[-1::-2])"
   ]
  },
  {
   "cell_type": "code",
   "execution_count": 40,
   "id": "9ecff9d3",
   "metadata": {},
   "outputs": [
    {
     "name": "stdout",
     "output_type": "stream",
     "text": [
      "7\n",
      "text my\n"
     ]
    }
   ],
   "source": [
    "# у строки тоже есть слайсы\n",
    "s = \"my text\"\n",
    "print(len(s))\n",
    "print(s[3:] + \" \" + s[:2])"
   ]
  },
  {
   "cell_type": "code",
   "execution_count": 41,
   "id": "f7083ec4",
   "metadata": {},
   "outputs": [
    {
     "name": "stdout",
     "output_type": "stream",
     "text": [
      "[1, 2, 3, 4, 5]\n",
      "[1, 42, 3, 4, 5]\n"
     ]
    }
   ],
   "source": [
    "# list - изменяемый\n",
    "print(l)\n",
    "l[1] = 42\n",
    "print(l)"
   ]
  },
  {
   "cell_type": "code",
   "execution_count": 42,
   "id": "fa4664e7",
   "metadata": {},
   "outputs": [
    {
     "name": "stdout",
     "output_type": "stream",
     "text": [
      "(1, 2, 3, 4, 5)\n"
     ]
    },
    {
     "ename": "TypeError",
     "evalue": "'tuple' object does not support item assignment",
     "output_type": "error",
     "traceback": [
      "\u001b[1;31m---------------------------------------------------------------------------\u001b[0m",
      "\u001b[1;31mTypeError\u001b[0m                                 Traceback (most recent call last)",
      "Cell \u001b[1;32mIn[42], line 3\u001b[0m\n\u001b[0;32m      1\u001b[0m \u001b[38;5;66;03m# tuple - нет\u001b[39;00m\n\u001b[0;32m      2\u001b[0m \u001b[38;5;28mprint\u001b[39m(t)\n\u001b[1;32m----> 3\u001b[0m \u001b[43mt\u001b[49m\u001b[43m[\u001b[49m\u001b[38;5;241;43m1\u001b[39;49m\u001b[43m]\u001b[49m \u001b[38;5;241m=\u001b[39m \u001b[38;5;241m42\u001b[39m\n\u001b[0;32m      4\u001b[0m \u001b[38;5;28mprint\u001b[39m(t)\n",
      "\u001b[1;31mTypeError\u001b[0m: 'tuple' object does not support item assignment"
     ]
    }
   ],
   "source": [
    "# tuple - нет\n",
    "print(t)\n",
    "t[1] = 42\n",
    "print(t)"
   ]
  },
  {
   "cell_type": "code",
   "execution_count": 43,
   "id": "e29a96a9",
   "metadata": {},
   "outputs": [
    {
     "name": "stdout",
     "output_type": "stream",
     "text": [
      "(1, 2, 3, 4, 5)\n"
     ]
    }
   ],
   "source": [
    "# tuple все еще тот же\n",
    "print(t)"
   ]
  },
  {
   "cell_type": "code",
   "execution_count": 44,
   "id": "ac3650a7",
   "metadata": {},
   "outputs": [
    {
     "name": "stdout",
     "output_type": "stream",
     "text": [
      "([1, 2, 3], 4, 5)\n"
     ]
    },
    {
     "ename": "TypeError",
     "evalue": "'tuple' object does not support item assignment",
     "output_type": "error",
     "traceback": [
      "\u001b[1;31m---------------------------------------------------------------------------\u001b[0m",
      "\u001b[1;31mTypeError\u001b[0m                                 Traceback (most recent call last)",
      "Cell \u001b[1;32mIn[44], line 5\u001b[0m\n\u001b[0;32m      2\u001b[0m t \u001b[38;5;241m=\u001b[39m ([\u001b[38;5;241m1\u001b[39m,\u001b[38;5;241m2\u001b[39m,\u001b[38;5;241m3\u001b[39m], \u001b[38;5;241m4\u001b[39m, \u001b[38;5;241m5\u001b[39m)\n\u001b[0;32m      3\u001b[0m \u001b[38;5;28mprint\u001b[39m(t)\n\u001b[1;32m----> 5\u001b[0m \u001b[43mt\u001b[49m\u001b[43m[\u001b[49m\u001b[38;5;241;43m0\u001b[39;49m\u001b[43m]\u001b[49m \u001b[38;5;241m=\u001b[39m [\u001b[38;5;241m3\u001b[39m,\u001b[38;5;241m2\u001b[39m,\u001b[38;5;241m1\u001b[39m]\n",
      "\u001b[1;31mTypeError\u001b[0m: 'tuple' object does not support item assignment"
     ]
    }
   ],
   "source": [
    "# типо баг\n",
    "t = ([1,2,3], 4, 5)\n",
    "print(t)\n",
    "\n",
    "t[0] = [3,2,1]"
   ]
  },
  {
   "cell_type": "code",
   "execution_count": 45,
   "id": "2ffbcae9",
   "metadata": {},
   "outputs": [
    {
     "name": "stdout",
     "output_type": "stream",
     "text": [
      "([1, 42, 3], 4, 5)\n"
     ]
    }
   ],
   "source": [
    "# а если вот так\n",
    "t[0][1] = 42\n",
    "print(t)"
   ]
  },
  {
   "cell_type": "code",
   "execution_count": 46,
   "id": "4265fff0",
   "metadata": {},
   "outputs": [
    {
     "name": "stdout",
     "output_type": "stream",
     "text": [
      "[1, 2, 3, 4, 5]\n",
      "[1, 2, 3, 4, 5]\n",
      "\n",
      "[1, 42, 3, 4, 5]\n",
      "[1, 42, 3, 4, 5]\n",
      "\n",
      "[1, 42, 14, 4, 5]\n",
      "[1, 42, 14, 4, 5]\n",
      "\n",
      "2727693485184\n",
      "2727693485184\n"
     ]
    }
   ],
   "source": [
    "# \"ловушка\" с присвоением\n",
    "l = [1,2,3,4,5]\n",
    "l2 = l\n",
    "print(l)\n",
    "print(l2)\n",
    "print()\n",
    "\n",
    "l2[1] = 42\n",
    "print(l)\n",
    "print(l2)\n",
    "print()\n",
    "\n",
    "l[2] = 14\n",
    "print(l)\n",
    "print(l2)\n",
    "print()\n",
    "\n",
    "print(id(l))\n",
    "print(id(l2))"
   ]
  },
  {
   "cell_type": "code",
   "execution_count": 47,
   "id": "da47d954",
   "metadata": {},
   "outputs": [
    {
     "name": "stdout",
     "output_type": "stream",
     "text": [
      "2727693497600\n",
      "2727693497600\n",
      "2727693484480\n",
      "2727693470272\n"
     ]
    }
   ],
   "source": [
    "# как работает под капотом: id(list)\n",
    "a = [1,2,3]\n",
    "print(id(a))\n",
    "\n",
    "b = a\n",
    "print(id(b))\n",
    "\n",
    "c = copy(a)\n",
    "print(id(c))\n",
    "\n",
    "d = deepcopy(a)\n",
    "print(id(d))"
   ]
  },
  {
   "cell_type": "code",
   "execution_count": 48,
   "id": "c8d62beb",
   "metadata": {},
   "outputs": [
    {
     "name": "stdout",
     "output_type": "stream",
     "text": [
      "2727693776384\n",
      "2727693776384\n",
      "2727693776384\n",
      "2727693776384\n"
     ]
    }
   ],
   "source": [
    "# как работает под капотом: id(tuple)\n",
    "a = (1,2,3)\n",
    "print(id(a))\n",
    "\n",
    "b = a\n",
    "print(id(b))\n",
    "\n",
    "c = copy(a)\n",
    "print(id(c))\n",
    "\n",
    "d = deepcopy(a)\n",
    "print(id(d))"
   ]
  },
  {
   "cell_type": "code",
   "execution_count": 49,
   "id": "ad7b07cf",
   "metadata": {},
   "outputs": [
    {
     "name": "stdout",
     "output_type": "stream",
     "text": [
      "[[1, 42, 3], [4, 5, 6]]\n",
      "[[1, 42, 3], [4, 5, 6]]\n",
      "\n",
      "[[1, 2, 3], [4, 5, 6]]\n",
      "[[1, 42, 3], [4, 5, 6]]\n",
      "\n"
     ]
    }
   ],
   "source": [
    "# copy vs deepcopy\n",
    "a = [[1,2,3], [4,5,6]]\n",
    "b = copy(a)\n",
    "b[0][1] = 42\n",
    "print(a)\n",
    "print(b)\n",
    "print()\n",
    "\n",
    "a = [[1,2,3], [4,5,6]]\n",
    "b = deepcopy(a)\n",
    "b[0][1] = 42\n",
    "print(a)\n",
    "print(b)\n",
    "print()"
   ]
  },
  {
   "cell_type": "code",
   "execution_count": 50,
   "id": "cac55591",
   "metadata": {},
   "outputs": [
    {
     "name": "stdout",
     "output_type": "stream",
     "text": [
      "15\n",
      "5\n",
      "1\n",
      "\n",
      "[1, 2, 3, 4, 5, 6]\n"
     ]
    },
    {
     "ename": "TypeError",
     "evalue": "can only concatenate list (not \"tuple\") to list",
     "output_type": "error",
     "traceback": [
      "\u001b[1;31m---------------------------------------------------------------------------\u001b[0m",
      "\u001b[1;31mTypeError\u001b[0m                                 Traceback (most recent call last)",
      "Cell \u001b[1;32mIn[50], line 13\u001b[0m\n\u001b[0;32m     11\u001b[0m b \u001b[38;5;241m=\u001b[39m [\u001b[38;5;241m4\u001b[39m,\u001b[38;5;241m5\u001b[39m,\u001b[38;5;241m6\u001b[39m]\n\u001b[0;32m     12\u001b[0m \u001b[38;5;28mprint\u001b[39m(a\u001b[38;5;241m+\u001b[39mb)\n\u001b[1;32m---> 13\u001b[0m \u001b[38;5;28mprint\u001b[39m(\u001b[43ma\u001b[49m\u001b[38;5;241;43m+\u001b[39;49m\u001b[43m(\u001b[49m\u001b[38;5;241;43m4\u001b[39;49m\u001b[43m,\u001b[49m\u001b[38;5;241;43m5\u001b[39;49m\u001b[43m,\u001b[49m\u001b[38;5;241;43m6\u001b[39;49m\u001b[43m)\u001b[49m)\n",
      "\u001b[1;31mTypeError\u001b[0m: can only concatenate list (not \"tuple\") to list"
     ]
    }
   ],
   "source": [
    "# всякие операции\n",
    "l = [1,2,3,4,5]\n",
    "\n",
    "print(sum(l))\n",
    "print(max(l))\n",
    "print(min(l))\n",
    "print()\n",
    "\n",
    "# сложение списков\n",
    "a = [1,2,3]\n",
    "b = [4,5,6]\n",
    "print(a+b)\n",
    "print(a+(4,5,6))"
   ]
  },
  {
   "cell_type": "markdown",
   "id": "f8332f33",
   "metadata": {},
   "source": [
    "### Опять задачки\n",
    "\n",
    "1. Дана одна строка - найти является ли она палиндромом (читается одинаково слева направо и справа налево)\n",
    "2. Напишите программу, принимающую на вход целое число, которая выводит True, если переданное значение попадает в интервал: \n",
    "$$\n",
    "(−15,12]\\cup(14,17)∪[19,+∞)\n",
    "$$\n",
    "3. Даны два списка из двух элементов, проверить что они содержат одинаковые элементы"
   ]
  },
  {
   "cell_type": "code",
   "execution_count": 51,
   "id": "e5244ffb",
   "metadata": {},
   "outputs": [
    {
     "name": "stdout",
     "output_type": "stream",
     "text": [
      "True\n",
      "False\n"
     ]
    }
   ],
   "source": [
    "# для второй задачи входные данные напишите сами\n",
    "a = [1,2]\n",
    "b = [2,1]\n",
    "print(True)\n",
    "\n",
    "a = [1,1]\n",
    "b = [2,1]\n",
    "print(False)"
   ]
  }
 ],
 "metadata": {
  "kernelspec": {
   "display_name": "Python 3 (ipykernel)",
   "language": "python",
   "name": "python3"
  },
  "language_info": {
   "codemirror_mode": {
    "name": "ipython",
    "version": 3
   },
   "file_extension": ".py",
   "mimetype": "text/x-python",
   "name": "python",
   "nbconvert_exporter": "python",
   "pygments_lexer": "ipython3",
   "version": "3.10.14"
  }
 },
 "nbformat": 4,
 "nbformat_minor": 5
}
