{
 "cells": [
  {
   "cell_type": "markdown",
   "id": "9a734b77",
   "metadata": {},
   "source": [
    "# Agenda\n",
    "1. Environment\n",
    "2. Numpy\n",
    "3. Задачки"
   ]
  },
  {
   "cell_type": "code",
   "execution_count": 1,
   "id": "1beabfb2",
   "metadata": {},
   "outputs": [],
   "source": [
    "import numpy as np\n",
    "import sys"
   ]
  },
  {
   "cell_type": "markdown",
   "id": "70fbfc82",
   "metadata": {},
   "source": [
    "Numpy - это библиотека Python, которая предоставляет поддержку многомерных массивов и высокоэффективные функции для работы с ними. Вот несколько преимуществ использования Numpy:\n",
    "\n",
    "**Высокая производительность:** Numpy реализован на языке программирования C, что делает его очень быстрым и эффективным при выполнении операций над массивами данных. Он предоставляет возможность выполнять операции с массивами целочисленных данных гораздо быстрее, чем это было бы возможно с использованием стандартных списков Python.\n",
    "\n",
    "**Массивы данных большого размера:** Numpy позволяет эффективно работать с многомерными массивами данных, что особенно полезно при обработке больших объемов данных в научных вычислениях, машинном обучении и других приложениях.\n",
    "\n",
    "**Богатый функционал:** В Numpy встроено множество функций для работы с массивами, включая математические операции, логические операции, сортировку, фильтрацию, статистические операции и многое другое. Это делает работу с данными более удобной и эффективной.\n",
    "\n",
    "**Интеграция с другими библиотеками:** Numpy является частью экосистемы Python для научных вычислений, которая включает также библиотеки как SciPy, Matplotlib, Pandas и другие. Он широко используется в научных и инженерных приложениях благодаря своей мощности и удобству использования.\n",
    "\n",
    "**Поддержка броадкастинга:** Броадкастинг - это мощная функция Numpy, которая автоматически расширяет размеры массивов, чтобы они соответствовали друг другу при выполнении операций. Это позволяет писать более компактный и читаемый код без явного расширения массивов."
   ]
  },
  {
   "cell_type": "code",
   "execution_count": 2,
   "id": "317c03f6",
   "metadata": {},
   "outputs": [
    {
     "name": "stdout",
     "output_type": "stream",
     "text": [
      "4000112\n",
      "8000056\n"
     ]
    }
   ],
   "source": [
    "a = np.array(list(range(1_000_000)))\n",
    "a2 = np.array(list(range(1_000_000)))\n",
    "\n",
    "b = list(range(1_000_000))\n",
    "b2 = list(range(1_000_000))\n",
    "\n",
    "print(sys.getsizeof(a))\n",
    "print(sys.getsizeof(b))"
   ]
  },
  {
   "cell_type": "code",
   "execution_count": 3,
   "id": "052fa82a",
   "metadata": {},
   "outputs": [
    {
     "name": "stdout",
     "output_type": "stream",
     "text": [
      "30.7 µs ± 993 ns per loop (mean ± std. dev. of 7 runs, 10,000 loops each)\n",
      "2.07 ms ± 56.5 µs per loop (mean ± std. dev. of 7 runs, 1,000 loops each)\n"
     ]
    }
   ],
   "source": [
    "%timeit np.sum(a[1000:100_000])\n",
    "%timeit sum(b[1000:100_000])"
   ]
  },
  {
   "cell_type": "code",
   "execution_count": 4,
   "id": "74506b9b",
   "metadata": {},
   "outputs": [
    {
     "name": "stdout",
     "output_type": "stream",
     "text": [
      "2.14 ms ± 107 µs per loop (mean ± std. dev. of 7 runs, 100 loops each)\n",
      "105 ms ± 1.31 ms per loop (mean ± std. dev. of 7 runs, 10 loops each)\n"
     ]
    }
   ],
   "source": [
    "%timeit a * a2\n",
    "%timeit [i*j for i,j in zip(b, b2)]"
   ]
  },
  {
   "cell_type": "markdown",
   "id": "c7186268",
   "metadata": {},
   "source": [
    "## Numpy 101"
   ]
  },
  {
   "cell_type": "code",
   "execution_count": 8,
   "id": "56adf6cf-b43c-4fdf-9599-0e9359eeea39",
   "metadata": {},
   "outputs": [
    {
     "data": {
      "text/plain": [
       "array([1, 2, 3])"
      ]
     },
     "execution_count": 8,
     "metadata": {},
     "output_type": "execute_result"
    }
   ],
   "source": [
    "# создание массива\n",
    "np.array([1,2,3])"
   ]
  },
  {
   "cell_type": "code",
   "execution_count": 9,
   "id": "2176e5ea",
   "metadata": {},
   "outputs": [
    {
     "data": {
      "text/plain": [
       "array([[1, 2, 3],\n",
       "       [4, 5, 6]])"
      ]
     },
     "metadata": {},
     "output_type": "display_data"
    },
    {
     "name": "stdout",
     "output_type": "stream",
     "text": [
      "[[1 2 3]\n",
      " [4 5 6]]\n",
      "[[1, 2, 3], [4, 5, 6]]\n"
     ]
    }
   ],
   "source": [
    "# создание массива\n",
    "data = np.array([[1,2,3], [4,5,6]])\n",
    "\n",
    "display(data)\n",
    "print(data)\n",
    "print([[1,2,3], [4,5,6]])"
   ]
  },
  {
   "cell_type": "code",
   "execution_count": 11,
   "id": "c40464bb",
   "metadata": {},
   "outputs": [
    {
     "ename": "ValueError",
     "evalue": "setting an array element with a sequence. The requested array has an inhomogeneous shape after 1 dimensions. The detected shape was (2,) + inhomogeneous part.",
     "output_type": "error",
     "traceback": [
      "\u001b[1;31m---------------------------------------------------------------------------\u001b[0m",
      "\u001b[1;31mValueError\u001b[0m                                Traceback (most recent call last)",
      "Cell \u001b[1;32mIn[11], line 2\u001b[0m\n\u001b[0;32m      1\u001b[0m \u001b[38;5;66;03m# размерность должна быть одинаковой\u001b[39;00m\n\u001b[1;32m----> 2\u001b[0m \u001b[43mnp\u001b[49m\u001b[38;5;241;43m.\u001b[39;49m\u001b[43marray\u001b[49m\u001b[43m(\u001b[49m\u001b[43m[\u001b[49m\u001b[43m[\u001b[49m\u001b[38;5;241;43m1\u001b[39;49m\u001b[43m,\u001b[49m\u001b[38;5;241;43m2\u001b[39;49m\u001b[43m,\u001b[49m\u001b[38;5;241;43m3\u001b[39;49m\u001b[43m]\u001b[49m\u001b[43m,\u001b[49m\u001b[43m \u001b[49m\u001b[43m[\u001b[49m\u001b[38;5;241;43m4\u001b[39;49m\u001b[43m,\u001b[49m\u001b[38;5;241;43m5\u001b[39;49m\u001b[43m]\u001b[49m\u001b[43m]\u001b[49m\u001b[43m)\u001b[49m\n",
      "\u001b[1;31mValueError\u001b[0m: setting an array element with a sequence. The requested array has an inhomogeneous shape after 1 dimensions. The detected shape was (2,) + inhomogeneous part."
     ]
    }
   ],
   "source": [
    "# размерность должна быть одинаковой\n",
    "np.array([[1,2,3], [4,5]])"
   ]
  },
  {
   "cell_type": "code",
   "execution_count": 12,
   "id": "8407b3c7",
   "metadata": {},
   "outputs": [
    {
     "data": {
      "text/plain": [
       "array([[43, 44, 45],\n",
       "       [46, 47, 48]])"
      ]
     },
     "metadata": {},
     "output_type": "display_data"
    },
    {
     "data": {
      "text/plain": [
       "array([[ 2,  4,  6],\n",
       "       [ 8, 10, 12]])"
      ]
     },
     "metadata": {},
     "output_type": "display_data"
    },
    {
     "data": {
      "text/plain": [
       "array([[ 3,  6,  9],\n",
       "       [12, 15, 18]])"
      ]
     },
     "metadata": {},
     "output_type": "display_data"
    },
    {
     "data": {
      "text/plain": [
       "array([[14, 32],\n",
       "       [32, 77]])"
      ]
     },
     "metadata": {},
     "output_type": "display_data"
    }
   ],
   "source": [
    "# простые операции\n",
    "display(data + 42)\n",
    "display(data + data)\n",
    "display(data * 3)\n",
    "display(data @ data.T)"
   ]
  },
  {
   "cell_type": "code",
   "execution_count": 15,
   "id": "702ff9bb",
   "metadata": {},
   "outputs": [
    {
     "name": "stdout",
     "output_type": "stream",
     "text": [
      "(2, 3)\n",
      "2\n"
     ]
    }
   ],
   "source": [
    "# размерность массива\n",
    "print(data.shape)\n",
    "print(data.ndim)"
   ]
  },
  {
   "cell_type": "code",
   "execution_count": 17,
   "id": "0c8c9f24",
   "metadata": {},
   "outputs": [
    {
     "data": {
      "text/plain": [
       "array(['1', '1'], dtype='<U11')"
      ]
     },
     "metadata": {},
     "output_type": "display_data"
    },
    {
     "data": {
      "text/plain": [
       "array(['1', 'a'], dtype='<U11')"
      ]
     },
     "metadata": {},
     "output_type": "display_data"
    },
    {
     "data": {
      "text/plain": [
       "array([1. , 2.5])"
      ]
     },
     "metadata": {},
     "output_type": "display_data"
    },
    {
     "data": {
      "text/plain": [
       "dtype('int32')"
      ]
     },
     "execution_count": 17,
     "metadata": {},
     "output_type": "execute_result"
    }
   ],
   "source": [
    "# dtype\n",
    "display(np.array([1, \"1\", ]))\n",
    "display(np.array([1, \"a\", ]))\n",
    "display(np.array([1, 2.5, ]))\n",
    "\n",
    "data.dtype"
   ]
  },
  {
   "cell_type": "code",
   "execution_count": 21,
   "id": "cbff715a",
   "metadata": {},
   "outputs": [
    {
     "data": {
      "text/plain": [
       "array(['1', '1'], dtype='<U11')"
      ]
     },
     "metadata": {},
     "output_type": "display_data"
    },
    {
     "data": {
      "text/plain": [
       "array([1, 1])"
      ]
     },
     "metadata": {},
     "output_type": "display_data"
    }
   ],
   "source": [
    "# change type\n",
    "a = np.array([1, \"1\"])\n",
    "display(a)\n",
    "\n",
    "display(a.astype(int))"
   ]
  },
  {
   "cell_type": "code",
   "execution_count": 11,
   "id": "57f17719",
   "metadata": {},
   "outputs": [
    {
     "name": "stdout",
     "output_type": "stream",
     "text": [
      "7.6295013427734375 int64\n",
      "\n",
      "3.8148040771484375 int32\n",
      "\n",
      "1.9074554443359375 float16\n",
      "[ 0.  1.  2. ... inf inf inf]\n"
     ]
    },
    {
     "name": "stderr",
     "output_type": "stream",
     "text": [
      "/tmp/ipykernel_5050/2491280215.py:8: RuntimeWarning: overflow encountered in cast\n",
      "  a = np.array(list(range(1_000_000)), dtype=np.float16)\n"
     ]
    }
   ],
   "source": [
    "# size\n",
    "a = np.array(list(range(1_000_000)))\n",
    "print(sys.getsizeof(a) / (1024*1024), a.dtype, end=\"\\n\\n\")\n",
    "\n",
    "a = np.array(list(range(1_000_000)), dtype=np.int32)\n",
    "print(sys.getsizeof(a) / (1024*1024), a.dtype, end=\"\\n\\n\")\n",
    "\n",
    "a = np.array(list(range(1_000_000)), dtype=np.float16)\n",
    "print(sys.getsizeof(a) / (1024*1024), a.dtype)\n",
    "print(a)"
   ]
  },
  {
   "cell_type": "code",
   "execution_count": 31,
   "id": "1d6594cd",
   "metadata": {},
   "outputs": [
    {
     "data": {
      "text/plain": [
       "array([[[0., 0., 0.],\n",
       "        [0., 0., 0.]]])"
      ]
     },
     "metadata": {},
     "output_type": "display_data"
    },
    {
     "name": "stdout",
     "output_type": "stream",
     "text": [
      "(1, 2, 3)\n"
     ]
    }
   ],
   "source": [
    "# специальные массивы\n",
    "a = np.zeros((1,2,3))\n",
    "display(a)\n",
    "print(a.shape)"
   ]
  },
  {
   "cell_type": "code",
   "execution_count": 29,
   "id": "4f890b2a",
   "metadata": {},
   "outputs": [
    {
     "data": {
      "text/plain": [
       "array([[[1.],\n",
       "        [1.]],\n",
       "\n",
       "       [[1.],\n",
       "        [1.]],\n",
       "\n",
       "       [[1.],\n",
       "        [1.]]])"
      ]
     },
     "metadata": {},
     "output_type": "display_data"
    },
    {
     "name": "stdout",
     "output_type": "stream",
     "text": [
      "(3, 2, 1)\n"
     ]
    }
   ],
   "source": [
    "# специальные массивы\n",
    "a = np.ones((3,2,1))\n",
    "display(a)\n",
    "print(a.shape)"
   ]
  },
  {
   "cell_type": "code",
   "execution_count": 33,
   "id": "07230a20",
   "metadata": {},
   "outputs": [
    {
     "data": {
      "text/plain": [
       "array([[0., 0., 0.],\n",
       "       [0., 0., 0.]])"
      ]
     },
     "metadata": {},
     "output_type": "display_data"
    },
    {
     "name": "stdout",
     "output_type": "stream",
     "text": [
      "(2, 3)\n"
     ]
    }
   ],
   "source": [
    "# специальные массивы\n",
    "a = np.empty((2,3))\n",
    "display(a)\n",
    "print(a.shape)"
   ]
  },
  {
   "cell_type": "code",
   "execution_count": 36,
   "id": "e53b83ae",
   "metadata": {},
   "outputs": [
    {
     "data": {
      "text/plain": [
       "array([42, 42])"
      ]
     },
     "metadata": {},
     "output_type": "display_data"
    },
    {
     "name": "stdout",
     "output_type": "stream",
     "text": [
      "(2,)\n"
     ]
    }
   ],
   "source": [
    "# специальные массивы\n",
    "a = np.full(2, fill_value=42)\n",
    "display(a)\n",
    "print(a.shape)"
   ]
  },
  {
   "cell_type": "code",
   "execution_count": 37,
   "id": "112f5eb0",
   "metadata": {},
   "outputs": [
    {
     "data": {
      "text/plain": [
       "array([[1., 0., 0.],\n",
       "       [0., 1., 0.],\n",
       "       [0., 0., 1.]])"
      ]
     },
     "metadata": {},
     "output_type": "display_data"
    },
    {
     "name": "stdout",
     "output_type": "stream",
     "text": [
      "(3, 3)\n"
     ]
    }
   ],
   "source": [
    "# специальные массивы\n",
    "a = np.identity(3)\n",
    "display(a)\n",
    "print(a.shape)"
   ]
  },
  {
   "cell_type": "code",
   "execution_count": 17,
   "id": "2ee3beaf",
   "metadata": {},
   "outputs": [
    {
     "data": {
      "text/plain": [
       "array([[1., 0., 0., 0.],\n",
       "       [0., 1., 0., 0.],\n",
       "       [0., 0., 1., 0.]])"
      ]
     },
     "metadata": {},
     "output_type": "display_data"
    },
    {
     "name": "stdout",
     "output_type": "stream",
     "text": [
      "(3, 4)\n"
     ]
    }
   ],
   "source": [
    "# специальные массивы\n",
    "a = np.eye(3, 4)\n",
    "display(a)\n",
    "print(a.shape)"
   ]
  },
  {
   "cell_type": "code",
   "execution_count": 18,
   "id": "7557d8bd",
   "metadata": {},
   "outputs": [
    {
     "data": {
      "text/plain": [
       "array([-2.5, -2. , -1.5, -1. , -0.5,  0. ,  0.5,  1. ])"
      ]
     },
     "metadata": {},
     "output_type": "display_data"
    },
    {
     "data": {
      "text/plain": [
       "array([-2.5, -2. , -1.5, -1. , -0.5,  0. ,  0.5,  1. ,  1.5])"
      ]
     },
     "metadata": {},
     "output_type": "display_data"
    },
    {
     "data": {
      "text/plain": [
       "array([-2.5, -2. , -1.5, -1. , -0.5,  0. ,  0.5,  1. ])"
      ]
     },
     "metadata": {},
     "output_type": "display_data"
    }
   ],
   "source": [
    "# np.arange\n",
    "display(np.arange(-2.5, 1.5, 0.5))\n",
    "display(np.arange(-2.5, 1.5+1e-6, 0.5))\n",
    "display(np.arange(-2.5, 1.5+1e-20, 0.5))"
   ]
  },
  {
   "cell_type": "markdown",
   "id": "8f732fdb",
   "metadata": {},
   "source": [
    "**функции создания массива**\n",
    "\n",
    "|||\n",
    "|---|---|\n",
    "|array| копирует данные |\n",
    "|asarray| не копирует данные |\n",
    "|arange| аналог range, возвращает массив |\n",
    "|ones, ones_like | возвращает массив из единиц, ones_like - \"копирует\" размероность другого массива |\n",
    "|zeros, zeros_like | массив нулей |\n",
    "|empty, empty_like | выделяют память под новые массивы |\n",
    "|full, full_like | заполняет массив заданным значением |\n",
    "|eye, identity | единичная матрица |"
   ]
  },
  {
   "cell_type": "markdown",
   "id": "42a24861",
   "metadata": {},
   "source": [
    "## Элементарные операции с массивами"
   ]
  },
  {
   "cell_type": "code",
   "execution_count": 38,
   "id": "bfb2761b",
   "metadata": {},
   "outputs": [
    {
     "data": {
      "text/plain": [
       "array([[1, 2, 3],\n",
       "       [4, 5, 6]])"
      ]
     },
     "execution_count": 38,
     "metadata": {},
     "output_type": "execute_result"
    }
   ],
   "source": [
    "# создадим массив\n",
    "data = np.array([[1,2,3],\n",
    "                 [4,5,6]])\n",
    "data"
   ]
  },
  {
   "cell_type": "code",
   "execution_count": 20,
   "id": "197129cf",
   "metadata": {},
   "outputs": [
    {
     "data": {
      "text/plain": [
       "array([[4, 5, 6],\n",
       "       [7, 8, 9]])"
      ]
     },
     "metadata": {},
     "output_type": "display_data"
    },
    {
     "data": {
      "text/plain": [
       "array([[-2, -1,  0],\n",
       "       [ 1,  2,  3]])"
      ]
     },
     "metadata": {},
     "output_type": "display_data"
    },
    {
     "data": {
      "text/plain": [
       "array([[ 3,  6,  9],\n",
       "       [12, 15, 18]])"
      ]
     },
     "metadata": {},
     "output_type": "display_data"
    },
    {
     "data": {
      "text/plain": [
       "array([[0.33333333, 0.66666667, 1.        ],\n",
       "       [1.33333333, 1.66666667, 2.        ]])"
      ]
     },
     "metadata": {},
     "output_type": "display_data"
    },
    {
     "data": {
      "text/plain": [
       "array([[0, 0, 1],\n",
       "       [1, 1, 2]])"
      ]
     },
     "metadata": {},
     "output_type": "display_data"
    },
    {
     "data": {
      "text/plain": [
       "array([[1, 2, 0],\n",
       "       [1, 2, 0]])"
      ]
     },
     "metadata": {},
     "output_type": "display_data"
    }
   ],
   "source": [
    "# + - * / // % (скаляр) - применяются к каждому элементу массива\n",
    "display(data + 3)\n",
    "display(data - 3)\n",
    "display(data * 3)\n",
    "display(data / 3)\n",
    "display(data // 3)\n",
    "display(data % 3)"
   ]
  },
  {
   "cell_type": "code",
   "execution_count": 21,
   "id": "cd25d8a5",
   "metadata": {},
   "outputs": [
    {
     "data": {
      "text/plain": [
       "array([[ 2,  4,  6],\n",
       "       [ 8, 10, 12]])"
      ]
     },
     "metadata": {},
     "output_type": "display_data"
    },
    {
     "data": {
      "text/plain": [
       "array([[0, 0, 0],\n",
       "       [0, 0, 0]])"
      ]
     },
     "metadata": {},
     "output_type": "display_data"
    },
    {
     "data": {
      "text/plain": [
       "array([[ 1,  4,  9],\n",
       "       [16, 25, 36]])"
      ]
     },
     "metadata": {},
     "output_type": "display_data"
    },
    {
     "data": {
      "text/plain": [
       "array([[1., 1., 1.],\n",
       "       [1., 1., 1.]])"
      ]
     },
     "metadata": {},
     "output_type": "display_data"
    },
    {
     "data": {
      "text/plain": [
       "array([[1, 1, 1],\n",
       "       [1, 1, 1]])"
      ]
     },
     "metadata": {},
     "output_type": "display_data"
    },
    {
     "data": {
      "text/plain": [
       "array([[0, 0, 0],\n",
       "       [0, 0, 0]])"
      ]
     },
     "metadata": {},
     "output_type": "display_data"
    }
   ],
   "source": [
    "# + - * / // % (массив) - применяется к каждой паре элементов массива\n",
    "display(data + data)\n",
    "display(data - data)\n",
    "display(data * data)\n",
    "display(data / data)\n",
    "display(data // data)\n",
    "display(data % data)"
   ]
  },
  {
   "cell_type": "code",
   "execution_count": 22,
   "id": "268229ba",
   "metadata": {},
   "outputs": [
    {
     "data": {
      "text/plain": [
       "array([[False,  True,  True],\n",
       "       [ True,  True,  True]])"
      ]
     },
     "metadata": {},
     "output_type": "display_data"
    },
    {
     "data": {
      "text/plain": [
       "array([[ True,  True,  True],\n",
       "       [False,  True,  True]])"
      ]
     },
     "metadata": {},
     "output_type": "display_data"
    }
   ],
   "source": [
    "# > < >= <= !=\n",
    "display(data >= 2)\n",
    "display(data != 4)"
   ]
  },
  {
   "cell_type": "code",
   "execution_count": 23,
   "id": "b614ae71",
   "metadata": {},
   "outputs": [
    {
     "data": {
      "text/plain": [
       "array([[1, 2],\n",
       "       [3, 4],\n",
       "       [5, 6]])"
      ]
     },
     "metadata": {},
     "output_type": "display_data"
    },
    {
     "data": {
      "text/plain": [
       "array([[1, 2, 3, 4, 5, 6]])"
      ]
     },
     "metadata": {},
     "output_type": "display_data"
    },
    {
     "data": {
      "text/plain": [
       "array([1, 2, 3, 4, 5, 6])"
      ]
     },
     "metadata": {},
     "output_type": "display_data"
    },
    {
     "ename": "ValueError",
     "evalue": "cannot reshape array of size 6 into shape (4,2)",
     "output_type": "error",
     "traceback": [
      "\u001b[0;31m---------------------------------------------------------------------------\u001b[0m",
      "\u001b[0;31mValueError\u001b[0m                                Traceback (most recent call last)",
      "Cell \u001b[0;32mIn[23], line 5\u001b[0m\n\u001b[1;32m      3\u001b[0m display(data\u001b[38;5;241m.\u001b[39mreshape(\u001b[38;5;241m1\u001b[39m, \u001b[38;5;241m-\u001b[39m\u001b[38;5;241m1\u001b[39m))\n\u001b[1;32m      4\u001b[0m display(data\u001b[38;5;241m.\u001b[39mflatten())\n\u001b[0;32m----> 5\u001b[0m display(\u001b[43mdata\u001b[49m\u001b[38;5;241;43m.\u001b[39;49m\u001b[43mreshape\u001b[49m\u001b[43m(\u001b[49m\u001b[38;5;241;43m4\u001b[39;49m\u001b[43m,\u001b[49m\u001b[38;5;241;43m2\u001b[39;49m\u001b[43m)\u001b[49m)\n",
      "\u001b[0;31mValueError\u001b[0m: cannot reshape array of size 6 into shape (4,2)"
     ]
    }
   ],
   "source": [
    "# reshape\n",
    "display(data.reshape(3,2))\n",
    "display(data.reshape(1, -1))\n",
    "display(data.flatten())\n",
    "display(data.reshape(4,2))"
   ]
  },
  {
   "cell_type": "code",
   "execution_count": 53,
   "id": "d0d6309a",
   "metadata": {},
   "outputs": [
    {
     "data": {
      "text/plain": [
       "3"
      ]
     },
     "metadata": {},
     "output_type": "display_data"
    },
    {
     "data": {
      "text/plain": [
       "array([1, 2, 3])"
      ]
     },
     "metadata": {},
     "output_type": "display_data"
    },
    {
     "data": {
      "text/plain": [
       "array([2, 5])"
      ]
     },
     "metadata": {},
     "output_type": "display_data"
    },
    {
     "data": {
      "text/plain": [
       "array([[2],\n",
       "       [5]])"
      ]
     },
     "metadata": {},
     "output_type": "display_data"
    }
   ],
   "source": [
    "# slices\n",
    "display(data[0, 2]) # первая строка, третий элемент\n",
    "display(data[0, :]) # первая строка\n",
    "display(data[:, 1]) # второй столбец\n",
    "display(data[:, 1:-1]) # второй столбец"
   ]
  },
  {
   "cell_type": "code",
   "execution_count": 54,
   "id": "3752dadb",
   "metadata": {},
   "outputs": [
    {
     "data": {
      "text/plain": [
       "array([[[ 0,  1,  2],\n",
       "        [ 3,  4,  5]],\n",
       "\n",
       "       [[ 6,  7,  8],\n",
       "        [ 9, 10, 11]]])"
      ]
     },
     "metadata": {},
     "output_type": "display_data"
    },
    {
     "data": {
      "text/plain": [
       "array([[0, 1, 2],\n",
       "       [6, 7, 8]])"
      ]
     },
     "metadata": {},
     "output_type": "display_data"
    },
    {
     "data": {
      "text/plain": [
       "array([[0, 3],\n",
       "       [6, 9]])"
      ]
     },
     "metadata": {},
     "output_type": "display_data"
    },
    {
     "data": {
      "text/plain": [
       "array([[ 1,  4],\n",
       "       [ 7, 10]])"
      ]
     },
     "metadata": {},
     "output_type": "display_data"
    }
   ],
   "source": [
    "# slices\n",
    "arr = np.array(range(12))\n",
    "arr.resize(2,2,3) # inplace\n",
    "display(arr)\n",
    "\n",
    "display(arr[:, 0, :])\n",
    "display(arr[..., 0])\n",
    "display(arr[..., 1])"
   ]
  },
  {
   "cell_type": "markdown",
   "id": "f39b954d",
   "metadata": {},
   "source": [
    "## Операции с массивами"
   ]
  },
  {
   "cell_type": "code",
   "execution_count": 55,
   "id": "fbe202e4",
   "metadata": {},
   "outputs": [
    {
     "data": {
      "text/plain": [
       "array([[1, 2, 3],\n",
       "       [4, 5, 6]])"
      ]
     },
     "execution_count": 55,
     "metadata": {},
     "output_type": "execute_result"
    }
   ],
   "source": [
    "data"
   ]
  },
  {
   "cell_type": "code",
   "execution_count": 27,
   "id": "43b8d432",
   "metadata": {},
   "outputs": [
    {
     "data": {
      "text/plain": [
       "array([2., 5.])"
      ]
     },
     "metadata": {},
     "output_type": "display_data"
    },
    {
     "data": {
      "text/plain": [
       "array([2.5, 3.5, 4.5])"
      ]
     },
     "metadata": {},
     "output_type": "display_data"
    }
   ],
   "source": [
    "# как считаются статистики\n",
    "display(np.apply_along_axis(np.mean, 1, data))\n",
    "display(np.apply_along_axis(np.mean, 0, data))"
   ]
  },
  {
   "cell_type": "code",
   "execution_count": 28,
   "id": "0cc7581d",
   "metadata": {},
   "outputs": [
    {
     "name": "stdout",
     "output_type": "stream",
     "text": [
      "3.5\n",
      "[2.5 3.5 4.5]\n",
      "[1 4] 6\n",
      "[0.66666667 0.66666667]\n"
     ]
    }
   ],
   "source": [
    "# расчет статистик\n",
    "print(np.mean(data))\n",
    "print(np.median(data, axis=0))\n",
    "print(np.min(data, axis=1), np.max(data))\n",
    "print(np.var(data, axis=1))"
   ]
  },
  {
   "cell_type": "code",
   "execution_count": 29,
   "id": "e64945c1",
   "metadata": {},
   "outputs": [
    {
     "data": {
      "text/plain": [
       "array([[ 5,  7,  9],\n",
       "       [ 8, 10, 12]])"
      ]
     },
     "metadata": {},
     "output_type": "display_data"
    }
   ],
   "source": [
    "# broadcasting\n",
    "arr1 = np.array([1, 2, 3])\n",
    "arr2 = np.array([[4, 5, 6],\n",
    "                 [7, 8, 9]])\n",
    "\n",
    "display(arr1 + arr2)"
   ]
  },
  {
   "cell_type": "code",
   "execution_count": 30,
   "id": "ded8b591",
   "metadata": {},
   "outputs": [
    {
     "data": {
      "text/plain": [
       "array([1, 2, 3, 4, 5, 6, 7, 8])"
      ]
     },
     "metadata": {},
     "output_type": "display_data"
    },
    {
     "data": {
      "text/plain": [
       "array([4, 5])"
      ]
     },
     "metadata": {},
     "output_type": "display_data"
    },
    {
     "data": {
      "text/plain": [
       "array([1, 2, 3])"
      ]
     },
     "metadata": {},
     "output_type": "display_data"
    },
    {
     "data": {
      "text/plain": [
       "array([1, 2, 3, 6, 7, 8])"
      ]
     },
     "metadata": {},
     "output_type": "display_data"
    }
   ],
   "source": [
    "# работа с множествами\n",
    "arr1 = np.array([1, 2, 3, 4, 5])\n",
    "arr2 = np.array([4, 5, 6, 7, 8])\n",
    "\n",
    "display(np.union1d(arr1, arr2))\n",
    "display(np.intersect1d(arr1, arr2))\n",
    "display(np.setdiff1d(arr1, arr2))\n",
    "display(np.setxor1d(arr1, arr2))"
   ]
  },
  {
   "cell_type": "code",
   "execution_count": 60,
   "id": "6b247f59",
   "metadata": {},
   "outputs": [
    {
     "data": {
      "text/plain": [
       "array([[0.03479693, 0.31327393],\n",
       "       [0.90986422, 0.08794436]])"
      ]
     },
     "metadata": {},
     "output_type": "display_data"
    },
    {
     "data": {
      "text/plain": [
       "array([[3, 9],\n",
       "       [3, 1]])"
      ]
     },
     "metadata": {},
     "output_type": "display_data"
    }
   ],
   "source": [
    "# генерация случайных чисел\n",
    "display(np.random.rand(2, 2))  # Случайные числа из равномерного распределения на [0, 1)\n",
    "display(np.random.randint(1, 10, size=(2, 2)))  # Целые числа в диапазоне [1, 10)"
   ]
  },
  {
   "cell_type": "code",
   "execution_count": 71,
   "id": "f6b76ab3",
   "metadata": {},
   "outputs": [
    {
     "data": {
      "text/plain": [
       "array([-1,  1,  2,  3,  4])"
      ]
     },
     "metadata": {},
     "output_type": "display_data"
    },
    {
     "data": {
      "text/plain": [
       "(array([-1,  1,  2,  3,  4]), array([1, 2, 1, 1, 2], dtype=int64))"
      ]
     },
     "metadata": {},
     "output_type": "display_data"
    }
   ],
   "source": [
    "# np.unique\n",
    "arr = np.array([1,2,1,3,4,4,-1])\n",
    "display(np.unique(arr))\n",
    "display(np.unique(arr, return_counts=True))"
   ]
  },
  {
   "cell_type": "code",
   "execution_count": 74,
   "id": "c34ddbc2",
   "metadata": {},
   "outputs": [
    {
     "data": {
      "text/plain": [
       "(array([3, 4, 5], dtype=int64),)"
      ]
     },
     "metadata": {},
     "output_type": "display_data"
    },
    {
     "data": {
      "text/plain": [
       "array([ 1,  2,  1, 42, 42, 42, -1])"
      ]
     },
     "metadata": {},
     "output_type": "display_data"
    }
   ],
   "source": [
    "# np.where\n",
    "display(np.where(arr >= 3))\n",
    "display(np.where(arr >= 3, 42, arr))"
   ]
  },
  {
   "cell_type": "markdown",
   "id": "e863b8cb",
   "metadata": {},
   "source": [
    "## Задачки"
   ]
  },
  {
   "cell_type": "code",
   "execution_count": 75,
   "id": "8ec2fb37",
   "metadata": {},
   "outputs": [],
   "source": [
    "from typing import Union, Optional, List, Tuple"
   ]
  },
  {
   "cell_type": "code",
   "execution_count": 81,
   "id": "03cd1b76",
   "metadata": {},
   "outputs": [
    {
     "ename": "NotImplementedError",
     "evalue": "Надо написать расчет",
     "output_type": "error",
     "traceback": [
      "\u001b[1;31m---------------------------------------------------------------------------\u001b[0m",
      "\u001b[1;31mNotImplementedError\u001b[0m                       Traceback (most recent call last)",
      "Cell \u001b[1;32mIn[81], line 34\u001b[0m\n\u001b[0;32m     32\u001b[0m \u001b[38;5;66;03m# check\u001b[39;00m\n\u001b[0;32m     33\u001b[0m obj \u001b[38;5;241m=\u001b[39m Statistics([\u001b[38;5;241m1\u001b[39m,\u001b[38;5;241m2\u001b[39m,\u001b[38;5;241m3\u001b[39m])\n\u001b[1;32m---> 34\u001b[0m \u001b[43mobj\u001b[49m\u001b[38;5;241;43m.\u001b[39;49m\u001b[43mcalculate_mean\u001b[49m\u001b[43m(\u001b[49m\u001b[43m)\u001b[49m\n",
      "Cell \u001b[1;32mIn[81], line 10\u001b[0m, in \u001b[0;36mStatistics.calculate_mean\u001b[1;34m(self)\u001b[0m\n\u001b[0;32m      8\u001b[0m \u001b[38;5;28;01mdef\u001b[39;00m \u001b[38;5;21mcalculate_mean\u001b[39m(\u001b[38;5;28mself\u001b[39m) \u001b[38;5;241m-\u001b[39m\u001b[38;5;241m>\u001b[39m \u001b[38;5;28mfloat\u001b[39m \u001b[38;5;241m|\u001b[39m \u001b[38;5;28mint\u001b[39m:\n\u001b[0;32m      9\u001b[0m     \u001b[38;5;66;03m# считаем среднюю от self.data\u001b[39;00m\n\u001b[1;32m---> 10\u001b[0m     \u001b[38;5;28;01mraise\u001b[39;00m \u001b[38;5;167;01mNotImplementedError\u001b[39;00m(\u001b[38;5;124m\"\u001b[39m\u001b[38;5;124mНадо написать расчет\u001b[39m\u001b[38;5;124m\"\u001b[39m)\n",
      "\u001b[1;31mNotImplementedError\u001b[0m: Надо написать расчет"
     ]
    }
   ],
   "source": [
    "# Написать класс для расчета статистик\n",
    "# inp: 1D Union[List[int|float], Tuple[int|float], np.ndarray[int|float]]\n",
    "class Statistics:\n",
    "    def __init__(self, data: Union[List[int|float], Tuple[int|float], np.ndarray[int|float]]):\n",
    "        # convert \n",
    "        self.data = data\n",
    "        \n",
    "    def calculate_mean(self) -> float | int:\n",
    "        # считаем среднюю от self.data\n",
    "        raise NotImplementedError(\"Надо написать расчет\")\n",
    "        \n",
    "    def calculate_median(self) -> float | int:\n",
    "        # считаем медиану от self.data\n",
    "        raise NotImplementedError(\"Надо написать расчет\")\n",
    "        \n",
    "    def calculate_mode(self) -> float | int:\n",
    "        # считаем моду от self.data\n",
    "        \"\"\"\n",
    "        в случае если два и более объекта встречаются одинаковое количество раз\n",
    "        модой будет наибольший из них\n",
    "        \n",
    "        Пример1:\n",
    "        data = [1,2,2,3]\n",
    "        out: 2\n",
    "        \n",
    "        Пример2:\n",
    "        data = [1,2,3]\n",
    "        out: 3\n",
    "        \"\"\"\n",
    "        raise NotImplementedError(\"Надо написать расчет\")\n",
    "        \n",
    "# check\n",
    "obj = Statistics([1,2,3])\n",
    "obj.calculate_mean()"
   ]
  },
  {
   "cell_type": "code",
   "execution_count": 114,
   "id": "f6a700ad-4221-4f63-b393-f9fbf969f701",
   "metadata": {},
   "outputs": [
    {
     "name": "stdout",
     "output_type": "stream",
     "text": [
      "2.0\n",
      "2.5\n",
      "2\n"
     ]
    }
   ],
   "source": [
    "class Statistics:\n",
    "    def __init__(self, data: Union[List[int|float], Tuple[int|float], np.ndarray[int|float]]):\n",
    "        # convert \n",
    "        self.data = np.asarray(data)\n",
    "        \n",
    "    def calculate_mean(self) -> float | int:\n",
    "        # считаем среднюю от self.data\n",
    "        return self.data.mean()\n",
    "        \n",
    "    def calculate_median(self) -> float | int:\n",
    "        # считаем медиану от self.data\n",
    "        return np.median(self.data)\n",
    "        \n",
    "    def calculate_mode(self) -> float | int:\n",
    "        # считаем моду от self.data\n",
    "        \"\"\"\n",
    "        в случае если два и более объекта встречаются одинаковое количество раз\n",
    "        модой будет наибольший из них\n",
    "        \n",
    "        Пример1:\n",
    "        data = [1,2,2,3]\n",
    "        out: 2\n",
    "        \n",
    "        Пример2:\n",
    "        data = [1,2,3]\n",
    "        out: 3\n",
    "        \"\"\"\n",
    "        unique_elements, counts = np.unique(data, return_counts=True)\n",
    "        max_elements_indexes = np.where(counts == counts.max())[0]\n",
    "        mode = unique_elements[max_elements_indexes]\n",
    "        return max(mode)\n",
    "        # raise NotImplementedError(\"Надо написать расчет\")\n",
    "\n",
    "# check\n",
    "obj = Statistics([-1,2,3,4])\n",
    "print(obj.calculate_mean())\n",
    "print(obj.calculate_median())\n",
    "print(obj.calculate_mode())"
   ]
  },
  {
   "cell_type": "code",
   "execution_count": 36,
   "id": "6bfbc06b",
   "metadata": {},
   "outputs": [
    {
     "data": {
      "text/plain": [
       "2.0"
      ]
     },
     "execution_count": 36,
     "metadata": {},
     "output_type": "execute_result"
    }
   ],
   "source": [
    "class StatisticNew(Statistics):\n",
    "    def calculate_mean(self):\n",
    "#         return np.mean(self.data)\n",
    "        return self.data.mean()\n",
    "    \n",
    "# check\n",
    "obj = StatisticNew(np.array([1,2,3]))\n",
    "obj.calculate_mean()"
   ]
  },
  {
   "cell_type": "code",
   "execution_count": 37,
   "id": "707d7f85",
   "metadata": {},
   "outputs": [
    {
     "ename": "AttributeError",
     "evalue": "'list' object has no attribute 'mean'",
     "output_type": "error",
     "traceback": [
      "\u001b[0;31m---------------------------------------------------------------------------\u001b[0m",
      "\u001b[0;31mAttributeError\u001b[0m                            Traceback (most recent call last)",
      "Cell \u001b[0;32mIn[37], line 3\u001b[0m\n\u001b[1;32m      1\u001b[0m \u001b[38;5;66;03m# check\u001b[39;00m\n\u001b[1;32m      2\u001b[0m obj \u001b[38;5;241m=\u001b[39m StatisticNew([\u001b[38;5;241m1\u001b[39m,\u001b[38;5;241m2\u001b[39m,\u001b[38;5;241m3\u001b[39m])\n\u001b[0;32m----> 3\u001b[0m \u001b[43mobj\u001b[49m\u001b[38;5;241;43m.\u001b[39;49m\u001b[43mcalculate_mean\u001b[49m\u001b[43m(\u001b[49m\u001b[43m)\u001b[49m\n",
      "Cell \u001b[0;32mIn[36], line 4\u001b[0m, in \u001b[0;36mStatisticNew.calculate_mean\u001b[0;34m(self)\u001b[0m\n\u001b[1;32m      2\u001b[0m     \u001b[38;5;28;01mdef\u001b[39;00m \u001b[38;5;21mcalculate_mean\u001b[39m(\u001b[38;5;28mself\u001b[39m):\n\u001b[1;32m      3\u001b[0m \u001b[38;5;66;03m#         return np.mean(self.data)\u001b[39;00m\n\u001b[0;32m----> 4\u001b[0m         \u001b[38;5;28;01mreturn\u001b[39;00m \u001b[38;5;28;43mself\u001b[39;49m\u001b[38;5;241;43m.\u001b[39;49m\u001b[43mdata\u001b[49m\u001b[38;5;241;43m.\u001b[39;49m\u001b[43mmean\u001b[49m()\n",
      "\u001b[0;31mAttributeError\u001b[0m: 'list' object has no attribute 'mean'"
     ]
    }
   ],
   "source": [
    "# check\n",
    "obj = StatisticNew([1,2,3])\n",
    "obj.calculate_mean()"
   ]
  },
  {
   "cell_type": "markdown",
   "id": "8ed88346",
   "metadata": {},
   "source": [
    "**Задачки numpy**\n",
    "\n",
    "I. Дан np.ndarray чисел, найти индексы всех максимальных элементов в массиве.\n",
    "\n",
    "Пример:\\\n",
    "inp: np.asarray([1,2,3,3,2,-1])\\\n",
    "out: [2,3]\n",
    "\n",
    "II. Найти второй максимальный элемент в массиве.\n",
    "\n",
    "\n",
    "Пример:\\\n",
    "inp: np.asarray([1,2,3,3,2,-1])\\\n",
    "N - (2, 1_0000_000)\\\n",
    "out: 2\n",
    "\n",
    "\n",
    "III. Даны два [1,2]-мерных массива, найдите евклидово расстояние между ними. Ответ сократите используя round до 3 знаков после запятой.\n",
    "\n",
    "Пример1:\\\n",
    "inp:\\\n",
    "    arr1=np.asarray([1,2,3])\\\n",
    "    arr2=np.asarray([2,3,42])\\\n",
    "out: [39.025]\n",
    "\n",
    "Пример2:\\\n",
    "inp:\n",
    "    arr1 = np.array([[1, 2], [3, 4], [5, 6]])\\\n",
    "    arr2 = np.array([[2, 3], [4, 5], [6, 7]])\\\n",
    "out: [1.41421356, 1.41421356, 1.41421356]"
   ]
  },
  {
   "cell_type": "code",
   "execution_count": 181,
   "id": "beb2a92d-e282-4f2d-9953-bb964a4c092f",
   "metadata": {},
   "outputs": [
    {
     "data": {
      "text/plain": [
       "array([0, 3], dtype=int64)"
      ]
     },
     "execution_count": 181,
     "metadata": {},
     "output_type": "execute_result"
    }
   ],
   "source": [
    "# Дан np.ndarray чисел, найти индексы всех максимальных элементов в массиве.\n",
    "def task1(arr: np.ndarray):\n",
    "    max_element = arr.max()\n",
    "    return np.where(arr == max_element)[0]\n",
    "\n",
    "task1(np.asarray([42,1,2,42,]))"
   ]
  },
  {
   "cell_type": "code",
   "execution_count": 185,
   "id": "9cc0a5cd-422b-4180-abb4-58b4a929aa94",
   "metadata": {},
   "outputs": [
    {
     "data": {
      "text/plain": [
       "2"
      ]
     },
     "execution_count": 185,
     "metadata": {},
     "output_type": "execute_result"
    }
   ],
   "source": [
    "# Найти второй максимальный элемент в массиве.\n",
    "def task2(arr: np.ndarray):\n",
    "    max_element = arr.max()\n",
    "    arr = arr[np.where(arr != max_element)]\n",
    "    return arr.max()\n",
    "\n",
    "task2(np.asarray([1,2,1,1,1,2,42,-1]))"
   ]
  },
  {
   "cell_type": "code",
   "execution_count": 189,
   "id": "aa1a216f-d47e-49a5-b3ff-fe0f97ce99f6",
   "metadata": {},
   "outputs": [
    {
     "name": "stdout",
     "output_type": "stream",
     "text": [
      "39.02563260217571\n",
      "[ 1.41421356 11.04536102 36.01388621]\n"
     ]
    }
   ],
   "source": [
    "# Даны два [1,2]-мерных массива, найдите евклидово расстояние между ними.\n",
    "# Если размерность массива равна двум - надо найти евклидово расстояние между каждой строкой\n",
    "# Строка - первая размерность\n",
    "# Ответ сократите используя round до 3 знаков после запятой.\n",
    "def task3(arr1: np.ndarray, arr2: np.ndarray):\n",
    "    if arr1.ndim == 2:\n",
    "        return np.sqrt(np.sum((arr1 - arr2) ** 2, axis=1))\n",
    "    else:\n",
    "        return np.sqrt(np.sum((arr1 - arr2)**2))\n",
    "\n",
    "print(task3(np.asarray([1,2,3]), np.asarray([2,3,42])))\n",
    "\n",
    "arr1 = np.array([[1, 2], [3, 4], [5, 6]])\n",
    "arr2 = np.array([[2, 3], [14, 5], [6, 42]])\n",
    "print(task3(arr1, arr2))"
   ]
  },
  {
   "cell_type": "markdown",
   "id": "f38ebf3a",
   "metadata": {},
   "source": [
    "**Задачки на программирование**\n",
    "\n",
    "I. Дан список чисел, найти два максимальных числа\n",
    "\n",
    "Пример:\\\n",
    "inp: [1,2,4,4,2,-1]\\\n",
    "out: [2,4]\n",
    "\n",
    "II. Дан список чисел, найти сколько элементов списка строго больше обоих своих соседей\n",
    "\n",
    "Пример1:\\\n",
    "inp: [1,2,3,4,5]\\\n",
    "out: 0\n",
    "\n",
    "Пример2:\n",
    "inp: [1,42,3,42,5]\\\n",
    "out: 2\n",
    "\n",
    "III. На вход подается список чисел и какое-то число, найдите элемент массива, максимально близкий к этому числу.\n",
    "\n",
    "Пример1:\\\n",
    "inp: data=[1,2,3,4,5], k=3\\\n",
    "out: 3\n",
    "\n",
    "Пример2:\\\n",
    "inp: data=[1,2,3,4,5], k=100\\\n",
    "out: 5\n",
    "\n",
    "IV. На вход подается список чисел, вывести его кумулятивную сумму:\n",
    "\n",
    "Пример:\\\n",
    "inp: data=[1,2,3,4,5]\\\n",
    "out: [1,3,6,10,15]"
   ]
  },
  {
   "cell_type": "code",
   "execution_count": 193,
   "id": "f6661173-125e-40c0-b11f-cbac24853c9e",
   "metadata": {},
   "outputs": [
    {
     "data": {
      "text/plain": [
       "[5, 6]"
      ]
     },
     "execution_count": 193,
     "metadata": {},
     "output_type": "execute_result"
    }
   ],
   "source": [
    "\"\"\"\n",
    "I. Дан список чисел, найти два максимальных числа\n",
    "\n",
    "Пример:\n",
    "inp: [1,2,4,4,2,-1]\n",
    "out: [2,4]\n",
    "\"\"\"\n",
    "def task1(data: list) -> list:\n",
    "    data_unique = set(data)\n",
    "    data_sorted = sorted(data_unique)\n",
    "    return data_sorted[-2:]\n",
    "\n",
    "task1([1,2,3,4,5,6])"
   ]
  },
  {
   "cell_type": "code",
   "execution_count": 197,
   "id": "04a47c72-5f92-4e79-ba8d-f34603522f91",
   "metadata": {},
   "outputs": [
    {
     "name": "stdout",
     "output_type": "stream",
     "text": [
      "0\n",
      "2\n"
     ]
    }
   ],
   "source": [
    "\"\"\"\n",
    "II. Дан список чисел, найти сколько элементов списка строго больше обоих своих соседей\n",
    "\n",
    "Пример1:\n",
    "inp: [1,2,3,4,5]\n",
    "out: 0\n",
    "\n",
    "Пример2: inp: [1,42,3,14,5]\n",
    "out: 2\n",
    "\"\"\"\n",
    "def task2(data: list) -> int:\n",
    "    res = 0\n",
    "    for idx in range(1, len(data)-1):\n",
    "        if data[idx] > data[idx-1] and data[idx] > data[idx+1]:\n",
    "            res += 1\n",
    "    return res\n",
    "\n",
    "print(task2([1,2,3,4,5]))\n",
    "print(task2([1,42,3,14,5,500]))"
   ]
  },
  {
   "cell_type": "code",
   "execution_count": 204,
   "id": "98391bbb-728d-4d3a-9010-fcd497ca7b9e",
   "metadata": {},
   "outputs": [
    {
     "name": "stdout",
     "output_type": "stream",
     "text": [
      "-3\n",
      "5\n"
     ]
    }
   ],
   "source": [
    "\"\"\"\n",
    "III. На вход подается список чисел и какое-то число, найдите элемент массива, максимально близкий к этому числу.\n",
    "\n",
    "Пример1:\n",
    "inp: data=[1,2,3,4,5], k=3\n",
    "out: 3\n",
    "\n",
    "Пример2:\n",
    "inp: data=[1,2,3,4,5], k=100\n",
    "out: 5\n",
    "\n",
    "Пример3:\n",
    "inp: data=[1,2,-3,4,5], k=-2\n",
    "out: -3\n",
    "\"\"\"\n",
    "def task3(data: List[int|float], k=int|float) -> int|float:\n",
    "    res = float(\"inf\")\n",
    "    val = data[0]\n",
    "    for i in data:\n",
    "        diff = abs(i - k)\n",
    "        if diff < res:\n",
    "            val = i\n",
    "            res = diff\n",
    "    return val        \n",
    "    \n",
    "print(task3(data=[1,2,-3,4,5], k=-2))\n",
    "print(task3(data=[1,2,3,4,5], k=100))"
   ]
  },
  {
   "cell_type": "code",
   "execution_count": 213,
   "id": "fee74aab-29d7-408b-8087-018abef3c872",
   "metadata": {},
   "outputs": [
    {
     "data": {
      "text/plain": [
       "[1, 3, 6, 10, 15]"
      ]
     },
     "metadata": {},
     "output_type": "display_data"
    },
    {
     "data": {
      "text/plain": [
       "[-15, -14, -12, -9, -5, 0]"
      ]
     },
     "metadata": {},
     "output_type": "display_data"
    },
    {
     "data": {
      "text/plain": [
       "[1]"
      ]
     },
     "metadata": {},
     "output_type": "display_data"
    },
    {
     "data": {
      "text/plain": [
       "[]"
      ]
     },
     "metadata": {},
     "output_type": "display_data"
    }
   ],
   "source": [
    "\"\"\"\n",
    "IV. На вход подается список чисел, вывести его кумулятивную сумму:\n",
    "\n",
    "Пример:\n",
    "inp: data=[1,2,3,4,5]\n",
    "out:      [1,3,6,10,15]\n",
    "# 1 [1,2,3,4,5]\n",
    "# 2 [1,3,3,4,5]\n",
    "# 3 [1,3,6,4,5]\n",
    "# 4 [1,3,6,10,5]\n",
    "# 5 [1,3,6,10,15]\n",
    "\"\"\"\n",
    "def task4(data: list) -> list:\n",
    "    for idx in range(1, len(data)):\n",
    "        data[idx] = data[idx-1] + data[idx]\n",
    "    return data\n",
    "\n",
    "display(task4([1,2,3,4,5]))\n",
    "display(task4([-15,1,2,3,4,5]))\n",
    "display(task4([1]))\n",
    "display(task4([]))"
   ]
  }
 ],
 "metadata": {
  "kernelspec": {
   "display_name": "Python 3 (ipykernel)",
   "language": "python",
   "name": "python3"
  },
  "language_info": {
   "codemirror_mode": {
    "name": "ipython",
    "version": 3
   },
   "file_extension": ".py",
   "mimetype": "text/x-python",
   "name": "python",
   "nbconvert_exporter": "python",
   "pygments_lexer": "ipython3",
   "version": "3.10.14"
  }
 },
 "nbformat": 4,
 "nbformat_minor": 5
}
