{
 "cells": [
  {
   "cell_type": "markdown",
   "id": "deb952f4",
   "metadata": {},
   "source": [
    "# Agenda\n",
    "1. Функции: объявление, передача параметров, рекурсия, лямбда функции, генераторы\n",
    "2. Классы: объявление, встроенные методы, насследование\n",
    "3. Типизация"
   ]
  },
  {
   "cell_type": "markdown",
   "id": "becb9f03-3d45-4219-86e9-5a90992fc316",
   "metadata": {},
   "source": [
    "# Функции"
   ]
  },
  {
   "cell_type": "markdown",
   "id": "7d0f6ac1-40b5-490f-8ad7-05a4c087a975",
   "metadata": {},
   "source": [
    "## 101"
   ]
  },
  {
   "cell_type": "code",
   "execution_count": 1,
   "id": "7108e4bb-1ecd-4407-bfbb-eeb9b2a42451",
   "metadata": {},
   "outputs": [
    {
     "name": "stdout",
     "output_type": "stream",
     "text": [
      "8\n"
     ]
    }
   ],
   "source": [
    "# как превратить код в функцию\n",
    "val1, val2 = 3, 5\n",
    "sum_ = val1 + val2\n",
    "print(sum_)"
   ]
  },
  {
   "cell_type": "code",
   "execution_count": 2,
   "id": "ac20e69a-d183-4bcd-a4f6-bc8295bad31e",
   "metadata": {},
   "outputs": [
    {
     "name": "stdout",
     "output_type": "stream",
     "text": [
      "8\n"
     ]
    }
   ],
   "source": [
    "# давайте сделаем в виде функции\n",
    "def get_sum(val1, val2):\n",
    "    sum_ = val1 + val2\n",
    "    print(sum_)\n",
    "\n",
    "get_sum(3,5)"
   ]
  },
  {
   "cell_type": "code",
   "execution_count": 3,
   "id": "75c1dd5c-d660-4d1e-bfa9-bed31fc2709d",
   "metadata": {},
   "outputs": [],
   "source": [
    "# пусть функция что-то возвращает\n",
    "def get_sum(val1, val2):\n",
    "    sum_ = val1 + val2\n",
    "    return sum_\n",
    "\n",
    "res = get_sum(3, 5)"
   ]
  },
  {
   "cell_type": "code",
   "execution_count": 4,
   "id": "ef86d807-aaf3-4759-8e72-88d948835798",
   "metadata": {},
   "outputs": [
    {
     "name": "stdout",
     "output_type": "stream",
     "text": [
      "8\n"
     ]
    }
   ],
   "source": [
    "# посмотрим на результат\n",
    "print(res)"
   ]
  },
  {
   "cell_type": "code",
   "execution_count": 5,
   "id": "a054c666-1cb1-4e9c-abb2-a753b54d6c8e",
   "metadata": {},
   "outputs": [],
   "source": [
    "# как передать параметры функции\n",
    "res1 = get_sum(3, 5)\n",
    "res2 = get_sum(val1=3, val2=5)\n",
    "res3 = get_sum(3, val2=5)\n",
    "\n",
    "assert res1 == res2 == res3"
   ]
  },
  {
   "cell_type": "code",
   "execution_count": 6,
   "id": "931923b2-1352-43d0-8211-0388d09bbb50",
   "metadata": {},
   "outputs": [
    {
     "ename": "SyntaxError",
     "evalue": "positional argument follows keyword argument (1560875680.py, line 2)",
     "output_type": "error",
     "traceback": [
      "\u001b[1;36m  Cell \u001b[1;32mIn[6], line 2\u001b[1;36m\u001b[0m\n\u001b[1;33m    get_sum(val1=3, 5)\u001b[0m\n\u001b[1;37m                     ^\u001b[0m\n\u001b[1;31mSyntaxError\u001b[0m\u001b[1;31m:\u001b[0m positional argument follows keyword argument\n"
     ]
    }
   ],
   "source": [
    "# positional and keywords arguments\n",
    "get_sum(val1=3, 5)"
   ]
  },
  {
   "cell_type": "code",
   "execution_count": 7,
   "id": "c80650ff-1bb5-498a-9723-6537507bab94",
   "metadata": {},
   "outputs": [
    {
     "name": "stdout",
     "output_type": "stream",
     "text": [
      "15\n",
      "8\n"
     ]
    }
   ],
   "source": [
    "# дефолтные значения\n",
    "def calculator(val1, val2, operation=\"+\"):\n",
    "    \"\"\"\n",
    "    Params\n",
    "    ------------\n",
    "    val1 - float\n",
    "    val2 - float\n",
    "    \"\"\"\n",
    "    if operation == \"+\":\n",
    "        res = val1 + val2\n",
    "    elif operation == \"-\":\n",
    "        res = val1 - val2\n",
    "    elif operation == \"*\":\n",
    "        res = val1 * val2\n",
    "    elif operation == \"/\":\n",
    "        if val2 != 0:\n",
    "            res = val1 / val2\n",
    "        else:\n",
    "            raise ValueError(\"division by zero, change val2\")\n",
    "    else:\n",
    "        raise ValueError(\"operation should be +-*/\")\n",
    "    return res\n",
    "\n",
    "print(calculator(3, 5, \"*\"))\n",
    "print(calculator(3, 5))"
   ]
  },
  {
   "cell_type": "code",
   "execution_count": 8,
   "id": "c89e185f-1c1c-4ca4-b5b5-141b0c0a9ed3",
   "metadata": {},
   "outputs": [
    {
     "name": "stdout",
     "output_type": "stream",
     "text": [
      "None\n"
     ]
    }
   ],
   "source": [
    "# что возвращает функция если у нее нет return\n",
    "def check():\n",
    "    pass\n",
    "print(check())"
   ]
  },
  {
   "cell_type": "code",
   "execution_count": 9,
   "id": "9b34caec-e500-4529-ae29-dad6cd1cc55b",
   "metadata": {},
   "outputs": [
    {
     "name": "stdout",
     "output_type": "stream",
     "text": [
      "1 2\n",
      "(1, 2)\n"
     ]
    }
   ],
   "source": [
    "# возврат больше одного значения\n",
    "def check():\n",
    "    return 1, 2\n",
    "\n",
    "a, b = check()\n",
    "print(a,b)\n",
    "\n",
    "res = check()\n",
    "print(res)"
   ]
  },
  {
   "cell_type": "code",
   "execution_count": 10,
   "id": "3a1f8411-09e1-455f-8330-1a356b554c2e",
   "metadata": {},
   "outputs": [
    {
     "name": "stdout",
     "output_type": "stream",
     "text": [
      "Help on function calculator in module __main__:\n",
      "\n",
      "calculator(val1, val2, operation='+')\n",
      "    Params\n",
      "    ------------\n",
      "    val1 - float\n",
      "    val2 - float\n",
      "\n"
     ]
    }
   ],
   "source": [
    "# как посмотреть \"описание\" функции\n",
    "help(calculator)"
   ]
  },
  {
   "cell_type": "markdown",
   "id": "0a64caa3-fac4-4bd2-8c48-c97aa06b02a1",
   "metadata": {},
   "source": [
    "## Global VS Local"
   ]
  },
  {
   "cell_type": "code",
   "execution_count": 11,
   "id": "eb4c5112-64b4-47d8-b553-a570151647c4",
   "metadata": {},
   "outputs": [
    {
     "name": "stdout",
     "output_type": "stream",
     "text": [
      "hello\n"
     ]
    },
    {
     "ename": "NameError",
     "evalue": "name 'val' is not defined",
     "output_type": "error",
     "traceback": [
      "\u001b[1;31m---------------------------------------------------------------------------\u001b[0m",
      "\u001b[1;31mNameError\u001b[0m                                 Traceback (most recent call last)",
      "Cell \u001b[1;32mIn[11], line 7\u001b[0m\n\u001b[0;32m      4\u001b[0m     \u001b[38;5;28mprint\u001b[39m(val)\n\u001b[0;32m      6\u001b[0m check()\n\u001b[1;32m----> 7\u001b[0m \u001b[43mval\u001b[49m\n",
      "\u001b[1;31mNameError\u001b[0m: name 'val' is not defined"
     ]
    }
   ],
   "source": [
    "# experiment1\n",
    "def check():\n",
    "    val=\"hello\"\n",
    "    print(val)\n",
    "    \n",
    "check()\n",
    "val"
   ]
  },
  {
   "cell_type": "code",
   "execution_count": null,
   "id": "e9b51854-8c3a-4ee0-b2f5-f0d25206b519",
   "metadata": {},
   "outputs": [],
   "source": [
    "# experiment2\n",
    "def check():\n",
    "    print(val)\n",
    "\n",
    "check()"
   ]
  },
  {
   "cell_type": "code",
   "execution_count": null,
   "id": "a4383ed6-7ab5-4a3c-afba-f0e936780e1d",
   "metadata": {},
   "outputs": [],
   "source": [
    "# experiment3\n",
    "def check():\n",
    "    print(val)\n",
    "\n",
    "val = \"world\"\n",
    "check()"
   ]
  },
  {
   "cell_type": "code",
   "execution_count": 12,
   "id": "d2ba3f86-2670-4fef-bc2c-831bf3b690ec",
   "metadata": {},
   "outputs": [
    {
     "name": "stdout",
     "output_type": "stream",
     "text": [
      "hello\n"
     ]
    }
   ],
   "source": [
    "# experiment3\n",
    "def check():\n",
    "    val=\"hello\"\n",
    "    print(val)\n",
    "\n",
    "val = \"world\"\n",
    "check()"
   ]
  },
  {
   "cell_type": "code",
   "execution_count": 13,
   "id": "acdca2fd-a517-4cbe-ba63-43a12af4ca2c",
   "metadata": {},
   "outputs": [
    {
     "ename": "UnboundLocalError",
     "evalue": "local variable 'val' referenced before assignment",
     "output_type": "error",
     "traceback": [
      "\u001b[1;31m---------------------------------------------------------------------------\u001b[0m",
      "\u001b[1;31mUnboundLocalError\u001b[0m                         Traceback (most recent call last)",
      "Cell \u001b[1;32mIn[13], line 7\u001b[0m\n\u001b[0;32m      4\u001b[0m     \u001b[38;5;28mprint\u001b[39m(val)\n\u001b[0;32m      6\u001b[0m val \u001b[38;5;241m=\u001b[39m \u001b[38;5;124m\"\u001b[39m\u001b[38;5;124mworld\u001b[39m\u001b[38;5;124m\"\u001b[39m\n\u001b[1;32m----> 7\u001b[0m \u001b[43mcheck\u001b[49m\u001b[43m(\u001b[49m\u001b[43m)\u001b[49m\n",
      "Cell \u001b[1;32mIn[13], line 3\u001b[0m, in \u001b[0;36mcheck\u001b[1;34m()\u001b[0m\n\u001b[0;32m      2\u001b[0m \u001b[38;5;28;01mdef\u001b[39;00m \u001b[38;5;21mcheck\u001b[39m():\n\u001b[1;32m----> 3\u001b[0m     val \u001b[38;5;241m+\u001b[39m\u001b[38;5;241m=\u001b[39m \u001b[38;5;124m\"\u001b[39m\u001b[38;5;124m my\u001b[39m\u001b[38;5;124m\"\u001b[39m\n\u001b[0;32m      4\u001b[0m     \u001b[38;5;28mprint\u001b[39m(val)\n",
      "\u001b[1;31mUnboundLocalError\u001b[0m: local variable 'val' referenced before assignment"
     ]
    }
   ],
   "source": [
    "# change global var\n",
    "def check():\n",
    "    val += \" my\"\n",
    "    print(val)\n",
    "\n",
    "val = \"world\"\n",
    "check()"
   ]
  },
  {
   "cell_type": "code",
   "execution_count": 14,
   "id": "3040af63-c677-405a-a440-6e050293adbb",
   "metadata": {},
   "outputs": [
    {
     "name": "stdout",
     "output_type": "stream",
     "text": [
      "world my\n",
      "world my\n"
     ]
    }
   ],
   "source": [
    "# change global var\n",
    "def check():\n",
    "    global val\n",
    "    val += \" my\"\n",
    "    print(val)\n",
    "\n",
    "val = \"world\"\n",
    "check()\n",
    "\n",
    "print(val)"
   ]
  },
  {
   "cell_type": "markdown",
   "id": "91bd496f-2b8d-4687-83c6-85be64a00d3b",
   "metadata": {},
   "source": [
    "## Inputs: unpacking, args, kwargs, *, /"
   ]
  },
  {
   "cell_type": "code",
   "execution_count": 15,
   "id": "556deb12-7581-4df3-abb2-27c9ce1aa292",
   "metadata": {},
   "outputs": [
    {
     "name": "stdout",
     "output_type": "stream",
     "text": [
      "Help on function calculator in module __main__:\n",
      "\n",
      "calculator(val1, val2, operation='+')\n",
      "    Params\n",
      "    ------------\n",
      "    val1 - float\n",
      "    val2 - float\n",
      "\n"
     ]
    }
   ],
   "source": [
    "help(calculator)"
   ]
  },
  {
   "cell_type": "code",
   "execution_count": 16,
   "id": "bc469692-c6f5-4433-a080-f5cc124878d7",
   "metadata": {},
   "outputs": [
    {
     "ename": "TypeError",
     "evalue": "calculator() missing 1 required positional argument: 'val2'",
     "output_type": "error",
     "traceback": [
      "\u001b[1;31m---------------------------------------------------------------------------\u001b[0m",
      "\u001b[1;31mTypeError\u001b[0m                                 Traceback (most recent call last)",
      "Cell \u001b[1;32mIn[16], line 3\u001b[0m\n\u001b[0;32m      1\u001b[0m \u001b[38;5;66;03m# as tuple - fail\u001b[39;00m\n\u001b[0;32m      2\u001b[0m inputs \u001b[38;5;241m=\u001b[39m (\u001b[38;5;241m3\u001b[39m,\u001b[38;5;241m5\u001b[39m,\u001b[38;5;124m\"\u001b[39m\u001b[38;5;124m+\u001b[39m\u001b[38;5;124m\"\u001b[39m)\n\u001b[1;32m----> 3\u001b[0m \u001b[43mcalculator\u001b[49m\u001b[43m(\u001b[49m\u001b[43minputs\u001b[49m\u001b[43m)\u001b[49m\n",
      "\u001b[1;31mTypeError\u001b[0m: calculator() missing 1 required positional argument: 'val2'"
     ]
    }
   ],
   "source": [
    "# as tuple - fail\n",
    "inputs = (3,5,\"+\")\n",
    "calculator(inputs)"
   ]
  },
  {
   "cell_type": "code",
   "execution_count": 17,
   "id": "0fc713a8-a2ae-4d98-9169-c1e27302e7ad",
   "metadata": {},
   "outputs": [
    {
     "name": "stdout",
     "output_type": "stream",
     "text": [
      "8\n",
      "(3, 5, '+')\n",
      "3 5 +\n"
     ]
    }
   ],
   "source": [
    "# unpacking\n",
    "inputs = (3,5,\"+\")\n",
    "print(calculator(*inputs))\n",
    "\n",
    "print(inputs)\n",
    "print(*inputs)"
   ]
  },
  {
   "cell_type": "code",
   "execution_count": 18,
   "id": "b5bd870e-4461-4ec1-8576-40e26e2e0035",
   "metadata": {},
   "outputs": [
    {
     "name": "stdout",
     "output_type": "stream",
     "text": [
      "-2\n"
     ]
    }
   ],
   "source": [
    "# keywords\n",
    "inputs = {\"val2\": 5, \"val1\": 3, \"operation\": \"-\"}\n",
    "print(calculator(**inputs))"
   ]
  },
  {
   "cell_type": "code",
   "execution_count": 19,
   "id": "a337afd5-f8b6-442a-abb7-a8bb096ca3c0",
   "metadata": {},
   "outputs": [
    {
     "name": "stdout",
     "output_type": "stream",
     "text": [
      "8\n",
      "()\n"
     ]
    }
   ],
   "source": [
    "# args\n",
    "def check(val1, val2, *args):\n",
    "    print(val1 + val2)\n",
    "    print(args)\n",
    "\n",
    "check(5, 3)"
   ]
  },
  {
   "cell_type": "code",
   "execution_count": 20,
   "id": "adb83e93-9d88-4540-8352-99aa45b432b7",
   "metadata": {},
   "outputs": [
    {
     "name": "stdout",
     "output_type": "stream",
     "text": [
      "8\n",
      "('my name is Maksim', {'v': 'k'}, <built-in function print>)\n"
     ]
    }
   ],
   "source": [
    "# args\n",
    "check(5, 3, \"my name is Maksim\", {\"v\": \"k\"}, print)"
   ]
  },
  {
   "cell_type": "code",
   "execution_count": 21,
   "id": "7b4f7aca-0ca8-402b-bc4f-08ffdc6bed16",
   "metadata": {},
   "outputs": [
    {
     "name": "stdout",
     "output_type": "stream",
     "text": [
      "8\n",
      "<class 'dict'>\n",
      "{'v1': 'k1', 'v2': 'k2'}\n"
     ]
    }
   ],
   "source": [
    "# kwargs\n",
    "def check(val1, val2, **kwargs):\n",
    "    print(val1 + val2)\n",
    "    print(type(kwargs))\n",
    "    print(kwargs)\n",
    "\n",
    "check(3, 5, v1=\"k1\", v2=\"k2\")"
   ]
  },
  {
   "cell_type": "code",
   "execution_count": 22,
   "id": "e9349322-5fd1-4d9b-b673-6e5397ea9cf1",
   "metadata": {},
   "outputs": [
    {
     "name": "stdout",
     "output_type": "stream",
     "text": [
      "1 2 3 4\n",
      "1 2 3 4\n"
     ]
    },
    {
     "ename": "TypeError",
     "evalue": "check() takes 2 positional arguments but 3 were given",
     "output_type": "error",
     "traceback": [
      "\u001b[1;31m---------------------------------------------------------------------------\u001b[0m",
      "\u001b[1;31mTypeError\u001b[0m                                 Traceback (most recent call last)",
      "Cell \u001b[1;32mIn[22], line 7\u001b[0m\n\u001b[0;32m      5\u001b[0m check(\u001b[38;5;241m1\u001b[39m, \u001b[38;5;241m2\u001b[39m, val3\u001b[38;5;241m=\u001b[39m\u001b[38;5;241m3\u001b[39m)\n\u001b[0;32m      6\u001b[0m check(val1\u001b[38;5;241m=\u001b[39m\u001b[38;5;241m1\u001b[39m, val2\u001b[38;5;241m=\u001b[39m\u001b[38;5;241m2\u001b[39m, val3\u001b[38;5;241m=\u001b[39m\u001b[38;5;241m3\u001b[39m)\n\u001b[1;32m----> 7\u001b[0m \u001b[43mcheck\u001b[49m\u001b[43m(\u001b[49m\u001b[38;5;241;43m1\u001b[39;49m\u001b[43m,\u001b[49m\u001b[43m \u001b[49m\u001b[38;5;241;43m2\u001b[39;49m\u001b[43m,\u001b[49m\u001b[43m \u001b[49m\u001b[38;5;241;43m3\u001b[39;49m\u001b[43m)\u001b[49m\n",
      "\u001b[1;31mTypeError\u001b[0m: check() takes 2 positional arguments but 3 were given"
     ]
    }
   ],
   "source": [
    "# params: * - параметры справа должны быть иницилазировы как keyword \n",
    "def check(val1, val2, *, val3, val4=4):\n",
    "    print(val1, val2, val3, val4)\n",
    "\n",
    "check(1, 2, val3=3)\n",
    "check(val1=1, val2=2, val3=3)\n",
    "check(1, 2, 3)"
   ]
  },
  {
   "cell_type": "code",
   "execution_count": 23,
   "id": "e02971d6-2732-4df1-9660-763a269ab701",
   "metadata": {},
   "outputs": [
    {
     "name": "stdout",
     "output_type": "stream",
     "text": [
      "1 2 3 4\n",
      "1 2 3 4\n"
     ]
    },
    {
     "ename": "TypeError",
     "evalue": "check() got some positional-only arguments passed as keyword arguments: 'val1, val2'",
     "output_type": "error",
     "traceback": [
      "\u001b[1;31m---------------------------------------------------------------------------\u001b[0m",
      "\u001b[1;31mTypeError\u001b[0m                                 Traceback (most recent call last)",
      "Cell \u001b[1;32mIn[23], line 7\u001b[0m\n\u001b[0;32m      5\u001b[0m check(\u001b[38;5;241m1\u001b[39m, \u001b[38;5;241m2\u001b[39m, val3\u001b[38;5;241m=\u001b[39m\u001b[38;5;241m3\u001b[39m)\n\u001b[0;32m      6\u001b[0m check(\u001b[38;5;241m1\u001b[39m, \u001b[38;5;241m2\u001b[39m, \u001b[38;5;241m3\u001b[39m)\n\u001b[1;32m----> 7\u001b[0m \u001b[43mcheck\u001b[49m\u001b[43m(\u001b[49m\u001b[43mval1\u001b[49m\u001b[38;5;241;43m=\u001b[39;49m\u001b[38;5;241;43m1\u001b[39;49m\u001b[43m,\u001b[49m\u001b[43m \u001b[49m\u001b[43mval2\u001b[49m\u001b[38;5;241;43m=\u001b[39;49m\u001b[38;5;241;43m2\u001b[39;49m\u001b[43m,\u001b[49m\u001b[43m \u001b[49m\u001b[43mval3\u001b[49m\u001b[38;5;241;43m=\u001b[39;49m\u001b[38;5;241;43m3\u001b[39;49m\u001b[43m)\u001b[49m\n",
      "\u001b[1;31mTypeError\u001b[0m: check() got some positional-only arguments passed as keyword arguments: 'val1, val2'"
     ]
    }
   ],
   "source": [
    "# params: / - параметры слева - positional only\n",
    "def check(val1, val2, /, val3, val4=4):\n",
    "    print(val1, val2, val3, val4)\n",
    "\n",
    "check(1, 2, val3=3)\n",
    "check(1, 2, 3)\n",
    "check(val1=1, val2=2, val3=3)"
   ]
  },
  {
   "cell_type": "markdown",
   "id": "9d319de7-98e4-474a-b074-18dd04852da8",
   "metadata": {},
   "source": [
    "## Recursion, lambda and generators"
   ]
  },
  {
   "cell_type": "code",
   "execution_count": 24,
   "id": "fa654ecd-f8d2-481b-95d9-08e76a71438c",
   "metadata": {},
   "outputs": [],
   "source": [
    "import sys"
   ]
  },
  {
   "cell_type": "code",
   "execution_count": 25,
   "id": "ee741e95-129f-4734-a373-898464adb8a8",
   "metadata": {},
   "outputs": [
    {
     "name": "stdout",
     "output_type": "stream",
     "text": [
      "2\n",
      "1\n"
     ]
    }
   ],
   "source": [
    "# easy example\n",
    "def check(n):\n",
    "    if n <= 0:\n",
    "        return\n",
    "    print(n)\n",
    "    check(n-1)\n",
    "    \n",
    "check(2)"
   ]
  },
  {
   "cell_type": "code",
   "execution_count": 26,
   "id": "c7e015ec-321a-4ceb-a0e9-52651fde4b80",
   "metadata": {},
   "outputs": [
    {
     "data": {
      "text/plain": [
       "'\\ndef1: check(2) -> print(2) ->\\ndef2: check(1) -> print(1) ->\\ndef3: check(0) -> return None -> def2 -> def1 -> close\\n'"
      ]
     },
     "execution_count": 26,
     "metadata": {},
     "output_type": "execute_result"
    }
   ],
   "source": [
    "# pipeline\n",
    "\"\"\"\n",
    "def1: check(2) -> print(2) ->\n",
    "def2: check(1) -> print(1) ->\n",
    "def3: check(0) -> return None -> def2 -> def1 -> close\n",
    "\"\"\""
   ]
  },
  {
   "cell_type": "code",
   "execution_count": 27,
   "id": "3121d185-70a2-4272-aa49-cc8d25aa9dfc",
   "metadata": {},
   "outputs": [
    {
     "name": "stdout",
     "output_type": "stream",
     "text": [
      "13\n"
     ]
    }
   ],
   "source": [
    "# хотим посчитать число фиббоначи\n",
    "# 0, 1, 1, 2, 3, 5, 8, 13, 21, 34, 55, 89, 144, 233, 377,\n",
    "\n",
    "n = 7\n",
    "\n",
    "a, b = 0, 1\n",
    "for _ in range(n):\n",
    "    a, b = b, a + b\n",
    "\n",
    "print(a)"
   ]
  },
  {
   "cell_type": "code",
   "execution_count": 28,
   "id": "5b145499-203c-4d2d-a8f1-989c47848cf7",
   "metadata": {},
   "outputs": [
    {
     "data": {
      "text/plain": [
       "13"
      ]
     },
     "execution_count": 28,
     "metadata": {},
     "output_type": "execute_result"
    }
   ],
   "source": [
    "# используем рекурсию\n",
    "def fibonacci(n):\n",
    "    # база рекурсии\n",
    "    if n <= 1:\n",
    "        return n\n",
    "    # рекурсивный вызов\n",
    "    else:\n",
    "        return fibonacci(n - 1) + fibonacci(n - 2)\n",
    "\n",
    "fibonacci(7)"
   ]
  },
  {
   "cell_type": "code",
   "execution_count": 29,
   "id": "11602a70-d7ba-4d47-8a82-7ed629599658",
   "metadata": {},
   "outputs": [
    {
     "name": "stdout",
     "output_type": "stream",
     "text": [
      "3\n",
      "[1, 2, 3]\n"
     ]
    }
   ],
   "source": [
    "# lamba \n",
    "f = lambda x: len(x)\n",
    "print(f((1,2,3)))\n",
    "print([f(i) for i in [[1], [1,2], [1,2,3]]])"
   ]
  },
  {
   "cell_type": "code",
   "execution_count": 30,
   "id": "80a6298e-a736-4de8-b1ee-659644c44138",
   "metadata": {},
   "outputs": [
    {
     "name": "stdout",
     "output_type": "stream",
     "text": [
      "CPU times: total: 1.73 s\n",
      "Wall time: 1.84 s\n"
     ]
    },
    {
     "data": {
      "text/plain": [
       "762.9395065307617"
      ]
     },
     "execution_count": 30,
     "metadata": {},
     "output_type": "execute_result"
    }
   ],
   "source": [
    "%%time\n",
    "# generators\n",
    "numbers = list(range(100_000_000))\n",
    "sys.getsizeof(numbers) / (1024 * 1024)"
   ]
  },
  {
   "cell_type": "code",
   "execution_count": null,
   "id": "6086e205-2010-46ab-9022-ea5bf1fdf6fd",
   "metadata": {},
   "outputs": [],
   "source": [
    "%%time\n",
    "# generators\n",
    "def filter_even(numbers):\n",
    "    res = []\n",
    "    for num in numbers:\n",
    "        if num % 2 == 0:\n",
    "            res.append(num)\n",
    "    return res\n",
    "\n",
    "even_numbers = filter_even(numbers)\n",
    "sys.getsizeof(even_numbers) / (1024 * 1024)"
   ]
  },
  {
   "cell_type": "code",
   "execution_count": null,
   "id": "1ecc0b3a-8b50-4261-9473-311e90529bbd",
   "metadata": {},
   "outputs": [],
   "source": [
    "%%time\n",
    "# generators\n",
    "def filter_even(numbers):\n",
    "    for num in numbers:\n",
    "        if num % 2 == 0:\n",
    "            yield num\n",
    "\n",
    "even_numbers = filter_even(numbers)\n",
    "print(sys.getsizeof(even_numbers))\n",
    "print(even_numbers)"
   ]
  },
  {
   "cell_type": "code",
   "execution_count": null,
   "id": "86fc2265-25a5-4e94-8ea2-e2fdf8956217",
   "metadata": {},
   "outputs": [],
   "source": [
    "# generator: next\n",
    "for _ in range(3):\n",
    "    print(next(even_numbers))"
   ]
  },
  {
   "cell_type": "code",
   "execution_count": null,
   "id": "f1059a39-4137-4839-82e3-ea069f9f35d8",
   "metadata": {},
   "outputs": [],
   "source": [
    "# iterate over generator\n",
    "for i in even_numbers:\n",
    "    print(i)\n",
    "    if i > 10:\n",
    "        break"
   ]
  },
  {
   "cell_type": "code",
   "execution_count": null,
   "id": "e1a286eb-e6b5-4b37-ac8a-a40387703701",
   "metadata": {},
   "outputs": [],
   "source": [
    "# generator store nothing in memory\n",
    "next(even_numbers)"
   ]
  },
  {
   "cell_type": "code",
   "execution_count": null,
   "id": "aa15e9ca-f2d8-4870-8630-7c040cc72402",
   "metadata": {},
   "outputs": [],
   "source": [
    "# генераторные выражения\n",
    "gen = (x**2 for x in range(10))\n",
    "gen"
   ]
  },
  {
   "cell_type": "code",
   "execution_count": null,
   "id": "449e5a1a-27ff-488b-a80b-2300eeb92821",
   "metadata": {},
   "outputs": [],
   "source": [
    "# генераторные выражения\n",
    "[i for i in gen]"
   ]
  },
  {
   "cell_type": "markdown",
   "id": "d6cb965f-c606-4c98-b32b-f54e6c99855d",
   "metadata": {},
   "source": [
    "### Itertools"
   ]
  },
  {
   "cell_type": "code",
   "execution_count": null,
   "id": "4e3d3250-72bb-43b4-a162-70b8e80c7ac6",
   "metadata": {},
   "outputs": [],
   "source": [
    "from itertools import chain, combinations, permutations, groupby, product"
   ]
  },
  {
   "cell_type": "code",
   "execution_count": null,
   "id": "bfa7bb75-5f1a-4276-b705-9a41e75c5888",
   "metadata": {},
   "outputs": [],
   "source": [
    "# chain - генерирует последовательность сцепленных итераторов\n",
    "ch = chain([1,2,3], [4,5])\n",
    "for i in ch:\n",
    "    print(i, end=\" \")"
   ]
  },
  {
   "cell_type": "code",
   "execution_count": null,
   "id": "83498e10-0af9-49fb-919d-72d571e9263c",
   "metadata": {},
   "outputs": [],
   "source": [
    "# combinations - все возможные комбинации, составленные из элементов iterable, с учетом порядка\n",
    "combs = combinations([1,2,3], r=2)\n",
    "print(combs)\n",
    "[i for i in combs]"
   ]
  },
  {
   "cell_type": "code",
   "execution_count": null,
   "id": "e40fc996-2c29-494b-b756-fc57dd188999",
   "metadata": {},
   "outputs": [],
   "source": [
    "# permutations - то же, что и combinations, но с учетом порядка\n",
    "perms = permutations([1,2,3], r=2)\n",
    "print(perms)\n",
    "[i for i in perms]"
   ]
  },
  {
   "cell_type": "code",
   "execution_count": null,
   "id": "8b1afe33-1471-4425-9039-41b5ffee37fb",
   "metadata": {},
   "outputs": [],
   "source": [
    "# groupby - генерирует пары (ключ, субитератор) для каждого возможного ключа\n",
    "f = lambda x: x[0]\n",
    "groups = groupby([\"Максим\", \"Миша\", \"Ваня\", \"Вика\", \"Стёпа\"], f)\n",
    "[(k, list(vals)) for k, vals in groups]"
   ]
  },
  {
   "cell_type": "code",
   "execution_count": null,
   "id": "e918cfee-965f-4477-b873-c6ac77705025",
   "metadata": {},
   "outputs": [],
   "source": [
    "# product - декартово произведение (что-то вроде вложенного цикла)\n",
    "prods = product(range(3), repeat=2)\n",
    "[i for i in prods]"
   ]
  },
  {
   "cell_type": "markdown",
   "id": "d5315322-0817-41f9-a9bb-705e676b6d46",
   "metadata": {},
   "source": [
    "# Classes"
   ]
  },
  {
   "cell_type": "code",
   "execution_count": null,
   "id": "1d5f6ee3-bcea-4076-b39a-a990d672de31",
   "metadata": {},
   "outputs": [],
   "source": [
    "# как создать класс\n",
    "class MyClass:\n",
    "    pass\n",
    "obj = MyClass()\n",
    "type(obj)"
   ]
  },
  {
   "cell_type": "code",
   "execution_count": null,
   "id": "627c4edc-5e44-4d62-874c-3a87b6a4aba5",
   "metadata": {},
   "outputs": [],
   "source": [
    "# метод __init__\n",
    "class MyClass:\n",
    "    def __init__(self, arg1, arg2): # метод\n",
    "        self.arg1 = arg1 # атрибут\n",
    "        self.arg2 = arg2 # атрибут\n",
    "\n",
    "obj = MyClass(\"text\", 42)\n",
    "print(obj.arg1, obj.arg2)\n",
    "\n",
    "obj.arg1 = \"my text\"\n",
    "print(obj.arg1)"
   ]
  },
  {
   "cell_type": "code",
   "execution_count": null,
   "id": "70c5e414-486c-422f-bdc5-1c6d25c1b01a",
   "metadata": {},
   "outputs": [],
   "source": [
    "# где хранятся все атрибуты\n",
    "obj.__dict__"
   ]
  },
  {
   "cell_type": "code",
   "execution_count": null,
   "id": "df6660a5-92a3-4001-b0f4-0d59058d51be",
   "metadata": {},
   "outputs": [],
   "source": [
    "# получть доступ к атрибутам\n",
    "class MyClass:\n",
    "    arg3 = 14\n",
    "    \n",
    "    def __init__(self, arg1=\"text\", arg2=42): # метод\n",
    "        self.arg1 = arg1 # атрибут\n",
    "        self.arg2 = arg2 # атрибут\n",
    "\n",
    "obj = MyClass()\n",
    "print(obj.__dict__, end=\"\\n\\n\")\n",
    "\n",
    "print(obj.__getattribute__(\"arg1\"))\n",
    "print(obj.__getattribute__(\"arg3\"))"
   ]
  },
  {
   "cell_type": "code",
   "execution_count": 48,
   "id": "7f0ab851-a38a-4300-aa75-03130bfb2eb2",
   "metadata": {},
   "outputs": [
    {
     "name": "stdout",
     "output_type": "stream",
     "text": [
      "2.5\n",
      "4\n"
     ]
    }
   ],
   "source": [
    "# методы\n",
    "class MyClass:    \n",
    "    def __init__(self, data):\n",
    "        self.data = data\n",
    "\n",
    "    def get_statistic(self, statistic_name):\n",
    "        if statistic_name == \"mean\":\n",
    "            res = sum(self.data) / len(self.data)\n",
    "        elif statistic_name == \"max\":\n",
    "            res = max(self.data)\n",
    "        elif statistic_name == \"min\":\n",
    "            res = min(self.data)\n",
    "        return res\n",
    "\n",
    "calculator = MyClass([1,2,3,4])\n",
    "print(calculator.get_statistic(\"mean\"))\n",
    "print(calculator.get_statistic(\"max\"))"
   ]
  },
  {
   "cell_type": "code",
   "execution_count": 49,
   "id": "4edafebf-0b93-45cd-bd03-4bf9ed02e232",
   "metadata": {},
   "outputs": [
    {
     "name": "stdout",
     "output_type": "stream",
     "text": [
      "<__main__.MyClass object at 0x0000026C5EEC4E20>\n"
     ]
    },
    {
     "data": {
      "text/plain": [
       "<__main__.MyClass at 0x26c5eec4e20>"
      ]
     },
     "execution_count": 49,
     "metadata": {},
     "output_type": "execute_result"
    }
   ],
   "source": [
    "# как печатать класс\n",
    "print(obj)\n",
    "obj"
   ]
  },
  {
   "cell_type": "code",
   "execution_count": 50,
   "id": "10144c7f-5e09-467f-8736-e13756df4931",
   "metadata": {},
   "outputs": [
    {
     "name": "stdout",
     "output_type": "stream",
     "text": [
      "[1, 2, 3, 4]\n"
     ]
    },
    {
     "data": {
      "text/plain": [
       "<__main__.Vector at 0x26c5eed60e0>"
      ]
     },
     "execution_count": 50,
     "metadata": {},
     "output_type": "execute_result"
    }
   ],
   "source": [
    "# __str__\n",
    "class Vector:    \n",
    "    def __init__(self, data):\n",
    "        self.data = data\n",
    "\n",
    "    def __str__(self):\n",
    "        return str(self.data)\n",
    "\n",
    "vec = Vector([1,2,3,4])\n",
    "print(vec)\n",
    "vec"
   ]
  },
  {
   "cell_type": "code",
   "execution_count": 51,
   "id": "3d277688-1ff8-40e5-a48f-12c740173925",
   "metadata": {},
   "outputs": [
    {
     "name": "stdout",
     "output_type": "stream",
     "text": [
      "Vector: ([1, 2, 3, 4])\n"
     ]
    },
    {
     "data": {
      "text/plain": [
       "[1, 2, 3, 4]"
      ]
     },
     "execution_count": 51,
     "metadata": {},
     "output_type": "execute_result"
    }
   ],
   "source": [
    "# __repr__\n",
    "class Vector:    \n",
    "    def __init__(self, data):\n",
    "        self.data = data\n",
    "\n",
    "    def __str__(self):\n",
    "        return f\"Vector: ({self.data})\"\n",
    "\n",
    "    def __repr__(self):\n",
    "        return str(self.data)\n",
    "\n",
    "vec = Vector([1,2,3,4])\n",
    "print(vec)\n",
    "vec"
   ]
  },
  {
   "cell_type": "code",
   "execution_count": 52,
   "id": "c09fc65a-4223-4ae6-966a-c1bbc2903efb",
   "metadata": {},
   "outputs": [
    {
     "name": "stdout",
     "output_type": "stream",
     "text": [
      "Vector: ([1, 2, 3, 4])\n",
      "4\n",
      "4\n"
     ]
    }
   ],
   "source": [
    "# __repr__\n",
    "class Vector:    \n",
    "    def __init__(self, data):\n",
    "        self.data = data\n",
    "\n",
    "    def __str__(self):\n",
    "        return f\"Vector: ({self.data})\"\n",
    "\n",
    "    def __repr__(self):\n",
    "        return str(self.data)\n",
    "\n",
    "    def __len__(self):\n",
    "        return len(self.data)\n",
    "\n",
    "vec = Vector([1,2,3,4])\n",
    "print(vec)\n",
    "print(vec.__len__())\n",
    "print(len(vec))"
   ]
  },
  {
   "cell_type": "code",
   "execution_count": 53,
   "id": "8cdf8ac3-e6cc-4688-9c03-5ad3d5727f2e",
   "metadata": {},
   "outputs": [
    {
     "name": "stdout",
     "output_type": "stream",
     "text": [
      "Vector: ([1, 2, 3, 4])\n",
      "2.5\n"
     ]
    }
   ],
   "source": [
    "# Насследование\n",
    "class VectorNew(Vector):\n",
    "    def get_statistic(self, statistic_name):\n",
    "        if statistic_name == \"mean\":\n",
    "            res = sum(self.data) / len(self.data)\n",
    "        elif statistic_name == \"max\":\n",
    "            res = max(self.data)\n",
    "        elif statistic_name == \"min\":\n",
    "            res = min(self.data)\n",
    "        else:\n",
    "            res = None\n",
    "        return res\n",
    "\n",
    "vec = VectorNew([1,2,3,4])\n",
    "print(vec)\n",
    "print(vec.get_statistic(\"mean\"))"
   ]
  },
  {
   "cell_type": "code",
   "execution_count": 54,
   "id": "a0433935-4eb7-4bab-97a4-e2517de61960",
   "metadata": {},
   "outputs": [
    {
     "name": "stdout",
     "output_type": "stream",
     "text": [
      "1.8\n",
      "3\n"
     ]
    }
   ],
   "source": [
    "# methods overwriting\n",
    "class VectorNew2(VectorNew):\n",
    "    def get_statistic(self, statistic_name):\n",
    "        res = super().get_statistic(statistic_name)\n",
    "        if res is None:\n",
    "            if statistic_name == \"median\":\n",
    "                res = self.calculate_median()\n",
    "        return res\n",
    "\n",
    "    def calculate_median(self):\n",
    "        sorted_data = sorted(self.data)\n",
    "        n = len(sorted_data)\n",
    "        mid = len(sorted_data) // 2\n",
    "        if n % 2 == 0:\n",
    "            median = (sorted_data[mid - 1] + sorted_data[mid]) / 2\n",
    "        else:\n",
    "            median = sorted_data[mid]\n",
    "        \n",
    "        return median\n",
    "\n",
    "vec = VectorNew2([-10,3,4,2,10])\n",
    "print(vec.get_statistic(\"mean\"))\n",
    "print(vec.get_statistic(\"median\"))"
   ]
  },
  {
   "cell_type": "code",
   "execution_count": 55,
   "id": "8d34c320-ae56-4c62-854e-8f0facb70cf2",
   "metadata": {},
   "outputs": [
    {
     "name": "stdout",
     "output_type": "stream",
     "text": [
      "public\n",
      "Public method\n"
     ]
    }
   ],
   "source": [
    "# public\n",
    "class MyClass:\n",
    "    def __init__(self, arg=\"public\"):\n",
    "        self.public_attribute = arg\n",
    "\n",
    "    def public_method(self):\n",
    "        return \"Public method\"\n",
    "\n",
    "obj = MyClass()\n",
    "print(obj.public_attribute)\n",
    "print(obj.public_method())"
   ]
  },
  {
   "cell_type": "code",
   "execution_count": 56,
   "id": "6813f701-ed9c-417b-af01-91b5c67113d9",
   "metadata": {},
   "outputs": [
    {
     "name": "stdout",
     "output_type": "stream",
     "text": [
      "42\n",
      "Protected method\n",
      "\n",
      "protected\n",
      "Protected method\n"
     ]
    }
   ],
   "source": [
    "# protected\n",
    "class MyClass:\n",
    "    def __init__(self, arg=\"protected\"):\n",
    "        self._protected_attribute = arg\n",
    "\n",
    "    def _protected_method(self):\n",
    "        return \"Protected method\"\n",
    "\n",
    "class SubClass(MyClass):\n",
    "    def use_protected(self):\n",
    "        print(self._protected_attribute)\n",
    "        print(self._protected_method())\n",
    "\n",
    "obj = MyClass(42)\n",
    "print(obj._protected_attribute)\n",
    "print(obj._protected_method())\n",
    "print()\n",
    "        \n",
    "obj = SubClass()\n",
    "obj.use_protected()"
   ]
  },
  {
   "cell_type": "code",
   "execution_count": 57,
   "id": "9aca190b-8ac1-433e-9b1d-37ffe6123033",
   "metadata": {},
   "outputs": [],
   "source": [
    "# private\n",
    "class MyClass:\n",
    "    def __init__(self, arg=\"Private attribute\"):\n",
    "        self.__private_attribute = arg\n",
    "        \n",
    "    def __private_method(self):\n",
    "        return \"Private method\"\n",
    "\n",
    "obj = MyClass()\n",
    "# print(obj.__private_attribute)  # Ошибка: AttributeError: 'MyClass' object has no attribute '__private_attribute'\n",
    "# print(obj.__private_method())   # Ошибка: AttributeError: 'MyClass' object has no attribute '__private_method'"
   ]
  },
  {
   "cell_type": "code",
   "execution_count": 58,
   "id": "e364e365-ca62-4190-aded-da1cd80334c3",
   "metadata": {},
   "outputs": [
    {
     "name": "stdout",
     "output_type": "stream",
     "text": [
      "Private attribute\n",
      "Private method\n"
     ]
    }
   ],
   "source": [
    "# private\n",
    "print(obj._MyClass__private_attribute)  # Доступ к приватному атрибуту с помощью имени манглинга\n",
    "print(obj._MyClass__private_method())   # Доступ к приватному методу с помощью имени манглинга"
   ]
  },
  {
   "cell_type": "markdown",
   "id": "7ecd66fd-901b-43c2-9b88-4612bf44520c",
   "metadata": {},
   "source": [
    "## Typing"
   ]
  },
  {
   "cell_type": "code",
   "execution_count": 59,
   "id": "58f887a5-cf44-492f-9b80-8716188a7d48",
   "metadata": {},
   "outputs": [],
   "source": [
    "from typing import Dict, List, Optional, Union"
   ]
  },
  {
   "cell_type": "code",
   "execution_count": 60,
   "id": "df9ca95e-7112-4825-80f2-da9368338e25",
   "metadata": {},
   "outputs": [
    {
     "name": "stdout",
     "output_type": "stream",
     "text": [
      "6.0\n",
      "5.5\n",
      "2.53.5\n",
      "[1, 2, 3, 4, 5]\n"
     ]
    }
   ],
   "source": [
    "# а что мы вообще сделать хотим?\n",
    "def sum_two_elements(val1, val2):\n",
    "    return val1 + val2\n",
    "\n",
    "print(sum_two_elements(2.5, 3.5))\n",
    "print(sum_two_elements(2, 3.5))\n",
    "print(sum_two_elements(\"2.5\", \"3.5\"))\n",
    "print(sum_two_elements([1,2,3], [4,5]))"
   ]
  },
  {
   "cell_type": "code",
   "execution_count": 61,
   "id": "614cb6cf-d461-4eea-b6d2-6eddb4cdd277",
   "metadata": {},
   "outputs": [
    {
     "name": "stdout",
     "output_type": "stream",
     "text": [
      "6.0\n",
      "5.5\n",
      "2.53.5\n"
     ]
    }
   ],
   "source": [
    "# 101\n",
    "def sum_two_elements(val1: float, val2: float):\n",
    "    return val1 + val2\n",
    "\n",
    "print(sum_two_elements(2.5, 3.5))\n",
    "print(sum_two_elements(2, 3.5))\n",
    "print(sum_two_elements(\"2.5\", \"3.5\"))"
   ]
  },
  {
   "cell_type": "code",
   "execution_count": 62,
   "id": "991de23a-0162-46c3-a911-f4bf0c8e1c4a",
   "metadata": {},
   "outputs": [],
   "source": [
    "# Union\n",
    "def sum_two_elements(val1: Union[float, int], val2: float | int):\n",
    "    return val1 + val2"
   ]
  },
  {
   "cell_type": "code",
   "execution_count": null,
   "id": "222bdf96-8769-40de-85ae-ce4ec72d723e",
   "metadata": {},
   "outputs": [],
   "source": [
    "# Optional\n",
    "def sum_two_elements(val1: Union[float, int], val2: Optional[Union[float, int]]):\n",
    "    if val2 is not None:\n",
    "        return val1 + val2\n",
    "    return val1"
   ]
  },
  {
   "cell_type": "code",
   "execution_count": null,
   "id": "5a345bda-8abc-485c-b708-0ac95fb8de4c",
   "metadata": {},
   "outputs": [],
   "source": [
    "# Output\n",
    "def sum_two_elements(val1: Union[float, int], val2: Union[float, int]) -> Union[float, int]:\n",
    "    return val1 + val2"
   ]
  },
  {
   "cell_type": "code",
   "execution_count": 66,
   "id": "55107894-a7fb-4c74-9a46-051e81c964d4",
   "metadata": {},
   "outputs": [
    {
     "name": "stdout",
     "output_type": "stream",
     "text": [
      "k1: 14 | k2: 41 | "
     ]
    }
   ],
   "source": [
    "# Dict & List\n",
    "def some_func(d: Dict[str, List[float]]) -> None:\n",
    "    for k, v in d.items():\n",
    "        print(f\"{k}: {sum((i**2 for i in v))}\", end=\" | \")\n",
    "\n",
    "some_func({\"k1\": [1,2,3], \"k2\":[4,5]})"
   ]
  }
 ],
 "metadata": {
  "kernelspec": {
   "display_name": "Python 3 (ipykernel)",
   "language": "python",
   "name": "python3"
  },
  "language_info": {
   "codemirror_mode": {
    "name": "ipython",
    "version": 3
   },
   "file_extension": ".py",
   "mimetype": "text/x-python",
   "name": "python",
   "nbconvert_exporter": "python",
   "pygments_lexer": "ipython3",
   "version": "3.10.14"
  }
 },
 "nbformat": 4,
 "nbformat_minor": 5
}
