{
 "cells": [
  {
   "cell_type": "code",
   "execution_count": 2,
   "id": "20a8e6d2-6d16-4ea1-8c27-94f5bfbd06d2",
   "metadata": {},
   "outputs": [],
   "source": [
    "from tqdm import tqdm"
   ]
  },
  {
   "cell_type": "markdown",
   "id": "9f7affe1-2cd9-4c0e-89d0-a47d9f627730",
   "metadata": {},
   "source": [
    "## Типы данных: dict & set"
   ]
  },
  {
   "cell_type": "code",
   "execution_count": 3,
   "id": "b1eb9f9f-a616-4e04-b45f-05bd32b136e0",
   "metadata": {},
   "outputs": [
    {
     "data": {
      "text/plain": [
       "{'k1': 'v1', 'k2': (1, 2, 3)}"
      ]
     },
     "metadata": {},
     "output_type": "display_data"
    },
    {
     "data": {
      "text/plain": [
       "{'k1': 'v1', 'k2': (1, 2, 3)}"
      ]
     },
     "metadata": {},
     "output_type": "display_data"
    }
   ],
   "source": [
    "# как создать словарь\n",
    "d1 = {\"k1\": \"v1\", \"k2\": (1,2,3)}\n",
    "d2 = dict(k1=\"v1\", k2=(1,2,3))\n",
    "\n",
    "display(d1)\n",
    "display(d2)"
   ]
  },
  {
   "cell_type": "code",
   "execution_count": 4,
   "id": "8b4b07c0-8dbf-4e0c-8605-f958aee0c931",
   "metadata": {},
   "outputs": [
    {
     "name": "stdout",
     "output_type": "stream",
     "text": [
      "True\n",
      "False\n",
      "False\n"
     ]
    }
   ],
   "source": [
    "# сравнение словарей\n",
    "print(d1==d2)\n",
    "print(d1=={\"k1\":\"a\", \"k2\":\"b\"})\n",
    "print(d1=={\"k2\":\"v1\", \"k3\":(1,2,3)})"
   ]
  },
  {
   "cell_type": "code",
   "execution_count": 5,
   "id": "25fcff46-a9e3-42f2-b38d-e7d482e537dd",
   "metadata": {},
   "outputs": [
    {
     "data": {
      "text/plain": [
       "1000000"
      ]
     },
     "metadata": {},
     "output_type": "display_data"
    },
    {
     "data": {
      "text/plain": [
       "2075092401636824330"
      ]
     },
     "metadata": {},
     "output_type": "display_data"
    },
    {
     "data": {
      "text/plain": [
       "529344067295497451"
      ]
     },
     "metadata": {},
     "output_type": "display_data"
    },
    {
     "ename": "TypeError",
     "evalue": "unhashable type: 'list'",
     "output_type": "error",
     "traceback": [
      "\u001b[1;31m---------------------------------------------------------------------------\u001b[0m",
      "\u001b[1;31mTypeError\u001b[0m                                 Traceback (most recent call last)",
      "Cell \u001b[1;32mIn[5], line 3\u001b[0m\n\u001b[0;32m      1\u001b[0m \u001b[38;5;66;03m# что может быть ключом словаря\u001b[39;00m\n\u001b[0;32m      2\u001b[0m display(\u001b[38;5;28mhash\u001b[39m(\u001b[38;5;241m1e6\u001b[39m), \u001b[38;5;28mhash\u001b[39m(\u001b[38;5;124m\"\u001b[39m\u001b[38;5;124mstr\u001b[39m\u001b[38;5;124m\"\u001b[39m), \u001b[38;5;28mhash\u001b[39m((\u001b[38;5;241m1\u001b[39m,\u001b[38;5;241m2\u001b[39m,\u001b[38;5;241m3\u001b[39m)))\n\u001b[1;32m----> 3\u001b[0m \u001b[38;5;28;43mhash\u001b[39;49m\u001b[43m(\u001b[49m\u001b[43m[\u001b[49m\u001b[38;5;241;43m1\u001b[39;49m\u001b[43m,\u001b[49m\u001b[38;5;241;43m2\u001b[39;49m\u001b[43m]\u001b[49m\u001b[43m)\u001b[49m\n",
      "\u001b[1;31mTypeError\u001b[0m: unhashable type: 'list'"
     ]
    }
   ],
   "source": [
    "# что может быть ключом словаря\n",
    "display(hash(1e6), hash(\"str\"), hash((1,2,3)))\n",
    "hash([1,2])"
   ]
  },
  {
   "cell_type": "code",
   "execution_count": 6,
   "id": "4dc91a53-6468-4cf5-873b-a51af29c538e",
   "metadata": {},
   "outputs": [
    {
     "name": "stdout",
     "output_type": "stream",
     "text": [
      "{1, 2, 3, 's'}\n"
     ]
    }
   ],
   "source": [
    "# set\n",
    "s1 = set([1,1,2,1,3,\"s\"])\n",
    "s2 = {1,1,2,1,3,\"s\"}\n",
    "s1 == s2\n",
    "print(s1)"
   ]
  },
  {
   "cell_type": "code",
   "execution_count": 7,
   "id": "96f32480-8496-4536-806b-4ab38f40564a",
   "metadata": {},
   "outputs": [
    {
     "name": "stdout",
     "output_type": "stream",
     "text": [
      "<class 'dict'>\n",
      "<class 'set'>\n"
     ]
    }
   ],
   "source": [
    "# разница в инициализации\n",
    "d = {}\n",
    "print(type(d))\n",
    "s = set()\n",
    "print(type(s))"
   ]
  },
  {
   "cell_type": "code",
   "execution_count": 8,
   "id": "25802d7c-754b-401a-93a8-96c0fb2e2773",
   "metadata": {},
   "outputs": [
    {
     "name": "stdout",
     "output_type": "stream",
     "text": [
      "CPU times: total: 46.9 ms\n",
      "Wall time: 66.8 ms\n"
     ]
    },
    {
     "data": {
      "text/plain": [
       "True"
      ]
     },
     "execution_count": 8,
     "metadata": {},
     "output_type": "execute_result"
    }
   ],
   "source": [
    "%%time\n",
    "# hash\n",
    "l = list(range(1_000_000))\n",
    "s = set(range(1_000_000))\n",
    "len(l) == len(s)"
   ]
  },
  {
   "cell_type": "code",
   "execution_count": 9,
   "id": "6afcdb2e-6bca-43e8-8209-7411d05d5878",
   "metadata": {},
   "outputs": [
    {
     "name": "stderr",
     "output_type": "stream",
     "text": [
      "100%|████████████████████████████████████████████████████| 2000/2000 [00:13<00:00, 153.71it/s]"
     ]
    },
    {
     "name": "stdout",
     "output_type": "stream",
     "text": [
      "CPU times: total: 8.67 s\n",
      "Wall time: 13.1 s\n"
     ]
    },
    {
     "name": "stderr",
     "output_type": "stream",
     "text": [
      "\n"
     ]
    }
   ],
   "source": [
    "%%time\n",
    "# search in list\n",
    "for i in tqdm(range(-1000, 1000)):\n",
    "    i in l"
   ]
  },
  {
   "cell_type": "code",
   "execution_count": 10,
   "id": "0b8c7d4e-72a9-45ee-8218-20cd681ad6da",
   "metadata": {},
   "outputs": [
    {
     "name": "stderr",
     "output_type": "stream",
     "text": [
      "100%|█████████████████████████████████████████████████████████████| 2000/2000 [00:00<?, ?it/s]\n"
     ]
    },
    {
     "name": "stdout",
     "output_type": "stream",
     "text": [
      "CPU times: total: 0 ns\n",
      "Wall time: 0 ns\n"
     ]
    }
   ],
   "source": [
    "%%time\n",
    "# search in list\n",
    "for i in tqdm(range(-1000, 1000)):\n",
    "    i in s"
   ]
  },
  {
   "cell_type": "markdown",
   "id": "6bd10d68-d848-484f-b6fa-d201911fa7b1",
   "metadata": {},
   "source": [
    "## Методы основных типов данных: str, list, tuple, dict, set"
   ]
  },
  {
   "cell_type": "markdown",
   "id": "cc15b73f-75a6-46af-ab1b-f9f7b761aed3",
   "metadata": {},
   "source": [
    "### String"
   ]
  },
  {
   "cell_type": "code",
   "execution_count": 21,
   "id": "8fa11975-9f06-4d57-9e99-742887f0dfc4",
   "metadata": {
    "scrolled": true
   },
   "outputs": [
    {
     "data": {
      "text/plain": [
       "['__add__',\n",
       " '__class__',\n",
       " '__contains__',\n",
       " '__delattr__',\n",
       " '__dir__',\n",
       " '__doc__',\n",
       " '__eq__',\n",
       " '__format__',\n",
       " '__ge__',\n",
       " '__getattribute__',\n",
       " '__getitem__',\n",
       " '__getnewargs__',\n",
       " '__gt__',\n",
       " '__hash__',\n",
       " '__init__',\n",
       " '__init_subclass__',\n",
       " '__iter__',\n",
       " '__le__',\n",
       " '__len__',\n",
       " '__lt__',\n",
       " '__mod__',\n",
       " '__mul__',\n",
       " '__ne__',\n",
       " '__new__',\n",
       " '__reduce__',\n",
       " '__reduce_ex__',\n",
       " '__repr__',\n",
       " '__rmod__',\n",
       " '__rmul__',\n",
       " '__setattr__',\n",
       " '__sizeof__',\n",
       " '__str__',\n",
       " '__subclasshook__',\n",
       " 'capitalize',\n",
       " 'casefold',\n",
       " 'center',\n",
       " 'count',\n",
       " 'encode',\n",
       " 'endswith',\n",
       " 'expandtabs',\n",
       " 'find',\n",
       " 'format',\n",
       " 'format_map',\n",
       " 'index',\n",
       " 'isalnum',\n",
       " 'isalpha',\n",
       " 'isascii',\n",
       " 'isdecimal',\n",
       " 'isdigit',\n",
       " 'isidentifier',\n",
       " 'islower',\n",
       " 'isnumeric',\n",
       " 'isprintable',\n",
       " 'isspace',\n",
       " 'istitle',\n",
       " 'isupper',\n",
       " 'join',\n",
       " 'ljust',\n",
       " 'lower',\n",
       " 'lstrip',\n",
       " 'maketrans',\n",
       " 'partition',\n",
       " 'removeprefix',\n",
       " 'removesuffix',\n",
       " 'replace',\n",
       " 'rfind',\n",
       " 'rindex',\n",
       " 'rjust',\n",
       " 'rpartition',\n",
       " 'rsplit',\n",
       " 'rstrip',\n",
       " 'split',\n",
       " 'splitlines',\n",
       " 'startswith',\n",
       " 'strip',\n",
       " 'swapcase',\n",
       " 'title',\n",
       " 'translate',\n",
       " 'upper',\n",
       " 'zfill']"
      ]
     },
     "execution_count": 21,
     "metadata": {},
     "output_type": "execute_result"
    }
   ],
   "source": [
    "s = \"my text\"\n",
    "dir(s)"
   ]
  },
  {
   "cell_type": "code",
   "execution_count": 43,
   "id": "cad8bfd5-f7f5-46b4-b2fa-b793884137d1",
   "metadata": {},
   "outputs": [
    {
     "name": "stdout",
     "output_type": "stream",
     "text": [
      "My text\n",
      "      my text       \n",
      "______my_text_______\n",
      "2\n",
      "0\n",
      "True\n",
      "False\n",
      "3\n",
      "6\n",
      "-1\n",
      "MY TEXT\n",
      "my text\n",
      "['my', 'text']\n",
      "my text\n"
     ]
    }
   ],
   "source": [
    "# первый символ в uppercase\n",
    "print(s.capitalize())\n",
    "\n",
    "# центрируем строку\n",
    "s_new = s.center(20)\n",
    "print(s_new)\n",
    "\n",
    "# replace\n",
    "s_new = s_new.replace(\" \", \"_\")\n",
    "print(s_new)\n",
    "\n",
    "# count\n",
    "print(s.count(\"t\"))\n",
    "print(s.count(\"a\"))\n",
    "\n",
    "# startswith & endswith\n",
    "print(s.startswith(\"my\"))\n",
    "print(s.endswith(\"my\"))\n",
    "\n",
    "# index\n",
    "print(s.index(\"t\"))\n",
    "# print(s.index(\"T\"))\n",
    "print(s.index(\"t\", 4))\n",
    "print(s.find(\"123\"))\n",
    "\n",
    "# lower & uppercase\n",
    "print(s.upper())\n",
    "print(s.lower())\n",
    "\n",
    "# split & strip\n",
    "print(s.split(\" \"))\n",
    "s_new = \"     \" + s + \"     \"\n",
    "print(s_new.strip())"
   ]
  },
  {
   "cell_type": "markdown",
   "id": "d0b7193e-67d4-4571-8f4d-fc771a95ce29",
   "metadata": {},
   "source": [
    "### List & Tuple"
   ]
  },
  {
   "cell_type": "code",
   "execution_count": 44,
   "id": "d14b7d1a-1fd7-42b5-b048-1f3bd89b7378",
   "metadata": {},
   "outputs": [],
   "source": [
    "l = [1,2,3]\n",
    "t = (1,2,3)"
   ]
  },
  {
   "cell_type": "code",
   "execution_count": 47,
   "id": "787daf5b-fbd4-49c9-934c-36a16a02b962",
   "metadata": {},
   "outputs": [
    {
     "data": {
      "text/plain": [
       "1"
      ]
     },
     "execution_count": 47,
     "metadata": {},
     "output_type": "execute_result"
    }
   ],
   "source": [
    "# tuple не очень богат на методы\n",
    "print(t.count(1))\n",
    "print(t.index(2)) # выдает ошибку если не нашл элемент"
   ]
  },
  {
   "cell_type": "code",
   "execution_count": 50,
   "id": "dea079cf-8e8d-4372-a515-0db469c1f69b",
   "metadata": {},
   "outputs": [
    {
     "name": "stdout",
     "output_type": "stream",
     "text": [
      "1 2 3\n",
      "1 2 3\n",
      "2 1\n"
     ]
    }
   ],
   "source": [
    "# распаковка кортежа\n",
    "a,b,c = t\n",
    "print(a,b,c)\n",
    "\n",
    "a,b,c = l\n",
    "print(a,b,c)\n",
    "\n",
    "# обмен значений\n",
    "a,b = b,a\n",
    "print(a, b)"
   ]
  },
  {
   "cell_type": "code",
   "execution_count": 51,
   "id": "555299f0-4b1d-4f25-9df8-af3a154a10a9",
   "metadata": {
    "scrolled": true
   },
   "outputs": [
    {
     "data": {
      "text/plain": [
       "['__add__',\n",
       " '__class__',\n",
       " '__class_getitem__',\n",
       " '__contains__',\n",
       " '__delattr__',\n",
       " '__delitem__',\n",
       " '__dir__',\n",
       " '__doc__',\n",
       " '__eq__',\n",
       " '__format__',\n",
       " '__ge__',\n",
       " '__getattribute__',\n",
       " '__getitem__',\n",
       " '__gt__',\n",
       " '__hash__',\n",
       " '__iadd__',\n",
       " '__imul__',\n",
       " '__init__',\n",
       " '__init_subclass__',\n",
       " '__iter__',\n",
       " '__le__',\n",
       " '__len__',\n",
       " '__lt__',\n",
       " '__mul__',\n",
       " '__ne__',\n",
       " '__new__',\n",
       " '__reduce__',\n",
       " '__reduce_ex__',\n",
       " '__repr__',\n",
       " '__reversed__',\n",
       " '__rmul__',\n",
       " '__setattr__',\n",
       " '__setitem__',\n",
       " '__sizeof__',\n",
       " '__str__',\n",
       " '__subclasshook__',\n",
       " 'append',\n",
       " 'clear',\n",
       " 'copy',\n",
       " 'count',\n",
       " 'extend',\n",
       " 'index',\n",
       " 'insert',\n",
       " 'pop',\n",
       " 'remove',\n",
       " 'reverse',\n",
       " 'sort']"
      ]
     },
     "execution_count": 51,
     "metadata": {},
     "output_type": "execute_result"
    }
   ],
   "source": [
    "dir(l)"
   ]
  },
  {
   "cell_type": "code",
   "execution_count": 70,
   "id": "9b5811af-6320-4e6e-a2d8-617cd42eddcf",
   "metadata": {},
   "outputs": [
    {
     "name": "stdout",
     "output_type": "stream",
     "text": [
      "[1, 2, 3, 4, 5, 4]\n",
      "[]\n",
      "1\n",
      "[1, 2, 3, 4, 5]\n",
      "['here', 1, 2, 3, 4, 5]\n",
      "2\n",
      "['here', 1, 3, 4, 5]\n",
      "[5, 4, 3, 1, 'here']\n",
      "[1, 2, 3, 4, 5]\n",
      "[1, 2, 3, 4, 5]\n"
     ]
    }
   ],
   "source": [
    "# append\n",
    "l.append(4) # inplace\n",
    "print(l)\n",
    "\n",
    "# clear\n",
    "l.clear() # inplace\n",
    "print(l)\n",
    "l = [1,2,3]\n",
    "\n",
    "# count\n",
    "print(l.count(1))\n",
    "\n",
    "# extend\n",
    "l.extend([4,5]) # inplace\n",
    "print(l)\n",
    "\n",
    "# insert\n",
    "l.insert(0, \"here\")\n",
    "print(l)\n",
    "\n",
    "# pop\n",
    "removed_element = l.pop(2)\n",
    "print(removed_element)\n",
    "print(l)\n",
    "\n",
    "# reverse\n",
    "l.reverse() # inplace\n",
    "print(l)\n",
    "\n",
    "# sort\n",
    "l = [5,4,2,1,3]\n",
    "l.sort() # inplace\n",
    "print(l)\n",
    "print(sorted(l))"
   ]
  },
  {
   "cell_type": "code",
   "execution_count": 73,
   "id": "f308f931-6cfb-49dc-ab9b-9f3a468574a1",
   "metadata": {},
   "outputs": [
    {
     "name": "stdout",
     "output_type": "stream",
     "text": [
      "[('a', 2), ('b', 1), ('c', 3)]\n",
      "[('b', 1), ('a', 2), ('c', 3)]\n"
     ]
    }
   ],
   "source": [
    "# sorted with key\n",
    "l = [(\"c\", 3), (\"a\",2), (\"b\", 1)]\n",
    "print(sorted(l, key=lambda x: x[0]))\n",
    "print(sorted(l, key=lambda x: x[1]))"
   ]
  },
  {
   "cell_type": "code",
   "execution_count": 90,
   "id": "446ada8b-19d7-458a-9ab7-bc0dc046e4f3",
   "metadata": {},
   "outputs": [
    {
     "name": "stdout",
     "output_type": "stream",
     "text": [
      "range(0, 100, 2)\n",
      "0 100 2\n",
      "True\n",
      "False\n"
     ]
    }
   ],
   "source": [
    "# range\n",
    "r = range(0, 100, 2)\n",
    "print(r)\n",
    "print(r.start, r.stop, r.step)\n",
    "print(42 in r)\n",
    "print(43 in r)\n"
   ]
  },
  {
   "cell_type": "code",
   "execution_count": 93,
   "id": "4e596744-348d-463e-81c9-c76954bc4821",
   "metadata": {},
   "outputs": [],
   "source": [
    "r = range(1_000_000)"
   ]
  },
  {
   "cell_type": "code",
   "execution_count": 94,
   "id": "23f1e9f9-d661-4870-a422-f68625ef74f3",
   "metadata": {},
   "outputs": [
    {
     "name": "stderr",
     "output_type": "stream",
     "text": [
      "100%|████████████████████████████████████████████████| 2000/2000 [00:00<00:00, 2010692.23it/s]"
     ]
    },
    {
     "name": "stdout",
     "output_type": "stream",
     "text": [
      "CPU times: total: 0 ns\n",
      "Wall time: 6 ms\n"
     ]
    },
    {
     "name": "stderr",
     "output_type": "stream",
     "text": [
      "\n"
     ]
    }
   ],
   "source": [
    "%%time\n",
    "# search in range\n",
    "for i in tqdm(range(-1000, 1000)):\n",
    "    i in r"
   ]
  },
  {
   "cell_type": "code",
   "execution_count": null,
   "id": "8b3cc872-137c-4771-87bb-c14a04c2767a",
   "metadata": {},
   "outputs": [],
   "source": [
    "# generators"
   ]
  },
  {
   "cell_type": "code",
   "execution_count": null,
   "id": "7a7b7fef-6557-417c-9a2a-11d6efa45d04",
   "metadata": {},
   "outputs": [],
   "source": []
  },
  {
   "cell_type": "code",
   "execution_count": null,
   "id": "c10a41ae-24fd-4a5a-baae-c9b0835982ee",
   "metadata": {},
   "outputs": [],
   "source": []
  },
  {
   "cell_type": "markdown",
   "id": "f479b6b7-a041-4673-a119-67584d81570e",
   "metadata": {},
   "source": [
    "### Dict & Set"
   ]
  },
  {
   "cell_type": "code",
   "execution_count": 55,
   "id": "ce5e13d2-7a47-4d17-9920-443338857af2",
   "metadata": {},
   "outputs": [
    {
     "data": {
      "text/plain": [
       "[]"
      ]
     },
     "execution_count": 55,
     "metadata": {},
     "output_type": "execute_result"
    }
   ],
   "source": [
    "l"
   ]
  },
  {
   "cell_type": "code",
   "execution_count": 52,
   "id": "fbba61a8-5978-4834-be37-8b10aecb368d",
   "metadata": {},
   "outputs": [
    {
     "data": {
      "text/plain": [
       "[1, 2, 3]"
      ]
     },
     "execution_count": 52,
     "metadata": {},
     "output_type": "execute_result"
    }
   ],
   "source": [
    "sorted(t)"
   ]
  },
  {
   "cell_type": "markdown",
   "id": "3f193973-b56e-4398-ab15-849d4b5902ac",
   "metadata": {},
   "source": [
    "## Циклы: for, while loops, generators"
   ]
  },
  {
   "cell_type": "code",
   "execution_count": null,
   "id": "b6048597-0376-49d1-ac27-37862c2601c6",
   "metadata": {},
   "outputs": [],
   "source": [
    "range try_except"
   ]
  }
 ],
 "metadata": {
  "kernelspec": {
   "display_name": "Python 3 (ipykernel)",
   "language": "python",
   "name": "python3"
  },
  "language_info": {
   "codemirror_mode": {
    "name": "ipython",
    "version": 3
   },
   "file_extension": ".py",
   "mimetype": "text/x-python",
   "name": "python",
   "nbconvert_exporter": "python",
   "pygments_lexer": "ipython3",
   "version": "3.10.14"
  }
 },
 "nbformat": 4,
 "nbformat_minor": 5
}
