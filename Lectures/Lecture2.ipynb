{
 "cells": [
  {
   "cell_type": "markdown",
   "id": "2667c656",
   "metadata": {},
   "source": [
    "# Agenda\n",
    "1. Типы данных: dict & set\n",
    "2. Операции с основными типами данных\n",
    "3. Циклы: while, for,\n",
    "4. Операторы прерывания, обработка исключений"
   ]
  },
  {
   "cell_type": "code",
   "execution_count": 1,
   "id": "20a8e6d2-6d16-4ea1-8c27-94f5bfbd06d2",
   "metadata": {},
   "outputs": [],
   "source": [
    "from tqdm import tqdm"
   ]
  },
  {
   "cell_type": "markdown",
   "id": "9f7affe1-2cd9-4c0e-89d0-a47d9f627730",
   "metadata": {},
   "source": [
    "## Типы данных: dict & set"
   ]
  },
  {
   "cell_type": "code",
   "execution_count": 2,
   "id": "b1eb9f9f-a616-4e04-b45f-05bd32b136e0",
   "metadata": {},
   "outputs": [
    {
     "data": {
      "text/plain": [
       "{'k1': 'v1', 'k2': (1, 2, 3)}"
      ]
     },
     "metadata": {},
     "output_type": "display_data"
    },
    {
     "data": {
      "text/plain": [
       "{'k1': 'v1', 'k2': (1, 2, 3)}"
      ]
     },
     "metadata": {},
     "output_type": "display_data"
    }
   ],
   "source": [
    "# как создать словарь\n",
    "d1 = {\"k1\": \"v1\", \"k2\": (1,2,3)}\n",
    "d2 = dict(k1=\"v1\", k2=(1,2,3))\n",
    "\n",
    "display(d1)\n",
    "display(d2)"
   ]
  },
  {
   "cell_type": "code",
   "execution_count": 3,
   "id": "8b4b07c0-8dbf-4e0c-8605-f958aee0c931",
   "metadata": {},
   "outputs": [
    {
     "name": "stdout",
     "output_type": "stream",
     "text": [
      "True\n",
      "False\n",
      "False\n"
     ]
    }
   ],
   "source": [
    "# сравнение словарей\n",
    "print(d1==d2)\n",
    "print(d1=={\"k1\":\"a\", \"k2\":\"b\"})\n",
    "print(d1=={\"k2\":\"v1\", \"k3\":(1,2,3)})"
   ]
  },
  {
   "cell_type": "code",
   "execution_count": 4,
   "id": "25fcff46-a9e3-42f2-b38d-e7d482e537dd",
   "metadata": {},
   "outputs": [
    {
     "data": {
      "text/plain": [
       "1000000"
      ]
     },
     "metadata": {},
     "output_type": "display_data"
    },
    {
     "data": {
      "text/plain": [
       "7729050657924704419"
      ]
     },
     "metadata": {},
     "output_type": "display_data"
    },
    {
     "data": {
      "text/plain": [
       "529344067295497451"
      ]
     },
     "metadata": {},
     "output_type": "display_data"
    },
    {
     "ename": "TypeError",
     "evalue": "unhashable type: 'list'",
     "output_type": "error",
     "traceback": [
      "\u001b[0;31m---------------------------------------------------------------------------\u001b[0m",
      "\u001b[0;31mTypeError\u001b[0m                                 Traceback (most recent call last)",
      "Cell \u001b[0;32mIn[4], line 3\u001b[0m\n\u001b[1;32m      1\u001b[0m \u001b[38;5;66;03m# что может быть ключом словаря\u001b[39;00m\n\u001b[1;32m      2\u001b[0m display(\u001b[38;5;28mhash\u001b[39m(\u001b[38;5;241m1e6\u001b[39m), \u001b[38;5;28mhash\u001b[39m(\u001b[38;5;124m\"\u001b[39m\u001b[38;5;124mstr\u001b[39m\u001b[38;5;124m\"\u001b[39m), \u001b[38;5;28mhash\u001b[39m((\u001b[38;5;241m1\u001b[39m,\u001b[38;5;241m2\u001b[39m,\u001b[38;5;241m3\u001b[39m)))\n\u001b[0;32m----> 3\u001b[0m \u001b[38;5;28;43mhash\u001b[39;49m\u001b[43m(\u001b[49m\u001b[43m[\u001b[49m\u001b[38;5;241;43m1\u001b[39;49m\u001b[43m,\u001b[49m\u001b[38;5;241;43m2\u001b[39;49m\u001b[43m]\u001b[49m\u001b[43m)\u001b[49m\n",
      "\u001b[0;31mTypeError\u001b[0m: unhashable type: 'list'"
     ]
    }
   ],
   "source": [
    "# что может быть ключом словаря\n",
    "display(hash(1e6), hash(\"str\"), hash((1,2,3)))\n",
    "hash([1,2])"
   ]
  },
  {
   "cell_type": "code",
   "execution_count": 5,
   "id": "bbf29b74",
   "metadata": {},
   "outputs": [
    {
     "name": "stdout",
     "output_type": "stream",
     "text": [
      "v1\n",
      "{'k1': 'v1', 'k2': (1, 2, 3)}\n"
     ]
    },
    {
     "ename": "NameError",
     "evalue": "name 'd' is not defined",
     "output_type": "error",
     "traceback": [
      "\u001b[0;31m---------------------------------------------------------------------------\u001b[0m",
      "\u001b[0;31mNameError\u001b[0m                                 Traceback (most recent call last)",
      "Cell \u001b[0;32mIn[5], line 5\u001b[0m\n\u001b[1;32m      2\u001b[0m \u001b[38;5;28mprint\u001b[39m(d1[\u001b[38;5;124m\"\u001b[39m\u001b[38;5;124mk1\u001b[39m\u001b[38;5;124m\"\u001b[39m])\n\u001b[1;32m      3\u001b[0m \u001b[38;5;28mprint\u001b[39m(d1)\n\u001b[0;32m----> 5\u001b[0m \u001b[38;5;28mprint\u001b[39m(\u001b[43md\u001b[49m[\u001b[38;5;124m\"\u001b[39m\u001b[38;5;124mk3\u001b[39m\u001b[38;5;124m\"\u001b[39m])\n",
      "\u001b[0;31mNameError\u001b[0m: name 'd' is not defined"
     ]
    }
   ],
   "source": [
    "# как получить значение из словаря\n",
    "print(d1[\"k1\"])\n",
    "print(d1)\n",
    "\n",
    "print(d[\"k3\"])"
   ]
  },
  {
   "cell_type": "code",
   "execution_count": 6,
   "id": "85883f89",
   "metadata": {},
   "outputs": [
    {
     "name": "stdout",
     "output_type": "stream",
     "text": [
      "{'k1': 42, 'k2': (1, 2, 3)}\n"
     ]
    }
   ],
   "source": [
    "# как поменять значение в словаре\n",
    "d1[\"k1\"] = 42\n",
    "print(d1)"
   ]
  },
  {
   "cell_type": "code",
   "execution_count": 7,
   "id": "4ab7311f",
   "metadata": {},
   "outputs": [
    {
     "name": "stdout",
     "output_type": "stream",
     "text": [
      "{'k1_l1': {'k1_l2': {'k1_l3': 'val'}}}\n",
      "\n",
      "{'k1_l3': 'val'}\n",
      "{'k1_l3': 42}\n",
      "{'k1_l1': {'k1_l2': {'k1_l3': 42}}}\n"
     ]
    }
   ],
   "source": [
    "# nested dict\n",
    "d = {\"k1_l1\": {\"k1_l2\": {\"k1_l3\": \"val\"}}}\n",
    "print(d, end=\"\\n\\n\")\n",
    "\n",
    "d_l3 = d[\"k1_l1\"][\"k1_l2\"]\n",
    "print(d_l3)\n",
    "d_l3[\"k1_l3\"] = 42\n",
    "print(d_l3)\n",
    "print(d)"
   ]
  },
  {
   "cell_type": "code",
   "execution_count": 8,
   "id": "4dc91a53-6468-4cf5-873b-a51af29c538e",
   "metadata": {},
   "outputs": [
    {
     "name": "stdout",
     "output_type": "stream",
     "text": [
      "{1, 2, 3, 's'}\n"
     ]
    }
   ],
   "source": [
    "# set\n",
    "s1 = set([1,1,2,1,3,\"s\"])\n",
    "s2 = {1,1,2,1,3,\"s\"}\n",
    "s1 == s2\n",
    "print(s1)"
   ]
  },
  {
   "cell_type": "code",
   "execution_count": 9,
   "id": "c8719339",
   "metadata": {},
   "outputs": [
    {
     "name": "stdout",
     "output_type": "stream",
     "text": [
      "True\n"
     ]
    }
   ],
   "source": [
    "# равенство сетов\n",
    "print({1,2,3} == {2,3,1})"
   ]
  },
  {
   "cell_type": "code",
   "execution_count": 10,
   "id": "96f32480-8496-4536-806b-4ab38f40564a",
   "metadata": {},
   "outputs": [
    {
     "name": "stdout",
     "output_type": "stream",
     "text": [
      "<class 'dict'>\n",
      "<class 'set'>\n"
     ]
    }
   ],
   "source": [
    "# разница в инициализации\n",
    "d = {}\n",
    "print(type(d))\n",
    "s = set()\n",
    "print(type(s))"
   ]
  },
  {
   "cell_type": "code",
   "execution_count": 11,
   "id": "25802d7c-754b-401a-93a8-96c0fb2e2773",
   "metadata": {},
   "outputs": [
    {
     "name": "stdout",
     "output_type": "stream",
     "text": [
      "CPU times: user 14.2 ms, sys: 35.7 ms, total: 49.8 ms\n",
      "Wall time: 49.7 ms\n"
     ]
    },
    {
     "data": {
      "text/plain": [
       "True"
      ]
     },
     "execution_count": 11,
     "metadata": {},
     "output_type": "execute_result"
    }
   ],
   "source": [
    "%%time\n",
    "# hash\n",
    "l = list(range(1_000_000))\n",
    "s = set(range(1_000_000))\n",
    "len(l) == len(s)"
   ]
  },
  {
   "cell_type": "code",
   "execution_count": 12,
   "id": "6afcdb2e-6bca-43e8-8209-7411d05d5878",
   "metadata": {},
   "outputs": [
    {
     "name": "stderr",
     "output_type": "stream",
     "text": [
      "100%|██████████████████████████████████████████████████████████████████████████████████████████████████████████████████████████████████| 2000/2000 [00:04<00:00, 492.92it/s]"
     ]
    },
    {
     "name": "stdout",
     "output_type": "stream",
     "text": [
      "CPU times: user 4.04 s, sys: 28.9 ms, total: 4.07 s\n",
      "Wall time: 4.07 s\n"
     ]
    },
    {
     "name": "stderr",
     "output_type": "stream",
     "text": [
      "\n"
     ]
    }
   ],
   "source": [
    "%%time\n",
    "# search in list\n",
    "for i in tqdm(range(-1000, 1000)):\n",
    "    i in l"
   ]
  },
  {
   "cell_type": "code",
   "execution_count": 13,
   "id": "0b8c7d4e-72a9-45ee-8218-20cd681ad6da",
   "metadata": {},
   "outputs": [
    {
     "name": "stderr",
     "output_type": "stream",
     "text": [
      "100%|██████████████████████████████████████████████████████████████████████████████████████████████████████████████████████████████| 2000/2000 [00:00<00:00, 5216796.02it/s]"
     ]
    },
    {
     "name": "stdout",
     "output_type": "stream",
     "text": [
      "CPU times: user 2.68 ms, sys: 39 µs, total: 2.72 ms\n",
      "Wall time: 2.35 ms\n"
     ]
    },
    {
     "name": "stderr",
     "output_type": "stream",
     "text": [
      "\n"
     ]
    }
   ],
   "source": [
    "%%time\n",
    "# search in set\n",
    "for i in tqdm(range(-1000, 1000)):\n",
    "    i in s"
   ]
  },
  {
   "cell_type": "markdown",
   "id": "6bd10d68-d848-484f-b6fa-d201911fa7b1",
   "metadata": {},
   "source": [
    "## Методы основных типов данных: str, list, tuple, dict, set"
   ]
  },
  {
   "cell_type": "markdown",
   "id": "cc15b73f-75a6-46af-ab1b-f9f7b761aed3",
   "metadata": {},
   "source": [
    "### String"
   ]
  },
  {
   "cell_type": "code",
   "execution_count": 14,
   "id": "8fa11975-9f06-4d57-9e99-742887f0dfc4",
   "metadata": {
    "scrolled": true
   },
   "outputs": [
    {
     "data": {
      "text/plain": [
       "['__add__',\n",
       " '__class__',\n",
       " '__contains__',\n",
       " '__delattr__',\n",
       " '__dir__',\n",
       " '__doc__',\n",
       " '__eq__',\n",
       " '__format__',\n",
       " '__ge__',\n",
       " '__getattribute__',\n",
       " '__getitem__',\n",
       " '__getnewargs__',\n",
       " '__gt__',\n",
       " '__hash__',\n",
       " '__init__',\n",
       " '__init_subclass__',\n",
       " '__iter__',\n",
       " '__le__',\n",
       " '__len__',\n",
       " '__lt__',\n",
       " '__mod__',\n",
       " '__mul__',\n",
       " '__ne__',\n",
       " '__new__',\n",
       " '__reduce__',\n",
       " '__reduce_ex__',\n",
       " '__repr__',\n",
       " '__rmod__',\n",
       " '__rmul__',\n",
       " '__setattr__',\n",
       " '__sizeof__',\n",
       " '__str__',\n",
       " '__subclasshook__',\n",
       " 'capitalize',\n",
       " 'casefold',\n",
       " 'center',\n",
       " 'count',\n",
       " 'encode',\n",
       " 'endswith',\n",
       " 'expandtabs',\n",
       " 'find',\n",
       " 'format',\n",
       " 'format_map',\n",
       " 'index',\n",
       " 'isalnum',\n",
       " 'isalpha',\n",
       " 'isascii',\n",
       " 'isdecimal',\n",
       " 'isdigit',\n",
       " 'isidentifier',\n",
       " 'islower',\n",
       " 'isnumeric',\n",
       " 'isprintable',\n",
       " 'isspace',\n",
       " 'istitle',\n",
       " 'isupper',\n",
       " 'join',\n",
       " 'ljust',\n",
       " 'lower',\n",
       " 'lstrip',\n",
       " 'maketrans',\n",
       " 'partition',\n",
       " 'removeprefix',\n",
       " 'removesuffix',\n",
       " 'replace',\n",
       " 'rfind',\n",
       " 'rindex',\n",
       " 'rjust',\n",
       " 'rpartition',\n",
       " 'rsplit',\n",
       " 'rstrip',\n",
       " 'split',\n",
       " 'splitlines',\n",
       " 'startswith',\n",
       " 'strip',\n",
       " 'swapcase',\n",
       " 'title',\n",
       " 'translate',\n",
       " 'upper',\n",
       " 'zfill']"
      ]
     },
     "execution_count": 14,
     "metadata": {},
     "output_type": "execute_result"
    }
   ],
   "source": [
    "s = \"my text\"\n",
    "dir(s)"
   ]
  },
  {
   "cell_type": "code",
   "execution_count": 15,
   "id": "d85fc6e1",
   "metadata": {},
   "outputs": [
    {
     "name": "stdout",
     "output_type": "stream",
     "text": [
      "My text\n"
     ]
    }
   ],
   "source": [
    "# первый символ в uppercase\n",
    "print(s.capitalize())"
   ]
  },
  {
   "cell_type": "code",
   "execution_count": 16,
   "id": "1921f72a",
   "metadata": {},
   "outputs": [
    {
     "name": "stdout",
     "output_type": "stream",
     "text": [
      "      my text       \n"
     ]
    }
   ],
   "source": [
    "# центрируем строку\n",
    "s_new = s.center(20)\n",
    "print(s_new)"
   ]
  },
  {
   "cell_type": "code",
   "execution_count": 17,
   "id": "43dd1b6c",
   "metadata": {},
   "outputs": [
    {
     "name": "stdout",
     "output_type": "stream",
     "text": [
      "______my_text_______\n"
     ]
    }
   ],
   "source": [
    "# replace\n",
    "s_new = s_new.replace(\" \", \"_\")\n",
    "print(s_new)"
   ]
  },
  {
   "cell_type": "code",
   "execution_count": 18,
   "id": "06246c22",
   "metadata": {},
   "outputs": [
    {
     "name": "stdout",
     "output_type": "stream",
     "text": [
      "2\n",
      "0\n"
     ]
    }
   ],
   "source": [
    "# count\n",
    "print(s.count(\"t\"))\n",
    "print(s.count(\"a\"))"
   ]
  },
  {
   "cell_type": "code",
   "execution_count": 19,
   "id": "c5fd9b2a",
   "metadata": {},
   "outputs": [
    {
     "name": "stdout",
     "output_type": "stream",
     "text": [
      "True\n",
      "False\n"
     ]
    }
   ],
   "source": [
    "# startswith & endswith\n",
    "print(s.startswith(\"my\"))\n",
    "print(s.endswith(\"my\"))"
   ]
  },
  {
   "cell_type": "code",
   "execution_count": 20,
   "id": "51aeae83",
   "metadata": {},
   "outputs": [
    {
     "name": "stdout",
     "output_type": "stream",
     "text": [
      "3\n",
      "6\n"
     ]
    },
    {
     "ename": "ValueError",
     "evalue": "substring not found",
     "output_type": "error",
     "traceback": [
      "\u001b[0;31m---------------------------------------------------------------------------\u001b[0m",
      "\u001b[0;31mValueError\u001b[0m                                Traceback (most recent call last)",
      "Cell \u001b[0;32mIn[20], line 4\u001b[0m\n\u001b[1;32m      2\u001b[0m \u001b[38;5;28mprint\u001b[39m(s\u001b[38;5;241m.\u001b[39mindex(\u001b[38;5;124m\"\u001b[39m\u001b[38;5;124mt\u001b[39m\u001b[38;5;124m\"\u001b[39m))\n\u001b[1;32m      3\u001b[0m \u001b[38;5;28mprint\u001b[39m(s\u001b[38;5;241m.\u001b[39mindex(\u001b[38;5;124m\"\u001b[39m\u001b[38;5;124mt\u001b[39m\u001b[38;5;124m\"\u001b[39m, \u001b[38;5;241m4\u001b[39m))\n\u001b[0;32m----> 4\u001b[0m \u001b[38;5;28mprint\u001b[39m(\u001b[43ms\u001b[49m\u001b[38;5;241;43m.\u001b[39;49m\u001b[43mindex\u001b[49m\u001b[43m(\u001b[49m\u001b[38;5;124;43m\"\u001b[39;49m\u001b[38;5;124;43mT\u001b[39;49m\u001b[38;5;124;43m\"\u001b[39;49m\u001b[43m)\u001b[49m)\n",
      "\u001b[0;31mValueError\u001b[0m: substring not found"
     ]
    }
   ],
   "source": [
    "# index\n",
    "print(s.index(\"t\"))\n",
    "print(s.index(\"t\", 4))\n",
    "print(s.index(\"T\"))"
   ]
  },
  {
   "cell_type": "code",
   "execution_count": 21,
   "id": "83f810f6",
   "metadata": {},
   "outputs": [
    {
     "name": "stdout",
     "output_type": "stream",
     "text": [
      "-1\n"
     ]
    }
   ],
   "source": [
    "# find\n",
    "print(s.find(\"123\"))"
   ]
  },
  {
   "cell_type": "code",
   "execution_count": 22,
   "id": "99f23505",
   "metadata": {},
   "outputs": [
    {
     "name": "stdout",
     "output_type": "stream",
     "text": [
      "MY TEXT\n",
      "my text\n"
     ]
    }
   ],
   "source": [
    "# lower & uppercase\n",
    "print(s.upper())\n",
    "print(s.lower())"
   ]
  },
  {
   "cell_type": "code",
   "execution_count": 23,
   "id": "9580363e",
   "metadata": {},
   "outputs": [
    {
     "name": "stdout",
     "output_type": "stream",
     "text": [
      "['my', 'text']\n",
      "my text\n"
     ]
    }
   ],
   "source": [
    "# split & strip\n",
    "print(s.split(\" \"))\n",
    "s_new = \"     \" + s + \"     \"\n",
    "print(s_new.strip())"
   ]
  },
  {
   "cell_type": "markdown",
   "id": "d0b7193e-67d4-4571-8f4d-fc771a95ce29",
   "metadata": {},
   "source": [
    "### List & Tuple"
   ]
  },
  {
   "cell_type": "code",
   "execution_count": 24,
   "id": "d14b7d1a-1fd7-42b5-b048-1f3bd89b7378",
   "metadata": {},
   "outputs": [],
   "source": [
    "l = [1,2,3]\n",
    "t = (1,2,3)"
   ]
  },
  {
   "cell_type": "code",
   "execution_count": 25,
   "id": "787daf5b-fbd4-49c9-934c-36a16a02b962",
   "metadata": {},
   "outputs": [
    {
     "name": "stdout",
     "output_type": "stream",
     "text": [
      "['__add__', '__class__', '__class_getitem__', '__contains__', '__delattr__', '__dir__', '__doc__', '__eq__', '__format__', '__ge__', '__getattribute__', '__getitem__', '__getnewargs__', '__gt__', '__hash__', '__init__', '__init_subclass__', '__iter__', '__le__', '__len__', '__lt__', '__mul__', '__ne__', '__new__', '__reduce__', '__reduce_ex__', '__repr__', '__rmul__', '__setattr__', '__sizeof__', '__str__', '__subclasshook__', 'count', 'index']\n",
      "1\n",
      "1\n"
     ]
    }
   ],
   "source": [
    "# tuple не очень богат на методы\n",
    "print(dir(t))\n",
    "print(t.count(2))\n",
    "print(t.index(2)) # выдает ошибку если не нашел элемент"
   ]
  },
  {
   "cell_type": "code",
   "execution_count": 26,
   "id": "01b52412",
   "metadata": {},
   "outputs": [
    {
     "name": "stdout",
     "output_type": "stream",
     "text": [
      "1 2 3\n",
      "1 2 3\n"
     ]
    }
   ],
   "source": [
    "# распаковка кортежа\n",
    "a,b,c = t\n",
    "print(a,b,c)\n",
    "\n",
    "a,b,c = l\n",
    "print(a,b,c)"
   ]
  },
  {
   "cell_type": "code",
   "execution_count": 27,
   "id": "dea079cf-8e8d-4372-a515-0db469c1f69b",
   "metadata": {},
   "outputs": [
    {
     "name": "stdout",
     "output_type": "stream",
     "text": [
      "2 1\n"
     ]
    }
   ],
   "source": [
    "# обмен значений\n",
    "a,b = b,a\n",
    "print(a, b)"
   ]
  },
  {
   "cell_type": "code",
   "execution_count": 28,
   "id": "a9948a93",
   "metadata": {},
   "outputs": [
    {
     "name": "stdout",
     "output_type": "stream",
     "text": [
      "[1, 2, 3, 4]\n"
     ]
    }
   ],
   "source": [
    "# append\n",
    "l.append(4) # inplace\n",
    "print(l)"
   ]
  },
  {
   "cell_type": "code",
   "execution_count": 29,
   "id": "8febe449",
   "metadata": {},
   "outputs": [
    {
     "name": "stdout",
     "output_type": "stream",
     "text": [
      "[]\n"
     ]
    }
   ],
   "source": [
    "# clear\n",
    "l.clear() # inplace\n",
    "print(l)\n",
    "l = [1,2,3]"
   ]
  },
  {
   "cell_type": "code",
   "execution_count": 30,
   "id": "2107ab61",
   "metadata": {},
   "outputs": [
    {
     "name": "stdout",
     "output_type": "stream",
     "text": [
      "1\n"
     ]
    }
   ],
   "source": [
    "# count\n",
    "print(l.count(1))"
   ]
  },
  {
   "cell_type": "code",
   "execution_count": 31,
   "id": "eefdf57e",
   "metadata": {},
   "outputs": [
    {
     "name": "stdout",
     "output_type": "stream",
     "text": [
      "[1, 2, 3, 4, 5]\n"
     ]
    }
   ],
   "source": [
    "# extend\n",
    "l.extend([4,5]) # inplace\n",
    "print(l)"
   ]
  },
  {
   "cell_type": "code",
   "execution_count": 32,
   "id": "598d41ab",
   "metadata": {},
   "outputs": [
    {
     "name": "stdout",
     "output_type": "stream",
     "text": [
      "['here', 1, 2, 3, 4, 5]\n"
     ]
    }
   ],
   "source": [
    "# insert\n",
    "l.insert(0, \"here\")\n",
    "print(l)"
   ]
  },
  {
   "cell_type": "code",
   "execution_count": 33,
   "id": "9b4287ae",
   "metadata": {},
   "outputs": [
    {
     "name": "stdout",
     "output_type": "stream",
     "text": [
      "2\n",
      "['here', 1, 3, 4, 5]\n"
     ]
    }
   ],
   "source": [
    "# pop\n",
    "removed_element = l.pop(2)\n",
    "print(removed_element)\n",
    "print(l)"
   ]
  },
  {
   "cell_type": "code",
   "execution_count": 34,
   "id": "473141e7",
   "metadata": {},
   "outputs": [
    {
     "name": "stdout",
     "output_type": "stream",
     "text": [
      "[5, 4, 3, 1, 'here']\n"
     ]
    }
   ],
   "source": [
    "# reverse\n",
    "l.reverse() # inplace\n",
    "print(l)"
   ]
  },
  {
   "cell_type": "code",
   "execution_count": 35,
   "id": "0fd8793c",
   "metadata": {},
   "outputs": [
    {
     "name": "stdout",
     "output_type": "stream",
     "text": [
      "[1, 2, 3, 4, 5]\n",
      "[1, 2, 3, 4, 5]\n"
     ]
    }
   ],
   "source": [
    "# sort\n",
    "l = [5,4,2,1,3]\n",
    "l.sort() # inplace\n",
    "print(l)\n",
    "print(sorted(l))"
   ]
  },
  {
   "cell_type": "code",
   "execution_count": 36,
   "id": "f308f931-6cfb-49dc-ab9b-9f3a468574a1",
   "metadata": {},
   "outputs": [
    {
     "name": "stdout",
     "output_type": "stream",
     "text": [
      "[('a', 2), ('b', 1), ('c', 3)]\n",
      "[('b', 1), ('a', 2), ('c', 3)]\n"
     ]
    }
   ],
   "source": [
    "# sorted with key\n",
    "l = [(\"c\", 3), (\"a\",2), (\"b\", 1)]\n",
    "print(sorted(l, key=lambda x: x[0]))\n",
    "print(sorted(l, key=lambda x: x[1]))"
   ]
  },
  {
   "cell_type": "code",
   "execution_count": 37,
   "id": "446ada8b-19d7-458a-9ab7-bc0dc046e4f3",
   "metadata": {},
   "outputs": [
    {
     "name": "stdout",
     "output_type": "stream",
     "text": [
      "range(0, 100, 2)\n",
      "0 100 2\n",
      "True\n",
      "False\n"
     ]
    }
   ],
   "source": [
    "# range\n",
    "r = range(0, 100, 2)\n",
    "print(r)\n",
    "print(r.start, r.stop, r.step)\n",
    "print(42 in r)\n",
    "print(43 in r)"
   ]
  },
  {
   "cell_type": "code",
   "execution_count": 38,
   "id": "4e596744-348d-463e-81c9-c76954bc4821",
   "metadata": {},
   "outputs": [],
   "source": [
    "# init 1e6 range\n",
    "r = range(1_000_000)"
   ]
  },
  {
   "cell_type": "code",
   "execution_count": 39,
   "id": "23f1e9f9-d661-4870-a422-f68625ef74f3",
   "metadata": {},
   "outputs": [
    {
     "name": "stderr",
     "output_type": "stream",
     "text": [
      "100%|██████████████████████████████████████████████████████████████████████████████████████████████████████████████████████████████| 2000/2000 [00:00<00:00, 5041230.77it/s]"
     ]
    },
    {
     "name": "stdout",
     "output_type": "stream",
     "text": [
      "CPU times: user 2.11 ms, sys: 64 µs, total: 2.17 ms\n",
      "Wall time: 1.82 ms\n"
     ]
    },
    {
     "name": "stderr",
     "output_type": "stream",
     "text": [
      "\n"
     ]
    }
   ],
   "source": [
    "%%time\n",
    "# search in range\n",
    "for i in tqdm(range(-1000, 1000)):\n",
    "    i in r"
   ]
  },
  {
   "cell_type": "markdown",
   "id": "f479b6b7-a041-4673-a119-67584d81570e",
   "metadata": {},
   "source": [
    "### Dict"
   ]
  },
  {
   "cell_type": "code",
   "execution_count": 40,
   "id": "ce5e13d2-7a47-4d17-9920-443338857af2",
   "metadata": {},
   "outputs": [],
   "source": [
    "d = {\"k1\": \"v1\", \"k2\": \"v2\"}\n",
    "s = {1,2,3}"
   ]
  },
  {
   "cell_type": "code",
   "execution_count": 41,
   "id": "610c1deb",
   "metadata": {},
   "outputs": [
    {
     "name": "stdout",
     "output_type": "stream",
     "text": [
      "{}\n",
      "\n",
      "v1\n",
      "{'k2': 'v2'}\n",
      "\n",
      "{'k2': 'v2'}\n"
     ]
    }
   ],
   "source": [
    "# clear & del & pop\n",
    "d.clear()\n",
    "print(d)\n",
    "print()\n",
    "\n",
    "d = {\"k1\": \"v1\", \"k2\": \"v2\"}\n",
    "el = d.pop(\"k1\")\n",
    "print(el)\n",
    "print(d)\n",
    "print()\n",
    "\n",
    "d = {\"k1\": \"v1\", \"k2\": \"v2\"}\n",
    "del d[\"k1\"]\n",
    "print(d)"
   ]
  },
  {
   "cell_type": "code",
   "execution_count": 42,
   "id": "b3664d7a",
   "metadata": {},
   "outputs": [
    {
     "name": "stdout",
     "output_type": "stream",
     "text": [
      "{'k1': range(0, 10), 'k2': range(0, 10)}\n",
      "{'k1': range(0, 10), 'k2': range(0, 10)}\n"
     ]
    }
   ],
   "source": [
    "# generate dict fromkeys\n",
    "print(dict.fromkeys((\"k1\", \"k2\"), range(10)))\n",
    "d = {\"k1\": \"v1\", \"k2\": \"v2\"}\n",
    "print(d.fromkeys((\"k1\", \"k2\"), range(10)))"
   ]
  },
  {
   "cell_type": "code",
   "execution_count": 43,
   "id": "804ccc29",
   "metadata": {},
   "outputs": [
    {
     "name": "stdout",
     "output_type": "stream",
     "text": [
      "v1\n",
      "some text\n"
     ]
    }
   ],
   "source": [
    "# get\n",
    "print(d.get(\"k1\", \"some text\"))\n",
    "print(d.get(\"k3\", \"some text\"))"
   ]
  },
  {
   "cell_type": "code",
   "execution_count": 44,
   "id": "6f0e0fa7",
   "metadata": {},
   "outputs": [
    {
     "name": "stdout",
     "output_type": "stream",
     "text": [
      "dict_keys(['k1', 'k2']) <class 'dict_keys'>\n",
      "dict_values(['v1', 'v2']) <class 'dict_values'>\n"
     ]
    }
   ],
   "source": [
    "# keys & values\n",
    "keys = d.keys()\n",
    "values = d.values()\n",
    "print(keys, type(keys))\n",
    "print(values, type(values))"
   ]
  },
  {
   "cell_type": "code",
   "execution_count": 45,
   "id": "15dbdece",
   "metadata": {},
   "outputs": [
    {
     "name": "stdout",
     "output_type": "stream",
     "text": [
      "v1\n",
      "{'k1': 'v1', 'k2': 'v2'}\n",
      "VALUE\n",
      "{'k1': 'v1', 'k2': 'v2', 'k3': 'VALUE'}\n"
     ]
    }
   ],
   "source": [
    "# setdefault\n",
    "res = d.setdefault(\"k1\", \"VALUE\")\n",
    "print(res)\n",
    "print(d)\n",
    "\n",
    "res = d.setdefault(\"k3\", \"VALUE\")\n",
    "print(res)\n",
    "print(d)"
   ]
  },
  {
   "cell_type": "code",
   "execution_count": 46,
   "id": "9d99b324",
   "metadata": {},
   "outputs": [
    {
     "name": "stdout",
     "output_type": "stream",
     "text": [
      "{'k1': 'v1', 'k2': 'v2', 'k3': 'v3', 'k4': [1, 2, 3]}\n"
     ]
    }
   ],
   "source": [
    "# update\n",
    "d.update({\"k3\": \"v3\", \"k4\": [1,2,3]})\n",
    "print(d)"
   ]
  },
  {
   "cell_type": "markdown",
   "id": "adb9eb88",
   "metadata": {},
   "source": [
    "### Set"
   ]
  },
  {
   "cell_type": "code",
   "execution_count": 47,
   "id": "f24cabe5",
   "metadata": {},
   "outputs": [],
   "source": [
    "s1 = {1,2,3,4}\n",
    "s2 = {3,4,5,6}"
   ]
  },
  {
   "cell_type": "code",
   "execution_count": 48,
   "id": "65ebd449",
   "metadata": {},
   "outputs": [
    {
     "name": "stdout",
     "output_type": "stream",
     "text": [
      "{1, 2, 3, 4, 9}\n"
     ]
    }
   ],
   "source": [
    "# add\n",
    "s1.add(1) # inplace\n",
    "s1.add(9) # inplace\n",
    "print(s1)"
   ]
  },
  {
   "cell_type": "code",
   "execution_count": 49,
   "id": "0035834c",
   "metadata": {},
   "outputs": [
    {
     "name": "stdout",
     "output_type": "stream",
     "text": [
      "{1, 2, 3, 4}\n"
     ]
    }
   ],
   "source": [
    "# remove\n",
    "s1.remove(9)\n",
    "print(s1)"
   ]
  },
  {
   "cell_type": "code",
   "execution_count": 50,
   "id": "30daae26",
   "metadata": {},
   "outputs": [
    {
     "name": "stdout",
     "output_type": "stream",
     "text": [
      "{1, 2, 3, 4, 5, 6}\n",
      "{3, 4}\n",
      "{1, 2}\n",
      "{1, 2, 5, 6}\n"
     ]
    }
   ],
   "source": [
    "# union & intersection & difference & symmetric_difference\n",
    "print(s1.union(s2)) # объединение\n",
    "print(s1.intersection(s2)) # пересечение\n",
    "print(s1.difference(s2)) # входят в s1, но не в s2\n",
    "print(s1.symmetric_difference(s2)) # не входят в s1 и s2 одновременно"
   ]
  },
  {
   "cell_type": "code",
   "execution_count": 51,
   "id": "d9df7481",
   "metadata": {},
   "outputs": [
    {
     "name": "stdout",
     "output_type": "stream",
     "text": [
      "{1, 2, 3, 4, 5, 6}\n",
      "{3, 4}\n",
      "{1, 2}\n",
      "{1, 2, 5, 6}\n"
     ]
    }
   ],
   "source": [
    "# union & intersection & difference & symmetric_difference\n",
    "print(s1 | s2) # объединение\n",
    "print(s1 & s2) # пересечение\n",
    "print(s1 - s2) # входят в s1, но не в s2\n",
    "print(s1 ^ s2) # не входят в s1 и s2 одновременно"
   ]
  },
  {
   "cell_type": "markdown",
   "id": "bea66f28",
   "metadata": {},
   "source": [
    "## Задачки\n",
    "\n",
    "1. На вход подается строка (задайте как переменную). Необходимо вернуть длину последнего слова в строке. Всё, что разделено пробелами - слово `text,.;)))) 123` - здесь два слова\\\n",
    "Пример:\n",
    "```\n",
    "s = \"my text\"\n",
    "out: 4\n",
    "```\n",
    "\n",
    "2. Дана строка 1 и строка 2, найти первое вхождение строки 2 в строку 1. Если не найдется, вернуть -1.\n",
    "3. На вход подаются три строки, вернуть список всех символов, которые встречаются одновременно во всех трех строках."
   ]
  },
  {
   "cell_type": "markdown",
   "id": "3f193973-b56e-4398-ab15-849d4b5902ac",
   "metadata": {},
   "source": [
    "## Циклы: for, while loops"
   ]
  },
  {
   "cell_type": "markdown",
   "id": "2df456af",
   "metadata": {},
   "source": [
    "### While"
   ]
  },
  {
   "cell_type": "code",
   "execution_count": 52,
   "id": "4ec5217c",
   "metadata": {},
   "outputs": [
    {
     "name": "stdout",
     "output_type": "stream",
     "text": [
      "5\n",
      "4\n",
      "3\n",
      "2\n",
      "1\n"
     ]
    }
   ],
   "source": [
    "# while\n",
    "i = 5\n",
    "while i > 0:\n",
    "    print(i)\n",
    "    i -= 1"
   ]
  },
  {
   "cell_type": "code",
   "execution_count": 53,
   "id": "df9df86b",
   "metadata": {},
   "outputs": [
    {
     "name": "stdout",
     "output_type": "stream",
     "text": [
      "1\n",
      "1\n",
      "my text\n",
      "my text\n",
      "0\n"
     ]
    }
   ],
   "source": [
    "# infinity loop: break\n",
    "while 42:\n",
    "    inp = input()\n",
    "    if inp == \"0\":\n",
    "        break\n",
    "    print(inp)"
   ]
  },
  {
   "cell_type": "code",
   "execution_count": 54,
   "id": "f088089e",
   "metadata": {},
   "outputs": [
    {
     "name": "stdout",
     "output_type": "stream",
     "text": [
      "2\n",
      "2\n",
      "1\n",
      "0\n"
     ]
    }
   ],
   "source": [
    "# infinity loop: continue\n",
    "while 42:\n",
    "    inp = input()\n",
    "    if inp == \"0\":\n",
    "        break\n",
    "    elif inp == \"1\":\n",
    "        continue\n",
    "    print(inp)"
   ]
  },
  {
   "cell_type": "code",
   "execution_count": 55,
   "id": "6cd82b15",
   "metadata": {},
   "outputs": [
    {
     "name": "stdout",
     "output_type": "stream",
     "text": [
      "3\n",
      "3\n",
      "2\n",
      "2\n",
      "1\n",
      "0\n"
     ]
    }
   ],
   "source": [
    "# infinity loop: pass\n",
    "while 42:\n",
    "    inp = input()\n",
    "    if inp == \"0\":\n",
    "        break\n",
    "    elif inp == \"1\":\n",
    "        continue\n",
    "    elif inp == \"2\":\n",
    "        pass\n",
    "    print(inp)"
   ]
  },
  {
   "cell_type": "code",
   "execution_count": 56,
   "id": "25450b1c",
   "metadata": {},
   "outputs": [
    {
     "name": "stdout",
     "output_type": "stream",
     "text": [
      "1.6666666666666667\n",
      "2.5\n",
      "5.0\n"
     ]
    },
    {
     "ename": "ZeroDivisionError",
     "evalue": "division by zero",
     "output_type": "error",
     "traceback": [
      "\u001b[0;31m---------------------------------------------------------------------------\u001b[0m",
      "\u001b[0;31mZeroDivisionError\u001b[0m                         Traceback (most recent call last)",
      "Cell \u001b[0;32mIn[56], line 4\u001b[0m\n\u001b[1;32m      2\u001b[0m i \u001b[38;5;241m=\u001b[39m \u001b[38;5;241m3\u001b[39m\n\u001b[1;32m      3\u001b[0m \u001b[38;5;28;01mwhile\u001b[39;00m i \u001b[38;5;241m>\u001b[39m\u001b[38;5;241m=\u001b[39m \u001b[38;5;241m-\u001b[39m\u001b[38;5;241m2\u001b[39m:\n\u001b[0;32m----> 4\u001b[0m     \u001b[38;5;28mprint\u001b[39m(\u001b[38;5;241;43m5\u001b[39;49m\u001b[43m \u001b[49m\u001b[38;5;241;43m/\u001b[39;49m\u001b[43m \u001b[49m\u001b[43mi\u001b[49m)\n\u001b[1;32m      5\u001b[0m     i \u001b[38;5;241m-\u001b[39m\u001b[38;5;241m=\u001b[39m \u001b[38;5;241m1\u001b[39m\n",
      "\u001b[0;31mZeroDivisionError\u001b[0m: division by zero"
     ]
    }
   ],
   "source": [
    "# try except\n",
    "i = 3\n",
    "while i >= -2:\n",
    "    print(5 / i)\n",
    "    i -= 1"
   ]
  },
  {
   "cell_type": "code",
   "execution_count": 57,
   "id": "27cbdad1",
   "metadata": {},
   "outputs": [
    {
     "name": "stdout",
     "output_type": "stream",
     "text": [
      "1.6666666666666667\n",
      "2.5\n",
      "5.0\n",
      "i equal to 0\n",
      "-5.0\n",
      "-2.5\n"
     ]
    }
   ],
   "source": [
    "# try except\n",
    "i = 3\n",
    "while i >= -2:\n",
    "    try:\n",
    "        print(5 / i)\n",
    "    except:\n",
    "        print(f\"i equal to 0\")\n",
    "    i -= 1"
   ]
  },
  {
   "cell_type": "code",
   "execution_count": 60,
   "id": "cbe6d1df",
   "metadata": {},
   "outputs": [
    {
     "name": "stdout",
     "output_type": "stream",
     "text": [
      "1.6666666666666667\n",
      "2.5\n",
      "5.0\n",
      "division by zero\n",
      "-5.0\n",
      "-2.5\n"
     ]
    }
   ],
   "source": [
    "# try except\n",
    "i = 3\n",
    "while i >= -2:\n",
    "    try:\n",
    "        print(5 / i)\n",
    "    except Exception as e:\n",
    "        print(e)\n",
    "    i -= 1"
   ]
  },
  {
   "cell_type": "markdown",
   "id": "e11ea7d8",
   "metadata": {},
   "source": [
    "### For loop"
   ]
  },
  {
   "cell_type": "code",
   "execution_count": 61,
   "id": "32402d03",
   "metadata": {},
   "outputs": [
    {
     "name": "stdout",
     "output_type": "stream",
     "text": [
      "0 1 2 3 4 \n",
      "0 1 2 3 4 \n"
     ]
    }
   ],
   "source": [
    "# for loop\n",
    "for i in range(5):\n",
    "    print(i, end=\" \")\n",
    "print()\n",
    "    \n",
    "for i in [0,1,2,3,4]:\n",
    "    print(i, end=\" \")\n",
    "print()"
   ]
  },
  {
   "cell_type": "code",
   "execution_count": 62,
   "id": "3b40c57c",
   "metadata": {},
   "outputs": [
    {
     "name": "stdout",
     "output_type": "stream",
     "text": [
      "1 odd\n",
      "2 even\n",
      "3 odd\n",
      "4 even\n"
     ]
    }
   ],
   "source": [
    "# for loop\n",
    "for i in range(5):\n",
    "    if i == 0:\n",
    "        continue\n",
    "    if i % 2 == 0:\n",
    "        print(i, \"even\")\n",
    "    elif i % 2 != 0:\n",
    "        print(i, \"odd\")"
   ]
  },
  {
   "cell_type": "code",
   "execution_count": 63,
   "id": "3d39a82c",
   "metadata": {},
   "outputs": [
    {
     "name": "stdout",
     "output_type": "stream",
     "text": [
      "k1 k2 \n",
      "k1 k2 \n",
      "k1 v1 | k2 v2 | "
     ]
    }
   ],
   "source": [
    "# for loop: dict\n",
    "d = {\"k1\": \"v1\", \"k2\": \"v2\"}\n",
    "\n",
    "for k in d:\n",
    "    print(k, end=\" \")\n",
    "print()\n",
    "\n",
    "for k in d.keys():\n",
    "    print(k, end=\" \")\n",
    "print()\n",
    "\n",
    "for k, v in d.items():\n",
    "    print(k, v, end=\" | \")"
   ]
  },
  {
   "cell_type": "code",
   "execution_count": 64,
   "id": "6598aa6e",
   "metadata": {},
   "outputs": [
    {
     "name": "stdout",
     "output_type": "stream",
     "text": [
      "[2, 3, 4]\n",
      "[1, 2, 3, 4, 5, 6, 7, 8, 9]\n"
     ]
    }
   ],
   "source": [
    "# for loop in one row\n",
    "l = [1,2,3]\n",
    "print([i+1 for i in l])\n",
    "\n",
    "l = [[1,2,3], [4,5,6], [7,8,9]]\n",
    "print([v for l1 in l for v in l1])"
   ]
  },
  {
   "cell_type": "code",
   "execution_count": 65,
   "id": "7e70535d",
   "metadata": {},
   "outputs": [
    {
     "name": "stdout",
     "output_type": "stream",
     "text": [
      "0 5\n",
      "1 6\n",
      "2 7\n",
      "3 8\n",
      "4 9\n"
     ]
    }
   ],
   "source": [
    "# enumerate\n",
    "for idx, val in enumerate(range(5, 10)):\n",
    "    print(idx, val)"
   ]
  },
  {
   "cell_type": "code",
   "execution_count": 66,
   "id": "574d5a75",
   "metadata": {},
   "outputs": [
    {
     "name": "stdout",
     "output_type": "stream",
     "text": [
      "1 4\n",
      "2 5\n",
      "3 6\n",
      "\n",
      "(1, 4)\n",
      "(2, 5)\n",
      "(3, 6)\n"
     ]
    }
   ],
   "source": [
    "# zip\n",
    "l1 = [1,2,3]\n",
    "l2 = [4,5,6]\n",
    "for v1, v2 in zip(l1, l2):\n",
    "    print(v1, v2)\n",
    "print()\n",
    "    \n",
    "for v in zip(l1, l2):\n",
    "    print(v)"
   ]
  },
  {
   "cell_type": "markdown",
   "id": "0a8c0eb8",
   "metadata": {},
   "source": [
    "## Задачки\n",
    "\n",
    "1. На вход подается N строк, вернуть список всех символов, которые встречаются одновременно во всех строках.\n",
    "\n",
    "2. Напишите программу, которая считывает с консоли числа (по одному в строке) до тех пор, пока сумма введённых чисел не будет равна 0 и сразу после этого выводит сумму квадратов всех считанных чисел.\n",
    "\n",
    "```\n",
    "inp: 1\n",
    "inp: 2\n",
    "inp: -3\n",
    "out: 1^2 + 2^2 + 3^2 = 14\n",
    "\n",
    "```\n",
    "\n",
    "3. На вход подается список целых чисел и target. Верните два индексы двух чисел, таких, что их сумма равна target.\n",
    "```\n",
    "l = [1,2,3,5,4]\n",
    "target = 4\n",
    "out: [0, 2]\n",
    "```\n",
    "\n",
    "4. Дан список строк, найти наибольший общий префикс для всех строк.\n",
    "```\n",
    "Example 1:\n",
    "    Input: strs = [\"flower\",\"flow\",\"flight\"]\n",
    "    Output: \"fl\"\n",
    "Example 2:\n",
    "    Input: strs = [\"dog\",\"racecar\",\"car\"]\n",
    "    Output: \"\"\n",
    "```\n",
    "\n",
    "5. На вход подается строка, которая содержит только символы `'(', ')', '{', '}', '[', ']'`, определить, является ли строка валидной, т.е.:\\\n",
    "    a. Открытые скобки должны закрываться таким же типом скобок\\\n",
    "    b. Открытые скобки должны закрываться в том же порядке\\\n",
    "    c. В итоге все скобки должны быть закрыты\n",
    "    \n",
    "```\n",
    "Example 1:\n",
    "    Input: s = \"()\"\n",
    "    Output: true\n",
    "Example 2:\n",
    "    Input: s = \"()[]{}\"\n",
    "    Output: true\n",
    "Example 3:\n",
    "    Input: s = \"(]\"\n",
    "    Output: false\n",
    "\n",
    "```"
   ]
  }
 ],
 "metadata": {
  "kernelspec": {
   "display_name": "Python 3 (ipykernel)",
   "language": "python",
   "name": "python3"
  },
  "language_info": {
   "codemirror_mode": {
    "name": "ipython",
    "version": 3
   },
   "file_extension": ".py",
   "mimetype": "text/x-python",
   "name": "python",
   "nbconvert_exporter": "python",
   "pygments_lexer": "ipython3",
   "version": "3.10.14"
  }
 },
 "nbformat": 4,
 "nbformat_minor": 5
}
